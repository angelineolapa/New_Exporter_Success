{
 "cells": [
  {
   "cell_type": "markdown",
   "id": "c9ae394d-3727-42c1-bf4c-f7c6d7ecc19e",
   "metadata": {},
   "source": [
    "# ML Zoomcamp Capstone Project II - New Exporter Success "
   ]
  },
  {
   "cell_type": "markdown",
   "id": "d07a4e78-c54f-4aff-a42f-9bdc43caa14b",
   "metadata": {},
   "source": [
    "## Libraries and data"
   ]
  },
  {
   "cell_type": "code",
   "execution_count": 1,
   "id": "1b824c57-b5a6-48d5-a67f-2af2e26c63d2",
   "metadata": {},
   "outputs": [],
   "source": [
    "#Import Libraries\n",
    "import pandas as pd\n",
    "import numpy as np\n",
    "\n",
    "import seaborn as sns\n",
    "from matplotlib import pyplot as plt\n",
    "\n",
    "from IPython.display import display\n",
    "from tqdm.auto import tqdm\n",
    "\n",
    "import statsmodels.api as sm\n",
    "\n",
    "from sklearn.model_selection import train_test_split\n",
    "from sklearn.metrics import mutual_info_score\n",
    "from sklearn.feature_extraction import DictVectorizer\n",
    "from sklearn.linear_model import LogisticRegression\n",
    "from sklearn.metrics import accuracy_score\n",
    "from sklearn.metrics import precision_score\n",
    "from sklearn.metrics import recall_score\n",
    "from sklearn.metrics import roc_auc_score\n",
    "from sklearn.metrics import average_precision_score\n",
    "from sklearn.metrics import roc_curve\n",
    "from sklearn.metrics import precision_recall_curve\n",
    "from sklearn.model_selection import KFold\n",
    "from sklearn.tree import export_text\n",
    "from sklearn.tree import DecisionTreeClassifier\n",
    "from sklearn.ensemble import RandomForestClassifier\n",
    "\n",
    "import xgboost as xgb\n",
    "import pickle"
   ]
  },
  {
   "cell_type": "code",
   "execution_count": 2,
   "id": "2f824384-d866-4155-909e-ccd819f2faea",
   "metadata": {},
   "outputs": [],
   "source": [
    "#Select variables of interest\n",
    "numeric_vars = [\"pnk\", \"fobdol\", \"freight\", \"insurance\", \"other_expenses\", \"product_national\",\n",
    "                \"gdp_pc\", \"active_markets\", \"active_products\", \"exports_value\", \"active_years\"]\n",
    "categorical_vars = [\"region\", \"subregion\", \"fta\", \"spanish\", \"english\"]\n",
    "id_vars = [\"exporter\", \"product\", \"market\", \"dpto1\", \"year\", \"success\"]\n",
    "selected_vars = numeric_vars + categorical_vars + id_vars"
   ]
  },
  {
   "cell_type": "code",
   "execution_count": 3,
   "id": "4009689d-3183-44a1-9576-7521a493c97e",
   "metadata": {},
   "outputs": [],
   "source": [
    "data_types = {\"exporter\":str, \"product\":str, \"market\":str, \"dpto1\":str, \"year\":int, \"success\":int, \n",
    "              \"pnk\": float, \"fobdol\": float, \"product_national\":float, \"freight\":float, \n",
    "              \"insurance\":float, \"other_expenses\":float, \"exports_value\":float, \"gdp_pc\":float, \n",
    "              \"active_markets\":int,\"active_products\":int, \"active_years\":int,\n",
    "              \"fta\":\"category\", \"region\":\"category\", \"subregion\":\"category\", \"spanish\":\"category\", \"english\":\"category\"}"
   ]
  },
  {
   "cell_type": "code",
   "execution_count": 4,
   "id": "1bb2b190-59a9-459e-b160-76bc9838c46d",
   "metadata": {},
   "outputs": [],
   "source": [
    "#Import data - all steps to obtain this dataset are available in the notebook DatabaseGenerator.ipynb\n",
<<<<<<< HEAD
    "new_exporters = pd.read_csv(\"..\\WebApp\\Data\\NewExporters.csv\", sep=\";\", usecols=selected_vars, dtype=data_types)"
=======
    "new_exporters = pd.read_csv(\"..\WebApp\Data\NewExporters.csv\", sep=\";\", usecols=selected_vars, dtype=data_types)"
>>>>>>> b6a223d7f431498e1d208630be53fe3e1e143d9c
   ]
  },
  {
   "cell_type": "code",
   "execution_count": 5,
   "id": "6136adc6-b222-4b7d-af8b-0e5b048d19b8",
   "metadata": {},
   "outputs": [
    {
     "name": "stdout",
     "output_type": "stream",
     "text": [
      "The variables in the dataset are: Index(['exporter', 'product', 'market', 'year', 'success', 'pnk', 'fobdol',\n",
      "       'product_national', 'freight', 'insurance', 'other_expenses',\n",
      "       'active_markets', 'active_products', 'exports_value', 'active_years',\n",
      "       'dpto1', 'fta', 'gdp_pc', 'region', 'subregion', 'spanish', 'english'],\n",
      "      dtype='object')\n"
     ]
    }
   ],
   "source": [
    "#Variables in data base\n",
    "print(\"The variables in the dataset are:\", new_exporters.columns)"
   ]
  },
  {
   "cell_type": "code",
   "execution_count": 6,
   "id": "882cc9b1-ad4f-4907-8971-b5ef017b7fe2",
   "metadata": {},
   "outputs": [],
   "source": [
    "var_names ={\"pnk\":\"Net Weight (kgs)\", \n",
    "            \"fobdol\":\"FOB Value (USD)\", \n",
    "            \"freight\":\"Freight (USD)\", \n",
    "            \"insurance\":\"Insurance (USD)\", \n",
    "            \"other_expenses\": \"Other Expenses (USD)\", \n",
    "            \"product_national\":\"National production for product traded (USD)\", \n",
    "            \"gdp_pc\":\"GDP per capita\", \n",
    "            \"active_markets\":\"Export markets in previous year\", \n",
    "            \"active_years\":\"Export experience in years\",\n",
    "            \"active_products\":\"Export products in previous year\", \n",
    "            \"exports_value\":\"Exports in previous year (USD)\", \n",
    "            \"fta\":\"FTA in new market\", \n",
    "            \"region\":\"Region of new market\", \n",
    "            \"subregion\":\"Subregion of new market\", \n",
    "            \"exporter\":\"Exporter\", \n",
    "            \"product\":\"HS code of product traded\",\n",
    "            \"market\":\"Destination market\",\n",
    "            \"year\":\"Year\", \n",
    "            \"success\":\"Success of new exporter\",\n",
    "            \"spanish\":\"Spanish is an official language in new market\",\n",
    "            \"english\":\"English is an official language in new market\"}"
   ]
  },
  {
   "cell_type": "code",
   "execution_count": 7,
   "id": "9a9a5c63-995d-41ee-a5b6-f1423bf9ffc6",
   "metadata": {},
   "outputs": [
    {
     "name": "stdout",
     "output_type": "stream",
     "text": [
      "<class 'pandas.core.frame.DataFrame'>\n",
      "RangeIndex: 135639 entries, 0 to 135638\n",
      "Data columns (total 22 columns):\n",
      " #   Column            Non-Null Count   Dtype   \n",
      "---  ------            --------------   -----   \n",
      " 0   exporter          135639 non-null  object  \n",
      " 1   product           135639 non-null  object  \n",
      " 2   market            135639 non-null  object  \n",
      " 3   year              135639 non-null  int64   \n",
      " 4   success           135639 non-null  int64   \n",
      " 5   pnk               135639 non-null  float64 \n",
      " 6   fobdol            135639 non-null  float64 \n",
      " 7   product_national  135639 non-null  float64 \n",
      " 8   freight           135639 non-null  float64 \n",
      " 9   insurance         135639 non-null  float64 \n",
      " 10  other_expenses    135639 non-null  float64 \n",
      " 11  active_markets    135639 non-null  int64   \n",
      " 12  active_products   135639 non-null  int64   \n",
      " 13  exports_value     135639 non-null  float64 \n",
      " 14  active_years      135639 non-null  int64   \n",
      " 15  dpto1             135639 non-null  object  \n",
      " 16  fta               135639 non-null  category\n",
      " 17  gdp_pc            131821 non-null  float64 \n",
      " 18  region            135639 non-null  category\n",
      " 19  subregion         135639 non-null  category\n",
      " 20  spanish           135639 non-null  category\n",
      " 21  english           135639 non-null  category\n",
      "dtypes: category(5), float64(8), int64(5), object(4)\n",
      "memory usage: 18.2+ MB\n"
     ]
    }
   ],
   "source": [
    "#Explore dataset\n",
    "new_exporters.info()"
   ]
  },
  {
   "cell_type": "code",
   "execution_count": 8,
   "id": "ec91d2bb-b5ff-4bca-9649-646998be7df6",
   "metadata": {},
   "outputs": [
    {
     "name": "stdout",
     "output_type": "stream",
     "text": [
      "Total records after removing NaN values: (131821, 22)\n"
     ]
    }
   ],
   "source": [
    "#Drop records for which gdp_pc is not available - mostly small markets\n",
    "new_exporters = new_exporters[new_exporters[\"gdp_pc\"].isna()==False]\n",
    "new_exporters.reset_index(inplace=True, drop=True)\n",
    "print(\"Total records after removing NaN values:\", new_exporters.shape)"
   ]
  },
  {
   "cell_type": "code",
   "execution_count": 9,
   "id": "f157d343-9d00-4716-9b22-4f01a71ea6ec",
   "metadata": {},
   "outputs": [
    {
     "name": "stdout",
     "output_type": "stream",
     "text": [
      "Total records after removing missing department records values: (131821, 22)\n"
     ]
    }
   ],
   "source": [
    "#Drop records for which exporter department was not reported\n",
    "new_exporters = new_exporters[new_exporters[\"dpto1\"]!=\"55\"]\n",
    "new_exporters.reset_index(inplace=True, drop=True)\n",
    "print(\"Total records after removing missing department records values:\", new_exporters.shape)"
   ]
  },
  {
   "cell_type": "markdown",
   "id": "e92a2fc1-9698-437f-ac04-eb4c26c4365c",
   "metadata": {},
   "source": [
    "### Additional features "
   ]
  },
  {
   "cell_type": "code",
   "execution_count": 10,
   "id": "bb30ecc6-268d-4c9a-8c4c-1def2babebed",
   "metadata": {},
   "outputs": [],
   "source": [
    "#Exporter regions\n",
    "def region_identifier(depto):\n",
    "    if depto in [\"08\", \"13\", \"20\", \"23\", \"44\", \"47\", \"70\"]:\n",
    "        return \"caribe\"\n",
    "    elif depto in [\"05\", \"17\", \"63\", \"66\"]:\n",
    "        return \"cafetera\"\n",
    "    elif depto in [\"19\", \"27\", \"52\", \"76\"]:\n",
    "        return \"pacifica\"\n",
    "    elif depto in [\"11\", \"15\", \"25\", \"41\", \"54\", \"68\", \"73\"]:\n",
    "        return \"central\"\n",
    "    elif depto in [\"50\", \"81\", \"85\", \"99\"]:\n",
    "        return \"llanos\"\n",
    "    else:\n",
    "        return \"amazonia\"\n",
    "\n",
    "new_exporters[\"exp_region\"] = new_exporters[\"dpto1\"].apply(region_identifier)\n",
    "new_exporters[\"exp_region\"] = new_exporters[\"exp_region\"].astype(\"category\") \n",
    "var_names[\"exp_region\"] = \"Colombian region where exporter is based\"\n",
    "categorical_vars = categorical_vars + [\"exp_region\"]"
   ]
  },
  {
   "cell_type": "code",
   "execution_count": 11,
   "id": "72f13603-18a2-46bc-988c-ddcde1f51291",
   "metadata": {},
   "outputs": [
    {
     "data": {
      "text/html": [
       "<div>\n",
       "<style scoped>\n",
       "    .dataframe tbody tr th:only-of-type {\n",
       "        vertical-align: middle;\n",
       "    }\n",
       "\n",
       "    .dataframe tbody tr th {\n",
       "        vertical-align: top;\n",
       "    }\n",
       "\n",
       "    .dataframe thead th {\n",
       "        text-align: right;\n",
       "    }\n",
       "</style>\n",
       "<table border=\"1\" class=\"dataframe\">\n",
       "  <thead>\n",
       "    <tr style=\"text-align: right;\">\n",
       "      <th></th>\n",
       "      <th>section</th>\n",
       "      <th>chapter</th>\n",
       "    </tr>\n",
       "  </thead>\n",
       "  <tbody>\n",
       "    <tr>\n",
       "      <th>0</th>\n",
       "      <td>section_i</td>\n",
       "      <td>1</td>\n",
       "    </tr>\n",
       "    <tr>\n",
       "      <th>1</th>\n",
       "      <td>section_i</td>\n",
       "      <td>2</td>\n",
       "    </tr>\n",
       "  </tbody>\n",
       "</table>\n",
       "</div>"
      ],
      "text/plain": [
       "     section  chapter\n",
       "0  section_i        1\n",
       "1  section_i        2"
      ]
     },
     "execution_count": 11,
     "metadata": {},
     "output_type": "execute_result"
    }
   ],
   "source": [
    "#Product classification by HS sections\n",
<<<<<<< HEAD
    "hs_sections = pd.read_csv(\"..\\WebApp\\Data\\hs_sections.csv\", usecols=[\"section\", \"chapter\"], sep=\";\", encoding = \"ISO-8859-1\")\n",
=======
    "hs_sections = pd.read_csv(\"..\WebApp\Data\hs_sections.csv\", usecols=[\"section\", \"chapter\"], sep=\";\", encoding = \"ISO-8859-1\")\n",
>>>>>>> b6a223d7f431498e1d208630be53fe3e1e143d9c
    "hs_sections.head(2)"
   ]
  },
  {
   "cell_type": "code",
   "execution_count": 12,
   "id": "ddc6cfd5-9b14-44c7-9dab-0d637f1a04bc",
   "metadata": {},
   "outputs": [],
   "source": [
    "#Product classifications\n",
    "def product_classifier(product):\n",
    "    section = hs_sections[hs_sections[\"chapter\"]==int(product[0:2])][\"section\"].values[0]\n",
    "    return section\n",
    "\n",
    "new_exporters[\"prod_class\"] = new_exporters[\"product\"].apply(product_classifier)\n",
    "new_exporters[\"prod_class\"] = new_exporters[\"prod_class\"].astype(\"category\") \n",
    "var_names[\"prod_class\"] = \"HS system section for product traded\"\n",
    "categorical_vars = categorical_vars + [\"prod_class\"]"
   ]
  },
  {
   "cell_type": "code",
   "execution_count": 13,
   "id": "1f08ff7d-6a56-4cf1-bfb1-2f9bedf786f0",
   "metadata": {},
   "outputs": [
    {
     "data": {
      "text/html": [
       "<div>\n",
       "<style scoped>\n",
       "    .dataframe tbody tr th:only-of-type {\n",
       "        vertical-align: middle;\n",
       "    }\n",
       "\n",
       "    .dataframe tbody tr th {\n",
       "        vertical-align: top;\n",
       "    }\n",
       "\n",
       "    .dataframe thead th {\n",
       "        text-align: right;\n",
       "    }\n",
       "</style>\n",
       "<table border=\"1\" class=\"dataframe\">\n",
       "  <thead>\n",
       "    <tr style=\"text-align: right;\">\n",
       "      <th></th>\n",
       "      <th>exporter</th>\n",
       "      <th>product</th>\n",
       "      <th>market</th>\n",
       "      <th>year</th>\n",
       "      <th>success</th>\n",
       "      <th>pnk</th>\n",
       "      <th>fobdol</th>\n",
       "      <th>product_national</th>\n",
       "      <th>freight</th>\n",
       "      <th>insurance</th>\n",
       "      <th>...</th>\n",
       "      <th>dpto1</th>\n",
       "      <th>fta</th>\n",
       "      <th>gdp_pc</th>\n",
       "      <th>region</th>\n",
       "      <th>subregion</th>\n",
       "      <th>spanish</th>\n",
       "      <th>english</th>\n",
       "      <th>exp_region</th>\n",
       "      <th>prod_class</th>\n",
       "      <th>overall_exp</th>\n",
       "    </tr>\n",
       "  </thead>\n",
       "  <tbody>\n",
       "    <tr>\n",
       "      <th>0</th>\n",
       "      <td>000002988341</td>\n",
       "      <td>301110090</td>\n",
       "      <td>DEU</td>\n",
       "      <td>19</td>\n",
       "      <td>0</td>\n",
       "      <td>322.4</td>\n",
       "      <td>4495.4</td>\n",
       "      <td>0.0</td>\n",
       "      <td>0.0</td>\n",
       "      <td>0.0</td>\n",
       "      <td>...</td>\n",
       "      <td>11</td>\n",
       "      <td>1</td>\n",
       "      <td>54181.28</td>\n",
       "      <td>Europe</td>\n",
       "      <td>Central Europe</td>\n",
       "      <td>0</td>\n",
       "      <td>0</td>\n",
       "      <td>central</td>\n",
       "      <td>section_vi</td>\n",
       "      <td>0</td>\n",
       "    </tr>\n",
       "    <tr>\n",
       "      <th>1</th>\n",
       "      <td>000002988341</td>\n",
       "      <td>301110090</td>\n",
       "      <td>NOR</td>\n",
       "      <td>19</td>\n",
       "      <td>0</td>\n",
       "      <td>139.2</td>\n",
       "      <td>2096.5</td>\n",
       "      <td>0.0</td>\n",
       "      <td>1174.5</td>\n",
       "      <td>0.0</td>\n",
       "      <td>...</td>\n",
       "      <td>11</td>\n",
       "      <td>1</td>\n",
       "      <td>63164.04</td>\n",
       "      <td>Europe</td>\n",
       "      <td>Northern Europe</td>\n",
       "      <td>0</td>\n",
       "      <td>0</td>\n",
       "      <td>central</td>\n",
       "      <td>section_vi</td>\n",
       "      <td>0</td>\n",
       "    </tr>\n",
       "  </tbody>\n",
       "</table>\n",
       "<p>2 rows × 25 columns</p>\n",
       "</div>"
      ],
      "text/plain": [
       "       exporter    product market  year  success    pnk  fobdol  \\\n",
       "0  000002988341  301110090    DEU    19        0  322.4  4495.4   \n",
       "1  000002988341  301110090    NOR    19        0  139.2  2096.5   \n",
       "\n",
       "   product_national  freight  insurance  ...  dpto1  fta    gdp_pc  region  \\\n",
       "0               0.0      0.0        0.0  ...     11    1  54181.28  Europe   \n",
       "1               0.0   1174.5        0.0  ...     11    1  63164.04  Europe   \n",
       "\n",
       "         subregion spanish english  exp_region  prod_class overall_exp  \n",
       "0   Central Europe       0       0     central  section_vi           0  \n",
       "1  Northern Europe       0       0     central  section_vi           0  \n",
       "\n",
       "[2 rows x 25 columns]"
      ]
     },
     "execution_count": 13,
     "metadata": {},
     "output_type": "execute_result"
    }
   ],
   "source": [
    "#Interaction terms\n",
    "new_exporters = new_exporters.assign(overall_exp=new_exporters[\"active_years\"]*new_exporters[\"active_markets\"])\n",
    "new_exporters.head(2)"
   ]
  },
  {
   "cell_type": "code",
   "execution_count": 14,
   "id": "e8220d91-a139-4620-b5d1-9c07b2891d17",
   "metadata": {},
   "outputs": [
    {
     "data": {
      "text/html": [
       "<div>\n",
       "<style scoped>\n",
       "    .dataframe tbody tr th:only-of-type {\n",
       "        vertical-align: middle;\n",
       "    }\n",
       "\n",
       "    .dataframe tbody tr th {\n",
       "        vertical-align: top;\n",
       "    }\n",
       "\n",
       "    .dataframe thead th {\n",
       "        text-align: right;\n",
       "    }\n",
       "</style>\n",
       "<table border=\"1\" class=\"dataframe\">\n",
       "  <thead>\n",
       "    <tr style=\"text-align: right;\">\n",
       "      <th></th>\n",
       "      <th>year</th>\n",
       "      <th>success</th>\n",
       "      <th>pnk</th>\n",
       "      <th>fobdol</th>\n",
       "      <th>product_national</th>\n",
       "      <th>freight</th>\n",
       "      <th>insurance</th>\n",
       "      <th>other_expenses</th>\n",
       "      <th>active_markets</th>\n",
       "      <th>active_products</th>\n",
       "      <th>exports_value</th>\n",
       "      <th>active_years</th>\n",
       "      <th>gdp_pc</th>\n",
       "      <th>overall_exp</th>\n",
       "    </tr>\n",
       "  </thead>\n",
       "  <tbody>\n",
       "    <tr>\n",
       "      <th>count</th>\n",
       "      <td>131821.000000</td>\n",
       "      <td>131821.000000</td>\n",
       "      <td>1.318210e+05</td>\n",
       "      <td>1.318210e+05</td>\n",
       "      <td>1.318210e+05</td>\n",
       "      <td>1.318210e+05</td>\n",
       "      <td>131821.000000</td>\n",
       "      <td>131821.000000</td>\n",
       "      <td>131821.000000</td>\n",
       "      <td>131821.000000</td>\n",
       "      <td>1.318210e+05</td>\n",
       "      <td>131821.000000</td>\n",
       "      <td>131821.000000</td>\n",
       "      <td>131821.000000</td>\n",
       "    </tr>\n",
       "    <tr>\n",
       "      <th>mean</th>\n",
       "      <td>18.602279</td>\n",
       "      <td>0.518817</td>\n",
       "      <td>1.011711e+06</td>\n",
       "      <td>3.323517e+05</td>\n",
       "      <td>1.678296e+04</td>\n",
       "      <td>1.437748e+03</td>\n",
       "      <td>42.450110</td>\n",
       "      <td>107.302309</td>\n",
       "      <td>7.201629</td>\n",
       "      <td>14.560457</td>\n",
       "      <td>1.185213e+07</td>\n",
       "      <td>1.016796</td>\n",
       "      <td>26861.324953</td>\n",
       "      <td>9.604001</td>\n",
       "    </tr>\n",
       "    <tr>\n",
       "      <th>std</th>\n",
       "      <td>1.472115</td>\n",
       "      <td>0.499648</td>\n",
       "      <td>5.472464e+07</td>\n",
       "      <td>1.874620e+07</td>\n",
       "      <td>6.087792e+05</td>\n",
       "      <td>4.045655e+04</td>\n",
       "      <td>977.966387</td>\n",
       "      <td>2321.569944</td>\n",
       "      <td>9.158142</td>\n",
       "      <td>26.559617</td>\n",
       "      <td>1.235488e+08</td>\n",
       "      <td>1.327432</td>\n",
       "      <td>18962.702866</td>\n",
       "      <td>20.626317</td>\n",
       "    </tr>\n",
       "    <tr>\n",
       "      <th>min</th>\n",
       "      <td>17.000000</td>\n",
       "      <td>0.000000</td>\n",
       "      <td>0.000000e+00</td>\n",
       "      <td>1.000050e+03</td>\n",
       "      <td>0.000000e+00</td>\n",
       "      <td>0.000000e+00</td>\n",
       "      <td>0.000000</td>\n",
       "      <td>0.000000</td>\n",
       "      <td>0.000000</td>\n",
       "      <td>0.000000</td>\n",
       "      <td>0.000000e+00</td>\n",
       "      <td>0.000000</td>\n",
       "      <td>732.311000</td>\n",
       "      <td>0.000000</td>\n",
       "    </tr>\n",
       "    <tr>\n",
       "      <th>25%</th>\n",
       "      <td>17.000000</td>\n",
       "      <td>0.000000</td>\n",
       "      <td>1.000000e+02</td>\n",
       "      <td>2.410780e+03</td>\n",
       "      <td>0.000000e+00</td>\n",
       "      <td>0.000000e+00</td>\n",
       "      <td>0.000000</td>\n",
       "      <td>0.000000</td>\n",
       "      <td>1.000000</td>\n",
       "      <td>1.000000</td>\n",
       "      <td>2.152611e+04</td>\n",
       "      <td>0.000000</td>\n",
       "      <td>11623.720000</td>\n",
       "      <td>0.000000</td>\n",
       "    </tr>\n",
       "    <tr>\n",
       "      <th>50%</th>\n",
       "      <td>18.000000</td>\n",
       "      <td>1.000000</td>\n",
       "      <td>4.738000e+02</td>\n",
       "      <td>6.254680e+03</td>\n",
       "      <td>0.000000e+00</td>\n",
       "      <td>0.000000e+00</td>\n",
       "      <td>0.000000</td>\n",
       "      <td>0.000000</td>\n",
       "      <td>4.000000</td>\n",
       "      <td>5.000000</td>\n",
       "      <td>3.570005e+05</td>\n",
       "      <td>0.000000</td>\n",
       "      <td>19933.500000</td>\n",
       "      <td>0.000000</td>\n",
       "    </tr>\n",
       "    <tr>\n",
       "      <th>75%</th>\n",
       "      <td>20.000000</td>\n",
       "      <td>1.000000</td>\n",
       "      <td>3.056330e+03</td>\n",
       "      <td>2.212500e+04</td>\n",
       "      <td>0.000000e+00</td>\n",
       "      <td>1.718800e+02</td>\n",
       "      <td>0.000000</td>\n",
       "      <td>0.000000</td>\n",
       "      <td>10.000000</td>\n",
       "      <td>16.000000</td>\n",
       "      <td>2.831215e+06</td>\n",
       "      <td>2.000000</td>\n",
       "      <td>39626.470000</td>\n",
       "      <td>10.000000</td>\n",
       "    </tr>\n",
       "    <tr>\n",
       "      <th>max</th>\n",
       "      <td>21.000000</td>\n",
       "      <td>1.000000</td>\n",
       "      <td>1.047108e+10</td>\n",
       "      <td>3.816007e+09</td>\n",
       "      <td>1.179219e+08</td>\n",
       "      <td>9.542150e+06</td>\n",
       "      <td>183578.890000</td>\n",
       "      <td>327690.000000</td>\n",
       "      <td>89.000000</td>\n",
       "      <td>214.000000</td>\n",
       "      <td>8.974729e+09</td>\n",
       "      <td>4.000000</td>\n",
       "      <td>125279.570000</td>\n",
       "      <td>328.000000</td>\n",
       "    </tr>\n",
       "  </tbody>\n",
       "</table>\n",
       "</div>"
      ],
      "text/plain": [
       "                year        success           pnk        fobdol  \\\n",
       "count  131821.000000  131821.000000  1.318210e+05  1.318210e+05   \n",
       "mean       18.602279       0.518817  1.011711e+06  3.323517e+05   \n",
       "std         1.472115       0.499648  5.472464e+07  1.874620e+07   \n",
       "min        17.000000       0.000000  0.000000e+00  1.000050e+03   \n",
       "25%        17.000000       0.000000  1.000000e+02  2.410780e+03   \n",
       "50%        18.000000       1.000000  4.738000e+02  6.254680e+03   \n",
       "75%        20.000000       1.000000  3.056330e+03  2.212500e+04   \n",
       "max        21.000000       1.000000  1.047108e+10  3.816007e+09   \n",
       "\n",
       "       product_national       freight      insurance  other_expenses  \\\n",
       "count      1.318210e+05  1.318210e+05  131821.000000   131821.000000   \n",
       "mean       1.678296e+04  1.437748e+03      42.450110      107.302309   \n",
       "std        6.087792e+05  4.045655e+04     977.966387     2321.569944   \n",
       "min        0.000000e+00  0.000000e+00       0.000000        0.000000   \n",
       "25%        0.000000e+00  0.000000e+00       0.000000        0.000000   \n",
       "50%        0.000000e+00  0.000000e+00       0.000000        0.000000   \n",
       "75%        0.000000e+00  1.718800e+02       0.000000        0.000000   \n",
       "max        1.179219e+08  9.542150e+06  183578.890000   327690.000000   \n",
       "\n",
       "       active_markets  active_products  exports_value   active_years  \\\n",
       "count   131821.000000    131821.000000   1.318210e+05  131821.000000   \n",
       "mean         7.201629        14.560457   1.185213e+07       1.016796   \n",
       "std          9.158142        26.559617   1.235488e+08       1.327432   \n",
       "min          0.000000         0.000000   0.000000e+00       0.000000   \n",
       "25%          1.000000         1.000000   2.152611e+04       0.000000   \n",
       "50%          4.000000         5.000000   3.570005e+05       0.000000   \n",
       "75%         10.000000        16.000000   2.831215e+06       2.000000   \n",
       "max         89.000000       214.000000   8.974729e+09       4.000000   \n",
       "\n",
       "              gdp_pc    overall_exp  \n",
       "count  131821.000000  131821.000000  \n",
       "mean    26861.324953       9.604001  \n",
       "std     18962.702866      20.626317  \n",
       "min       732.311000       0.000000  \n",
       "25%     11623.720000       0.000000  \n",
       "50%     19933.500000       0.000000  \n",
       "75%     39626.470000      10.000000  \n",
       "max    125279.570000     328.000000  "
      ]
     },
     "execution_count": 14,
     "metadata": {},
     "output_type": "execute_result"
    }
   ],
   "source": [
    "new_exporters.describe()"
   ]
  },
  {
   "cell_type": "code",
   "execution_count": 15,
   "id": "69bbc575-8285-43db-9166-a5ebfbe875ab",
   "metadata": {},
   "outputs": [
    {
     "data": {
      "text/plain": [
       "1    68391\n",
       "0    63430\n",
       "Name: success, dtype: int64"
      ]
     },
     "execution_count": 15,
     "metadata": {},
     "output_type": "execute_result"
    }
   ],
   "source": [
    "new_exporters[\"success\"].value_counts()"
   ]
  },
  {
   "cell_type": "code",
   "execution_count": 16,
   "id": "10b8cad5-c87b-4257-8248-2d975532f93f",
   "metadata": {},
   "outputs": [
    {
     "data": {
      "image/png": "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\n",
      "text/plain": [
       "<Figure size 500x300 with 1 Axes>"
      ]
     },
     "metadata": {},
     "output_type": "display_data"
    }
   ],
   "source": [
    "#Verify whether that the data is imbalanced\n",
    "plt.figure(figsize=(5, 3))\n",
    "\n",
    "sns.countplot(x=new_exporters[\"success\"].astype(\"category\"))\n",
    "plt.ylabel(\"Frequency\", fontsize=8)\n",
    "plt.xlabel(\"Success of new exporters\", fontsize=8)\n",
    "plt.title(\"Success of new exporters (2017-2021)\", fontsize=10)\n",
    "plt.tick_params(axis='x', labelsize=8)\n",
    "plt.tick_params(axis='y', labelsize=8)\n",
    "plt.show()"
   ]
  },
  {
   "cell_type": "markdown",
   "id": "ea4a5789-3b17-4c81-9d8a-da398878ac16",
   "metadata": {},
   "source": [
    "## Exploratory data analysis"
   ]
  },
  {
   "cell_type": "markdown",
   "id": "c40fd49f-5175-43c8-8925-cb085fce9fd7",
   "metadata": {},
   "source": [
    "### Train and Test Sets"
   ]
  },
  {
   "cell_type": "code",
   "execution_count": 17,
   "id": "cb32da4b-25a4-4ee9-9d59-cf26946b901a",
   "metadata": {},
   "outputs": [],
   "source": [
    "#Divide in train, validation and test sets\n",
    "#Stratified sampling will be using to account for imbalanced nature of the data\n",
    "df_train_full, df_test = train_test_split(new_exporters, test_size=0.2, random_state=1, \n",
    "                                          stratify=new_exporters.success)\n",
    "df_train, df_val = train_test_split(df_train_full, test_size=0.33, random_state=1, \n",
    "                                    stratify=df_train_full.success)\n",
    "\n",
    "#Reset index\n",
    "df_train.reset_index(drop=True, inplace=True) \n",
    "df_val.reset_index(drop=True, inplace=True) \n",
    "df_test.reset_index(drop=True, inplace=True) "
   ]
  },
  {
   "cell_type": "code",
   "execution_count": 18,
   "id": "c0903038-473e-43e1-886b-56902c02570b",
   "metadata": {},
   "outputs": [],
   "source": [
    "#Calculate y_train, y_val and y_test variable for all sets\n",
    "y_train = df_train.success.values\n",
    "y_val = df_val.success.values\n",
    "y_test = df_test.success.values\n",
    "\n",
    "df_train.drop(\"success\", axis=1, inplace=True)\n",
    "df_val.drop(\"success\", axis=1, inplace=True)\n",
    "df_test.drop(\"success\", axis=1, inplace=True)"
   ]
  },
  {
   "cell_type": "markdown",
   "id": "b717167b-6993-49d8-8715-6a1aa2d660c1",
   "metadata": {},
   "source": [
    "### Dependent variable"
   ]
  },
  {
   "cell_type": "code",
   "execution_count": 19,
   "id": "2e33b7be-2a09-4fd6-b331-8fc5b74503a5",
   "metadata": {},
   "outputs": [
    {
     "data": {
      "image/png": "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\n",
      "text/plain": [
       "<Figure size 500x300 with 1 Axes>"
      ]
     },
     "metadata": {},
     "output_type": "display_data"
    }
   ],
   "source": [
    "plt.figure(figsize=(5, 3))\n",
    "\n",
    "sns.countplot(x=df_train_full[\"success\"].astype(\"category\"))\n",
    "plt.ylabel(\"Frequency\", fontsize=8)\n",
    "plt.xlabel(\"Success of new exporters\", fontsize=8)\n",
    "plt.title(\"Success of new exporters (2017-2021)\", fontsize=10)\n",
    "plt.tick_params(axis='x', labelsize=8)\n",
    "plt.tick_params(axis='y', labelsize=8)\n",
    "plt.show()"
   ]
  },
  {
   "cell_type": "code",
   "execution_count": 20,
   "id": "52bf2379-96e5-45d2-86bc-1b92023bd09a",
   "metadata": {},
   "outputs": [
    {
     "data": {
      "text/plain": [
       "0.518813533606433"
      ]
     },
     "execution_count": 20,
     "metadata": {},
     "output_type": "execute_result"
    }
   ],
   "source": [
    "#Percentage of confirmed success exporters\n",
    "success_rate = df_train_full[\"success\"].mean()\n",
    "success_rate"
   ]
  },
  {
   "cell_type": "markdown",
   "id": "d5b5a201-cad8-4afa-82ab-c96d672ebbac",
   "metadata": {},
   "source": [
    "### Feature Analysis"
   ]
  },
  {
   "cell_type": "code",
   "execution_count": 21,
   "id": "d3ebb324-1dc8-41e4-8da2-4df912dda140",
   "metadata": {},
   "outputs": [
    {
     "data": {
      "text/html": [
       "<div>\n",
       "<style scoped>\n",
       "    .dataframe tbody tr th:only-of-type {\n",
       "        vertical-align: middle;\n",
       "    }\n",
       "\n",
       "    .dataframe tbody tr th {\n",
       "        vertical-align: top;\n",
       "    }\n",
       "\n",
       "    .dataframe thead th {\n",
       "        text-align: right;\n",
       "    }\n",
       "</style>\n",
       "<table border=\"1\" class=\"dataframe\">\n",
       "  <thead>\n",
       "    <tr style=\"text-align: right;\">\n",
       "      <th></th>\n",
       "      <th>year</th>\n",
       "      <th>success</th>\n",
       "      <th>pnk</th>\n",
       "      <th>fobdol</th>\n",
       "      <th>product_national</th>\n",
       "      <th>freight</th>\n",
       "      <th>insurance</th>\n",
       "      <th>other_expenses</th>\n",
       "      <th>active_markets</th>\n",
       "      <th>active_products</th>\n",
       "      <th>exports_value</th>\n",
       "      <th>active_years</th>\n",
       "      <th>gdp_pc</th>\n",
       "      <th>overall_exp</th>\n",
       "    </tr>\n",
       "  </thead>\n",
       "  <tbody>\n",
       "    <tr>\n",
       "      <th>count</th>\n",
       "      <td>105456.000000</td>\n",
       "      <td>105456.000000</td>\n",
       "      <td>1.054560e+05</td>\n",
       "      <td>1.054560e+05</td>\n",
       "      <td>1.054560e+05</td>\n",
       "      <td>1.054560e+05</td>\n",
       "      <td>105456.000000</td>\n",
       "      <td>105456.000000</td>\n",
       "      <td>105456.000000</td>\n",
       "      <td>105456.000000</td>\n",
       "      <td>1.054560e+05</td>\n",
       "      <td>105456.000000</td>\n",
       "      <td>105456.000000</td>\n",
       "      <td>105456.000000</td>\n",
       "    </tr>\n",
       "    <tr>\n",
       "      <th>mean</th>\n",
       "      <td>18.603446</td>\n",
       "      <td>0.518814</td>\n",
       "      <td>1.085459e+06</td>\n",
       "      <td>3.586271e+05</td>\n",
       "      <td>1.579051e+04</td>\n",
       "      <td>1.389536e+03</td>\n",
       "      <td>42.645389</td>\n",
       "      <td>105.237057</td>\n",
       "      <td>7.182218</td>\n",
       "      <td>14.495420</td>\n",
       "      <td>1.162992e+07</td>\n",
       "      <td>1.017657</td>\n",
       "      <td>26907.457875</td>\n",
       "      <td>9.611127</td>\n",
       "    </tr>\n",
       "    <tr>\n",
       "      <th>std</th>\n",
       "      <td>1.472146</td>\n",
       "      <td>0.499648</td>\n",
       "      <td>6.033073e+07</td>\n",
       "      <td>2.080392e+07</td>\n",
       "      <td>5.506154e+05</td>\n",
       "      <td>4.046238e+04</td>\n",
       "      <td>1026.995813</td>\n",
       "      <td>2108.412365</td>\n",
       "      <td>9.119300</td>\n",
       "      <td>26.415099</td>\n",
       "      <td>1.211227e+08</td>\n",
       "      <td>1.327666</td>\n",
       "      <td>19008.176608</td>\n",
       "      <td>20.666881</td>\n",
       "    </tr>\n",
       "    <tr>\n",
       "      <th>min</th>\n",
       "      <td>17.000000</td>\n",
       "      <td>0.000000</td>\n",
       "      <td>0.000000e+00</td>\n",
       "      <td>1.000050e+03</td>\n",
       "      <td>0.000000e+00</td>\n",
       "      <td>0.000000e+00</td>\n",
       "      <td>0.000000</td>\n",
       "      <td>0.000000</td>\n",
       "      <td>0.000000</td>\n",
       "      <td>0.000000</td>\n",
       "      <td>0.000000e+00</td>\n",
       "      <td>0.000000</td>\n",
       "      <td>732.311000</td>\n",
       "      <td>0.000000</td>\n",
       "    </tr>\n",
       "    <tr>\n",
       "      <th>25%</th>\n",
       "      <td>17.000000</td>\n",
       "      <td>0.000000</td>\n",
       "      <td>1.000000e+02</td>\n",
       "      <td>2.400000e+03</td>\n",
       "      <td>0.000000e+00</td>\n",
       "      <td>0.000000e+00</td>\n",
       "      <td>0.000000</td>\n",
       "      <td>0.000000</td>\n",
       "      <td>1.000000</td>\n",
       "      <td>1.000000</td>\n",
       "      <td>2.172977e+04</td>\n",
       "      <td>0.000000</td>\n",
       "      <td>11623.720000</td>\n",
       "      <td>0.000000</td>\n",
       "    </tr>\n",
       "    <tr>\n",
       "      <th>50%</th>\n",
       "      <td>18.000000</td>\n",
       "      <td>1.000000</td>\n",
       "      <td>4.753050e+02</td>\n",
       "      <td>6.239400e+03</td>\n",
       "      <td>0.000000e+00</td>\n",
       "      <td>0.000000e+00</td>\n",
       "      <td>0.000000</td>\n",
       "      <td>0.000000</td>\n",
       "      <td>4.000000</td>\n",
       "      <td>5.000000</td>\n",
       "      <td>3.577528e+05</td>\n",
       "      <td>0.000000</td>\n",
       "      <td>19933.500000</td>\n",
       "      <td>0.000000</td>\n",
       "    </tr>\n",
       "    <tr>\n",
       "      <th>75%</th>\n",
       "      <td>20.000000</td>\n",
       "      <td>1.000000</td>\n",
       "      <td>3.077510e+03</td>\n",
       "      <td>2.222100e+04</td>\n",
       "      <td>0.000000e+00</td>\n",
       "      <td>1.676250e+02</td>\n",
       "      <td>0.000000</td>\n",
       "      <td>0.000000</td>\n",
       "      <td>10.000000</td>\n",
       "      <td>16.000000</td>\n",
       "      <td>2.786891e+06</td>\n",
       "      <td>2.000000</td>\n",
       "      <td>39626.470000</td>\n",
       "      <td>10.000000</td>\n",
       "    </tr>\n",
       "    <tr>\n",
       "      <th>max</th>\n",
       "      <td>21.000000</td>\n",
       "      <td>1.000000</td>\n",
       "      <td>1.047108e+10</td>\n",
       "      <td>3.816007e+09</td>\n",
       "      <td>1.179219e+08</td>\n",
       "      <td>9.542150e+06</td>\n",
       "      <td>183578.890000</td>\n",
       "      <td>255539.870000</td>\n",
       "      <td>89.000000</td>\n",
       "      <td>214.000000</td>\n",
       "      <td>8.974729e+09</td>\n",
       "      <td>4.000000</td>\n",
       "      <td>125279.570000</td>\n",
       "      <td>328.000000</td>\n",
       "    </tr>\n",
       "  </tbody>\n",
       "</table>\n",
       "</div>"
      ],
      "text/plain": [
       "                year        success           pnk        fobdol  \\\n",
       "count  105456.000000  105456.000000  1.054560e+05  1.054560e+05   \n",
       "mean       18.603446       0.518814  1.085459e+06  3.586271e+05   \n",
       "std         1.472146       0.499648  6.033073e+07  2.080392e+07   \n",
       "min        17.000000       0.000000  0.000000e+00  1.000050e+03   \n",
       "25%        17.000000       0.000000  1.000000e+02  2.400000e+03   \n",
       "50%        18.000000       1.000000  4.753050e+02  6.239400e+03   \n",
       "75%        20.000000       1.000000  3.077510e+03  2.222100e+04   \n",
       "max        21.000000       1.000000  1.047108e+10  3.816007e+09   \n",
       "\n",
       "       product_national       freight      insurance  other_expenses  \\\n",
       "count      1.054560e+05  1.054560e+05  105456.000000   105456.000000   \n",
       "mean       1.579051e+04  1.389536e+03      42.645389      105.237057   \n",
       "std        5.506154e+05  4.046238e+04    1026.995813     2108.412365   \n",
       "min        0.000000e+00  0.000000e+00       0.000000        0.000000   \n",
       "25%        0.000000e+00  0.000000e+00       0.000000        0.000000   \n",
       "50%        0.000000e+00  0.000000e+00       0.000000        0.000000   \n",
       "75%        0.000000e+00  1.676250e+02       0.000000        0.000000   \n",
       "max        1.179219e+08  9.542150e+06  183578.890000   255539.870000   \n",
       "\n",
       "       active_markets  active_products  exports_value   active_years  \\\n",
       "count   105456.000000    105456.000000   1.054560e+05  105456.000000   \n",
       "mean         7.182218        14.495420   1.162992e+07       1.017657   \n",
       "std          9.119300        26.415099   1.211227e+08       1.327666   \n",
       "min          0.000000         0.000000   0.000000e+00       0.000000   \n",
       "25%          1.000000         1.000000   2.172977e+04       0.000000   \n",
       "50%          4.000000         5.000000   3.577528e+05       0.000000   \n",
       "75%         10.000000        16.000000   2.786891e+06       2.000000   \n",
       "max         89.000000       214.000000   8.974729e+09       4.000000   \n",
       "\n",
       "              gdp_pc    overall_exp  \n",
       "count  105456.000000  105456.000000  \n",
       "mean    26907.457875       9.611127  \n",
       "std     19008.176608      20.666881  \n",
       "min       732.311000       0.000000  \n",
       "25%     11623.720000       0.000000  \n",
       "50%     19933.500000       0.000000  \n",
       "75%     39626.470000      10.000000  \n",
       "max    125279.570000     328.000000  "
      ]
     },
     "execution_count": 21,
     "metadata": {},
     "output_type": "execute_result"
    }
   ],
   "source": [
    "df_train_full.describe()"
   ]
  },
  {
   "cell_type": "code",
   "execution_count": 22,
   "id": "b112d7f7-fc55-433a-8521-3831a64bd482",
   "metadata": {},
   "outputs": [
    {
     "data": {
      "image/png": "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\n",
      "text/plain": [
       "<Figure size 600x1000 with 3 Axes>"
      ]
     },
     "metadata": {},
     "output_type": "display_data"
    }
   ],
   "source": [
    "#Histograms for selected variables\n",
    "hist_vars = [\"gdp_pc\", \"active_markets\", \"active_products\"]\n",
    "fig, axs = plt.subplots(nrows=len(hist_vars), ncols=1)\n",
    "fig.subplots_adjust(hspace=0.5, wspace=0.3)\n",
    "fig.set_size_inches(6, 10)\n",
    "for ax, var in zip(axs.flat,hist_vars):\n",
    "    ax.hist(x=df_train_full[var], bins=50, color=\"indigo\")\n",
    "    ax.set_title(label=var_names[var], fontsize=8)\n",
    "    ax.tick_params(axis='x', labelsize=8)\n",
    "    ax.tick_params(axis='y', labelsize=8)"
   ]
  },
  {
   "cell_type": "code",
   "execution_count": 23,
   "id": "6b0b604d-d786-490e-81a3-182b85241d8b",
   "metadata": {},
   "outputs": [
    {
     "data": {
      "image/png": "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\n",
      "text/plain": [
       "<Figure size 1200x1000 with 8 Axes>"
      ]
     },
     "metadata": {},
     "output_type": "display_data"
    }
   ],
   "source": [
    "#Boxplots for selected variables\n",
    "boxp_vars = [\"pnk\", \"fobdol\", \"freight\", \"insurance\", \"other_expenses\", \"product_national\", \"exports_value\", \"gdp_pc\"]\n",
    "fig, axs = plt.subplots(nrows=int(len(boxp_vars)/2), ncols=2)\n",
    "fig.subplots_adjust(hspace=0.5, wspace=0.3)\n",
    "fig.set_size_inches(12, 10)\n",
    "for ax, var in zip(axs.flat,boxp_vars):\n",
    "    sns.boxplot(data=df_train_full[[\"year\", var]], x=\"year\", y=var, ax=ax, color=\"blue\")\n",
    "    ax.set_title(label=var_names[var], fontsize=8)\n",
    "    ax.tick_params(axis='x', labelsize=6)\n",
    "    ax.tick_params(axis='y', labelsize=6)"
   ]
  },
  {
   "cell_type": "code",
   "execution_count": 24,
   "id": "37504ca3-96d1-4ea9-b214-b8ea2c3c85c1",
   "metadata": {},
   "outputs": [
    {
     "data": {
      "image/png": "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\n",
      "text/plain": [
       "<Figure size 600x1000 with 5 Axes>"
      ]
     },
     "metadata": {},
     "output_type": "display_data"
    }
   ],
   "source": [
    "#Countplots for selected categorical variables\n",
    "countp_vars = [\"region\", \"fta\", \"active_years\", \"spanish\", \"english\"]\n",
    "fig, axs = plt.subplots(nrows=len(countp_vars), ncols=1)\n",
    "fig.subplots_adjust(hspace=0.6, wspace=0.2)\n",
    "fig.set_size_inches(6, 10)\n",
    "for ax, var in zip(axs.flat,countp_vars):\n",
    "    sns.countplot(x=df_train_full[var], ax=ax)\n",
    "    ax.set_title(label=var_names[var], fontsize=8)\n",
    "    ax.set_xlabel(\" \")\n",
    "    ax.set_ylabel(\" \")\n",
    "    ax.tick_params(axis='x', rotation=45, labelsize=6)\n",
    "    ax.tick_params(axis='y', labelsize=8)    \n"
   ]
  },
  {
   "cell_type": "markdown",
   "id": "00331eae-52a7-499e-80a6-febac0eb64ca",
   "metadata": {},
   "source": [
    "### Feature Importance"
   ]
  },
  {
   "cell_type": "markdown",
   "id": "9342fe59-24e0-4110-9bbd-749d7847f7c3",
   "metadata": {},
   "source": [
    "#### Categorical Variables"
   ]
  },
  {
   "cell_type": "code",
   "execution_count": 25,
   "id": "cdb97359-389c-4173-acfe-193f92845b99",
   "metadata": {},
   "outputs": [
    {
     "data": {
      "text/plain": [
       "1    0.518814\n",
       "0    0.481186\n",
       "Name: success, dtype: float64"
      ]
     },
     "execution_count": 25,
     "metadata": {},
     "output_type": "execute_result"
    }
   ],
   "source": [
    "df_train_full.success.value_counts(normalize=True)"
   ]
  },
  {
   "cell_type": "code",
   "execution_count": 26,
   "id": "c4571046-f743-4754-9563-454e7cd93cfc",
   "metadata": {},
   "outputs": [
    {
     "name": "stdout",
     "output_type": "stream",
     "text": [
      "Success ratio: 0.518813533606433\n"
     ]
    },
    {
     "data": {
      "text/html": [
       "<div>\n",
       "<style scoped>\n",
       "    .dataframe tbody tr th:only-of-type {\n",
       "        vertical-align: middle;\n",
       "    }\n",
       "\n",
       "    .dataframe tbody tr th {\n",
       "        vertical-align: top;\n",
       "    }\n",
       "\n",
       "    .dataframe thead th {\n",
       "        text-align: right;\n",
       "    }\n",
       "</style>\n",
       "<table border=\"1\" class=\"dataframe\">\n",
       "  <thead>\n",
       "    <tr style=\"text-align: right;\">\n",
       "      <th></th>\n",
       "      <th>mean</th>\n",
       "      <th>diff</th>\n",
       "      <th>risk</th>\n",
       "    </tr>\n",
       "    <tr>\n",
       "      <th>Region of new market</th>\n",
       "      <th></th>\n",
       "      <th></th>\n",
       "      <th></th>\n",
       "    </tr>\n",
       "  </thead>\n",
       "  <tbody>\n",
       "    <tr>\n",
       "      <th>Africa</th>\n",
       "      <td>0.415742</td>\n",
       "      <td>-0.103072</td>\n",
       "      <td>0.801332</td>\n",
       "    </tr>\n",
       "    <tr>\n",
       "      <th>Americas</th>\n",
       "      <td>0.520861</td>\n",
       "      <td>0.002048</td>\n",
       "      <td>1.003947</td>\n",
       "    </tr>\n",
       "    <tr>\n",
       "      <th>Asia</th>\n",
       "      <td>0.508597</td>\n",
       "      <td>-0.010217</td>\n",
       "      <td>0.980307</td>\n",
       "    </tr>\n",
       "    <tr>\n",
       "      <th>Europe</th>\n",
       "      <td>0.515942</td>\n",
       "      <td>-0.002872</td>\n",
       "      <td>0.994465</td>\n",
       "    </tr>\n",
       "    <tr>\n",
       "      <th>Oceania</th>\n",
       "      <td>0.553665</td>\n",
       "      <td>0.034851</td>\n",
       "      <td>1.067175</td>\n",
       "    </tr>\n",
       "  </tbody>\n",
       "</table>\n",
       "</div>"
      ],
      "text/plain": [
       "                          mean      diff      risk\n",
       "Region of new market                              \n",
       "Africa                0.415742 -0.103072  0.801332\n",
       "Americas              0.520861  0.002048  1.003947\n",
       "Asia                  0.508597 -0.010217  0.980307\n",
       "Europe                0.515942 -0.002872  0.994465\n",
       "Oceania               0.553665  0.034851  1.067175"
      ]
     },
     "metadata": {},
     "output_type": "display_data"
    },
    {
     "data": {
      "text/html": [
       "<div>\n",
       "<style scoped>\n",
       "    .dataframe tbody tr th:only-of-type {\n",
       "        vertical-align: middle;\n",
       "    }\n",
       "\n",
       "    .dataframe tbody tr th {\n",
       "        vertical-align: top;\n",
       "    }\n",
       "\n",
       "    .dataframe thead th {\n",
       "        text-align: right;\n",
       "    }\n",
       "</style>\n",
       "<table border=\"1\" class=\"dataframe\">\n",
       "  <thead>\n",
       "    <tr style=\"text-align: right;\">\n",
       "      <th></th>\n",
       "      <th>mean</th>\n",
       "      <th>diff</th>\n",
       "      <th>risk</th>\n",
       "    </tr>\n",
       "    <tr>\n",
       "      <th>Subregion of new market</th>\n",
       "      <th></th>\n",
       "      <th></th>\n",
       "      <th></th>\n",
       "    </tr>\n",
       "  </thead>\n",
       "  <tbody>\n",
       "    <tr>\n",
       "      <th>Australia and New Zealand</th>\n",
       "      <td>0.557065</td>\n",
       "      <td>0.038252</td>\n",
       "      <td>1.073729</td>\n",
       "    </tr>\n",
       "    <tr>\n",
       "      <th>Caribbean</th>\n",
       "      <td>0.513268</td>\n",
       "      <td>-0.005545</td>\n",
       "      <td>0.989312</td>\n",
       "    </tr>\n",
       "    <tr>\n",
       "      <th>Central America</th>\n",
       "      <td>0.527243</td>\n",
       "      <td>0.008429</td>\n",
       "      <td>1.016247</td>\n",
       "    </tr>\n",
       "    <tr>\n",
       "      <th>Central Asia</th>\n",
       "      <td>0.736842</td>\n",
       "      <td>0.218029</td>\n",
       "      <td>1.420245</td>\n",
       "    </tr>\n",
       "    <tr>\n",
       "      <th>Central Europe</th>\n",
       "      <td>0.496042</td>\n",
       "      <td>-0.022771</td>\n",
       "      <td>0.956109</td>\n",
       "    </tr>\n",
       "    <tr>\n",
       "      <th>Eastern Africa</th>\n",
       "      <td>0.485549</td>\n",
       "      <td>-0.033264</td>\n",
       "      <td>0.935884</td>\n",
       "    </tr>\n",
       "    <tr>\n",
       "      <th>Eastern Asia</th>\n",
       "      <td>0.535062</td>\n",
       "      <td>0.016249</td>\n",
       "      <td>1.031319</td>\n",
       "    </tr>\n",
       "    <tr>\n",
       "      <th>Eastern Europe</th>\n",
       "      <td>0.549361</td>\n",
       "      <td>0.030548</td>\n",
       "      <td>1.058880</td>\n",
       "    </tr>\n",
       "    <tr>\n",
       "      <th>Melanesia</th>\n",
       "      <td>0.440000</td>\n",
       "      <td>-0.078814</td>\n",
       "      <td>0.848089</td>\n",
       "    </tr>\n",
       "    <tr>\n",
       "      <th>Micronesia</th>\n",
       "      <td>0.000000</td>\n",
       "      <td>-0.518814</td>\n",
       "      <td>0.000000</td>\n",
       "    </tr>\n",
       "    <tr>\n",
       "      <th>Middle Africa</th>\n",
       "      <td>0.280000</td>\n",
       "      <td>-0.238814</td>\n",
       "      <td>0.539693</td>\n",
       "    </tr>\n",
       "    <tr>\n",
       "      <th>North America</th>\n",
       "      <td>0.481906</td>\n",
       "      <td>-0.036908</td>\n",
       "      <td>0.928861</td>\n",
       "    </tr>\n",
       "    <tr>\n",
       "      <th>Northern Africa</th>\n",
       "      <td>0.442857</td>\n",
       "      <td>-0.075956</td>\n",
       "      <td>0.853596</td>\n",
       "    </tr>\n",
       "    <tr>\n",
       "      <th>Northern America</th>\n",
       "      <td>0.534411</td>\n",
       "      <td>0.015598</td>\n",
       "      <td>1.030064</td>\n",
       "    </tr>\n",
       "    <tr>\n",
       "      <th>Northern Europe</th>\n",
       "      <td>0.530660</td>\n",
       "      <td>0.011847</td>\n",
       "      <td>1.022834</td>\n",
       "    </tr>\n",
       "    <tr>\n",
       "      <th>Polynesia</th>\n",
       "      <td>1.000000</td>\n",
       "      <td>0.481186</td>\n",
       "      <td>1.927475</td>\n",
       "    </tr>\n",
       "    <tr>\n",
       "      <th>South America</th>\n",
       "      <td>0.518837</td>\n",
       "      <td>0.000023</td>\n",
       "      <td>1.000045</td>\n",
       "    </tr>\n",
       "    <tr>\n",
       "      <th>South-Eastern Asia</th>\n",
       "      <td>0.463661</td>\n",
       "      <td>-0.055152</td>\n",
       "      <td>0.893696</td>\n",
       "    </tr>\n",
       "    <tr>\n",
       "      <th>Southern Africa</th>\n",
       "      <td>0.440299</td>\n",
       "      <td>-0.078515</td>\n",
       "      <td>0.848664</td>\n",
       "    </tr>\n",
       "    <tr>\n",
       "      <th>Southern Asia</th>\n",
       "      <td>0.462366</td>\n",
       "      <td>-0.056448</td>\n",
       "      <td>0.891198</td>\n",
       "    </tr>\n",
       "    <tr>\n",
       "      <th>Southern Europe</th>\n",
       "      <td>0.511875</td>\n",
       "      <td>-0.006939</td>\n",
       "      <td>0.986626</td>\n",
       "    </tr>\n",
       "    <tr>\n",
       "      <th>Western Africa</th>\n",
       "      <td>0.395722</td>\n",
       "      <td>-0.123092</td>\n",
       "      <td>0.762744</td>\n",
       "    </tr>\n",
       "    <tr>\n",
       "      <th>Western Asia</th>\n",
       "      <td>0.498760</td>\n",
       "      <td>-0.020053</td>\n",
       "      <td>0.961348</td>\n",
       "    </tr>\n",
       "    <tr>\n",
       "      <th>Western Europe</th>\n",
       "      <td>0.515420</td>\n",
       "      <td>-0.003393</td>\n",
       "      <td>0.993459</td>\n",
       "    </tr>\n",
       "  </tbody>\n",
       "</table>\n",
       "</div>"
      ],
      "text/plain": [
       "                               mean      diff      risk\n",
       "Subregion of new market                                \n",
       "Australia and New Zealand  0.557065  0.038252  1.073729\n",
       "Caribbean                  0.513268 -0.005545  0.989312\n",
       "Central America            0.527243  0.008429  1.016247\n",
       "Central Asia               0.736842  0.218029  1.420245\n",
       "Central Europe             0.496042 -0.022771  0.956109\n",
       "Eastern Africa             0.485549 -0.033264  0.935884\n",
       "Eastern Asia               0.535062  0.016249  1.031319\n",
       "Eastern Europe             0.549361  0.030548  1.058880\n",
       "Melanesia                  0.440000 -0.078814  0.848089\n",
       "Micronesia                 0.000000 -0.518814  0.000000\n",
       "Middle Africa              0.280000 -0.238814  0.539693\n",
       "North America              0.481906 -0.036908  0.928861\n",
       "Northern Africa            0.442857 -0.075956  0.853596\n",
       "Northern America           0.534411  0.015598  1.030064\n",
       "Northern Europe            0.530660  0.011847  1.022834\n",
       "Polynesia                  1.000000  0.481186  1.927475\n",
       "South America              0.518837  0.000023  1.000045\n",
       "South-Eastern Asia         0.463661 -0.055152  0.893696\n",
       "Southern Africa            0.440299 -0.078515  0.848664\n",
       "Southern Asia              0.462366 -0.056448  0.891198\n",
       "Southern Europe            0.511875 -0.006939  0.986626\n",
       "Western Africa             0.395722 -0.123092  0.762744\n",
       "Western Asia               0.498760 -0.020053  0.961348\n",
       "Western Europe             0.515420 -0.003393  0.993459"
      ]
     },
     "metadata": {},
     "output_type": "display_data"
    },
    {
     "data": {
      "text/html": [
       "<div>\n",
       "<style scoped>\n",
       "    .dataframe tbody tr th:only-of-type {\n",
       "        vertical-align: middle;\n",
       "    }\n",
       "\n",
       "    .dataframe tbody tr th {\n",
       "        vertical-align: top;\n",
       "    }\n",
       "\n",
       "    .dataframe thead th {\n",
       "        text-align: right;\n",
       "    }\n",
       "</style>\n",
       "<table border=\"1\" class=\"dataframe\">\n",
       "  <thead>\n",
       "    <tr style=\"text-align: right;\">\n",
       "      <th></th>\n",
       "      <th>mean</th>\n",
       "      <th>diff</th>\n",
       "      <th>risk</th>\n",
       "    </tr>\n",
       "    <tr>\n",
       "      <th>FTA in new market</th>\n",
       "      <th></th>\n",
       "      <th></th>\n",
       "      <th></th>\n",
       "    </tr>\n",
       "  </thead>\n",
       "  <tbody>\n",
       "    <tr>\n",
       "      <th>0</th>\n",
       "      <td>0.502061</td>\n",
       "      <td>-0.016752</td>\n",
       "      <td>0.967710</td>\n",
       "    </tr>\n",
       "    <tr>\n",
       "      <th>1</th>\n",
       "      <td>0.521974</td>\n",
       "      <td>0.003161</td>\n",
       "      <td>1.006092</td>\n",
       "    </tr>\n",
       "  </tbody>\n",
       "</table>\n",
       "</div>"
      ],
      "text/plain": [
       "                       mean      diff      risk\n",
       "FTA in new market                              \n",
       "0                  0.502061 -0.016752  0.967710\n",
       "1                  0.521974  0.003161  1.006092"
      ]
     },
     "metadata": {},
     "output_type": "display_data"
    },
    {
     "data": {
      "text/html": [
       "<div>\n",
       "<style scoped>\n",
       "    .dataframe tbody tr th:only-of-type {\n",
       "        vertical-align: middle;\n",
       "    }\n",
       "\n",
       "    .dataframe tbody tr th {\n",
       "        vertical-align: top;\n",
       "    }\n",
       "\n",
       "    .dataframe thead th {\n",
       "        text-align: right;\n",
       "    }\n",
       "</style>\n",
       "<table border=\"1\" class=\"dataframe\">\n",
       "  <thead>\n",
       "    <tr style=\"text-align: right;\">\n",
       "      <th></th>\n",
       "      <th>mean</th>\n",
       "      <th>diff</th>\n",
       "      <th>risk</th>\n",
       "    </tr>\n",
       "    <tr>\n",
       "      <th>Spanish is an official language in new market</th>\n",
       "      <th></th>\n",
       "      <th></th>\n",
       "      <th></th>\n",
       "    </tr>\n",
       "  </thead>\n",
       "  <tbody>\n",
       "    <tr>\n",
       "      <th>0</th>\n",
       "      <td>0.511487</td>\n",
       "      <td>-0.007327</td>\n",
       "      <td>0.985878</td>\n",
       "    </tr>\n",
       "    <tr>\n",
       "      <th>1</th>\n",
       "      <td>0.522731</td>\n",
       "      <td>0.003917</td>\n",
       "      <td>1.007550</td>\n",
       "    </tr>\n",
       "  </tbody>\n",
       "</table>\n",
       "</div>"
      ],
      "text/plain": [
       "                                                   mean      diff      risk\n",
       "Spanish is an official language in new market                              \n",
       "0                                              0.511487 -0.007327  0.985878\n",
       "1                                              0.522731  0.003917  1.007550"
      ]
     },
     "metadata": {},
     "output_type": "display_data"
    },
    {
     "data": {
      "text/html": [
       "<div>\n",
       "<style scoped>\n",
       "    .dataframe tbody tr th:only-of-type {\n",
       "        vertical-align: middle;\n",
       "    }\n",
       "\n",
       "    .dataframe tbody tr th {\n",
       "        vertical-align: top;\n",
       "    }\n",
       "\n",
       "    .dataframe thead th {\n",
       "        text-align: right;\n",
       "    }\n",
       "</style>\n",
       "<table border=\"1\" class=\"dataframe\">\n",
       "  <thead>\n",
       "    <tr style=\"text-align: right;\">\n",
       "      <th></th>\n",
       "      <th>mean</th>\n",
       "      <th>diff</th>\n",
       "      <th>risk</th>\n",
       "    </tr>\n",
       "    <tr>\n",
       "      <th>English is an official language in new market</th>\n",
       "      <th></th>\n",
       "      <th></th>\n",
       "      <th></th>\n",
       "    </tr>\n",
       "  </thead>\n",
       "  <tbody>\n",
       "    <tr>\n",
       "      <th>0</th>\n",
       "      <td>0.514932</td>\n",
       "      <td>-0.003882</td>\n",
       "      <td>0.992518</td>\n",
       "    </tr>\n",
       "    <tr>\n",
       "      <th>1</th>\n",
       "      <td>0.534389</td>\n",
       "      <td>0.015575</td>\n",
       "      <td>1.030020</td>\n",
       "    </tr>\n",
       "  </tbody>\n",
       "</table>\n",
       "</div>"
      ],
      "text/plain": [
       "                                                   mean      diff      risk\n",
       "English is an official language in new market                              \n",
       "0                                              0.514932 -0.003882  0.992518\n",
       "1                                              0.534389  0.015575  1.030020"
      ]
     },
     "metadata": {},
     "output_type": "display_data"
    },
    {
     "data": {
      "text/html": [
       "<div>\n",
       "<style scoped>\n",
       "    .dataframe tbody tr th:only-of-type {\n",
       "        vertical-align: middle;\n",
       "    }\n",
       "\n",
       "    .dataframe tbody tr th {\n",
       "        vertical-align: top;\n",
       "    }\n",
       "\n",
       "    .dataframe thead th {\n",
       "        text-align: right;\n",
       "    }\n",
       "</style>\n",
       "<table border=\"1\" class=\"dataframe\">\n",
       "  <thead>\n",
       "    <tr style=\"text-align: right;\">\n",
       "      <th></th>\n",
       "      <th>mean</th>\n",
       "      <th>diff</th>\n",
       "      <th>risk</th>\n",
       "    </tr>\n",
       "    <tr>\n",
       "      <th>Colombian region where exporter is based</th>\n",
       "      <th></th>\n",
       "      <th></th>\n",
       "      <th></th>\n",
       "    </tr>\n",
       "  </thead>\n",
       "  <tbody>\n",
       "    <tr>\n",
       "      <th>amazonia</th>\n",
       "      <td>0.539834</td>\n",
       "      <td>0.021021</td>\n",
       "      <td>1.040517</td>\n",
       "    </tr>\n",
       "    <tr>\n",
       "      <th>cafetera</th>\n",
       "      <td>0.559933</td>\n",
       "      <td>0.041119</td>\n",
       "      <td>1.079256</td>\n",
       "    </tr>\n",
       "    <tr>\n",
       "      <th>caribe</th>\n",
       "      <td>0.492979</td>\n",
       "      <td>-0.025834</td>\n",
       "      <td>0.950205</td>\n",
       "    </tr>\n",
       "    <tr>\n",
       "      <th>central</th>\n",
       "      <td>0.500682</td>\n",
       "      <td>-0.018132</td>\n",
       "      <td>0.965051</td>\n",
       "    </tr>\n",
       "    <tr>\n",
       "      <th>llanos</th>\n",
       "      <td>0.486692</td>\n",
       "      <td>-0.032122</td>\n",
       "      <td>0.938087</td>\n",
       "    </tr>\n",
       "    <tr>\n",
       "      <th>pacifica</th>\n",
       "      <td>0.539308</td>\n",
       "      <td>0.020494</td>\n",
       "      <td>1.039502</td>\n",
       "    </tr>\n",
       "  </tbody>\n",
       "</table>\n",
       "</div>"
      ],
      "text/plain": [
       "                                              mean      diff      risk\n",
       "Colombian region where exporter is based                              \n",
       "amazonia                                  0.539834  0.021021  1.040517\n",
       "cafetera                                  0.559933  0.041119  1.079256\n",
       "caribe                                    0.492979 -0.025834  0.950205\n",
       "central                                   0.500682 -0.018132  0.965051\n",
       "llanos                                    0.486692 -0.032122  0.938087\n",
       "pacifica                                  0.539308  0.020494  1.039502"
      ]
     },
     "metadata": {},
     "output_type": "display_data"
    },
    {
     "data": {
      "text/html": [
       "<div>\n",
       "<style scoped>\n",
       "    .dataframe tbody tr th:only-of-type {\n",
       "        vertical-align: middle;\n",
       "    }\n",
       "\n",
       "    .dataframe tbody tr th {\n",
       "        vertical-align: top;\n",
       "    }\n",
       "\n",
       "    .dataframe thead th {\n",
       "        text-align: right;\n",
       "    }\n",
       "</style>\n",
       "<table border=\"1\" class=\"dataframe\">\n",
       "  <thead>\n",
       "    <tr style=\"text-align: right;\">\n",
       "      <th></th>\n",
       "      <th>mean</th>\n",
       "      <th>diff</th>\n",
       "      <th>risk</th>\n",
       "    </tr>\n",
       "    <tr>\n",
       "      <th>HS system section for product traded</th>\n",
       "      <th></th>\n",
       "      <th></th>\n",
       "      <th></th>\n",
       "    </tr>\n",
       "  </thead>\n",
       "  <tbody>\n",
       "    <tr>\n",
       "      <th>section_ii</th>\n",
       "      <td>0.561798</td>\n",
       "      <td>0.042984</td>\n",
       "      <td>1.082851</td>\n",
       "    </tr>\n",
       "    <tr>\n",
       "      <th>section_iii</th>\n",
       "      <td>0.592668</td>\n",
       "      <td>0.073854</td>\n",
       "      <td>1.142353</td>\n",
       "    </tr>\n",
       "    <tr>\n",
       "      <th>section_iv</th>\n",
       "      <td>0.624345</td>\n",
       "      <td>0.105531</td>\n",
       "      <td>1.203408</td>\n",
       "    </tr>\n",
       "    <tr>\n",
       "      <th>section_ix</th>\n",
       "      <td>0.421815</td>\n",
       "      <td>-0.096999</td>\n",
       "      <td>0.813037</td>\n",
       "    </tr>\n",
       "    <tr>\n",
       "      <th>section_v</th>\n",
       "      <td>0.525520</td>\n",
       "      <td>0.006706</td>\n",
       "      <td>1.012926</td>\n",
       "    </tr>\n",
       "    <tr>\n",
       "      <th>section_vi</th>\n",
       "      <td>0.587344</td>\n",
       "      <td>0.068531</td>\n",
       "      <td>1.132091</td>\n",
       "    </tr>\n",
       "    <tr>\n",
       "      <th>section_vii</th>\n",
       "      <td>0.533715</td>\n",
       "      <td>0.014901</td>\n",
       "      <td>1.028722</td>\n",
       "    </tr>\n",
       "    <tr>\n",
       "      <th>section_viii</th>\n",
       "      <td>0.553166</td>\n",
       "      <td>0.034353</td>\n",
       "      <td>1.066214</td>\n",
       "    </tr>\n",
       "    <tr>\n",
       "      <th>section_x</th>\n",
       "      <td>0.572995</td>\n",
       "      <td>0.054181</td>\n",
       "      <td>1.104433</td>\n",
       "    </tr>\n",
       "    <tr>\n",
       "      <th>section_xi</th>\n",
       "      <td>0.574223</td>\n",
       "      <td>0.055410</td>\n",
       "      <td>1.106801</td>\n",
       "    </tr>\n",
       "    <tr>\n",
       "      <th>section_xii</th>\n",
       "      <td>0.499757</td>\n",
       "      <td>-0.019056</td>\n",
       "      <td>0.963269</td>\n",
       "    </tr>\n",
       "    <tr>\n",
       "      <th>section_xiii</th>\n",
       "      <td>0.557420</td>\n",
       "      <td>0.038607</td>\n",
       "      <td>1.074414</td>\n",
       "    </tr>\n",
       "    <tr>\n",
       "      <th>section_xiv</th>\n",
       "      <td>0.581931</td>\n",
       "      <td>0.063117</td>\n",
       "      <td>1.121657</td>\n",
       "    </tr>\n",
       "    <tr>\n",
       "      <th>section_xix</th>\n",
       "      <td>0.266667</td>\n",
       "      <td>-0.252147</td>\n",
       "      <td>0.513993</td>\n",
       "    </tr>\n",
       "    <tr>\n",
       "      <th>section_xv</th>\n",
       "      <td>0.486781</td>\n",
       "      <td>-0.032032</td>\n",
       "      <td>0.938258</td>\n",
       "    </tr>\n",
       "    <tr>\n",
       "      <th>section_xvi</th>\n",
       "      <td>0.364668</td>\n",
       "      <td>-0.154146</td>\n",
       "      <td>0.702888</td>\n",
       "    </tr>\n",
       "    <tr>\n",
       "      <th>section_xvii</th>\n",
       "      <td>0.471631</td>\n",
       "      <td>-0.047182</td>\n",
       "      <td>0.909057</td>\n",
       "    </tr>\n",
       "    <tr>\n",
       "      <th>section_xviii</th>\n",
       "      <td>0.482795</td>\n",
       "      <td>-0.036019</td>\n",
       "      <td>0.930574</td>\n",
       "    </tr>\n",
       "    <tr>\n",
       "      <th>section_xx</th>\n",
       "      <td>0.465969</td>\n",
       "      <td>-0.052845</td>\n",
       "      <td>0.898143</td>\n",
       "    </tr>\n",
       "    <tr>\n",
       "      <th>section_xxi</th>\n",
       "      <td>0.292683</td>\n",
       "      <td>-0.226131</td>\n",
       "      <td>0.564139</td>\n",
       "    </tr>\n",
       "    <tr>\n",
       "      <th>section_xxii</th>\n",
       "      <td>0.171429</td>\n",
       "      <td>-0.347385</td>\n",
       "      <td>0.330424</td>\n",
       "    </tr>\n",
       "  </tbody>\n",
       "</table>\n",
       "</div>"
      ],
      "text/plain": [
       "                                          mean      diff      risk\n",
       "HS system section for product traded                              \n",
       "section_ii                            0.561798  0.042984  1.082851\n",
       "section_iii                           0.592668  0.073854  1.142353\n",
       "section_iv                            0.624345  0.105531  1.203408\n",
       "section_ix                            0.421815 -0.096999  0.813037\n",
       "section_v                             0.525520  0.006706  1.012926\n",
       "section_vi                            0.587344  0.068531  1.132091\n",
       "section_vii                           0.533715  0.014901  1.028722\n",
       "section_viii                          0.553166  0.034353  1.066214\n",
       "section_x                             0.572995  0.054181  1.104433\n",
       "section_xi                            0.574223  0.055410  1.106801\n",
       "section_xii                           0.499757 -0.019056  0.963269\n",
       "section_xiii                          0.557420  0.038607  1.074414\n",
       "section_xiv                           0.581931  0.063117  1.121657\n",
       "section_xix                           0.266667 -0.252147  0.513993\n",
       "section_xv                            0.486781 -0.032032  0.938258\n",
       "section_xvi                           0.364668 -0.154146  0.702888\n",
       "section_xvii                          0.471631 -0.047182  0.909057\n",
       "section_xviii                         0.482795 -0.036019  0.930574\n",
       "section_xx                            0.465969 -0.052845  0.898143\n",
       "section_xxi                           0.292683 -0.226131  0.564139\n",
       "section_xxii                          0.171429 -0.347385  0.330424"
      ]
     },
     "metadata": {},
     "output_type": "display_data"
    }
   ],
   "source": [
    "#Mean comparison for categorical variables\n",
    "\n",
    "#Success ratio\n",
    "global_mean = np.mean(df_train_full.success.mean())\n",
    "print(\"Success ratio:\", global_mean)\n",
    "\n",
    "#Mean comparison\n",
    "for var in categorical_vars:\n",
    "    df_group = df_train_full.groupby(by=var).success.agg([\"mean\"])\n",
    "    df_group.index.name = var_names[var]\n",
    "    df_group[\"diff\"] = df_group[\"mean\"] - global_mean\n",
    "    df_group[\"risk\"] = df_group[\"mean\"] / global_mean\n",
    "    display(df_group) "
   ]
  },
  {
   "cell_type": "code",
   "execution_count": 27,
   "id": "4b7f40a2-25b1-46dd-bd43-fe6573b7c81c",
   "metadata": {},
   "outputs": [
    {
     "data": {
      "text/html": [
       "<div>\n",
       "<style scoped>\n",
       "    .dataframe tbody tr th:only-of-type {\n",
       "        vertical-align: middle;\n",
       "    }\n",
       "\n",
       "    .dataframe tbody tr th {\n",
       "        vertical-align: top;\n",
       "    }\n",
       "\n",
       "    .dataframe thead th {\n",
       "        text-align: right;\n",
       "    }\n",
       "</style>\n",
       "<table border=\"1\" class=\"dataframe\">\n",
       "  <thead>\n",
       "    <tr style=\"text-align: right;\">\n",
       "      <th></th>\n",
       "      <th>MI</th>\n",
       "    </tr>\n",
       "  </thead>\n",
       "  <tbody>\n",
       "    <tr>\n",
       "      <th>HS system section for product traded</th>\n",
       "      <td>0.012486</td>\n",
       "    </tr>\n",
       "    <tr>\n",
       "      <th>Colombian region where exporter is based</th>\n",
       "      <td>0.000884</td>\n",
       "    </tr>\n",
       "    <tr>\n",
       "      <th>Subregion of new market</th>\n",
       "      <td>0.000785</td>\n",
       "    </tr>\n",
       "    <tr>\n",
       "      <th>Region of new market</th>\n",
       "      <td>0.000240</td>\n",
       "    </tr>\n",
       "    <tr>\n",
       "      <th>English is an official language in new market</th>\n",
       "      <td>0.000121</td>\n",
       "    </tr>\n",
       "    <tr>\n",
       "      <th>FTA in new market</th>\n",
       "      <td>0.000106</td>\n",
       "    </tr>\n",
       "    <tr>\n",
       "      <th>Spanish is an official language in new market</th>\n",
       "      <td>0.000057</td>\n",
       "    </tr>\n",
       "  </tbody>\n",
       "</table>\n",
       "</div>"
      ],
      "text/plain": [
       "                                                     MI\n",
       "HS system section for product traded           0.012486\n",
       "Colombian region where exporter is based       0.000884\n",
       "Subregion of new market                        0.000785\n",
       "Region of new market                           0.000240\n",
       "English is an official language in new market  0.000121\n",
       "FTA in new market                              0.000106\n",
       "Spanish is an official language in new market  0.000057"
      ]
     },
     "metadata": {},
     "output_type": "display_data"
    }
   ],
   "source": [
    "#Mutual information score for categorical variables\n",
    "\n",
    "def calculate_mi(series):\n",
    "    return mutual_info_score(series, df_train_full.success)\n",
    "\n",
    "df_mi = df_train_full[categorical_vars].apply(calculate_mi)\n",
    "df_mi = df_mi.sort_values(ascending=False).to_frame(name='MI')\n",
    "df_mi.rename(index=var_names, inplace=True)\n",
    "\n",
    "display(df_mi)"
   ]
  },
  {
   "cell_type": "markdown",
   "id": "50b7c05b-1635-4e72-8918-c68ae8e2eca1",
   "metadata": {},
   "source": [
    "#### Numeric Variables"
   ]
  },
  {
   "cell_type": "code",
   "execution_count": 28,
   "id": "a8fb9aed-3766-4cf5-863b-53d6d0355351",
   "metadata": {},
   "outputs": [
    {
     "name": "stdout",
     "output_type": "stream",
     "text": [
      "pnk                 0.014047\n",
      "fobdol              0.012761\n",
      "freight             0.014753\n",
      "insurance           0.012404\n",
      "other_expenses      0.011155\n",
      "product_national    0.021741\n",
      "gdp_pc             -0.000290\n",
      "active_markets      0.158059\n",
      "active_products     0.079176\n",
      "exports_value       0.031305\n",
      "active_years       -0.140933\n",
      "overall_exp        -0.049443\n",
      "dtype: float64\n"
     ]
    }
   ],
   "source": [
    "#Correlation with success\n",
    "print(df_train_full[numeric_vars + [\"overall_exp\"]].corrwith(df_train_full[\"success\"]))"
   ]
  },
  {
   "cell_type": "code",
   "execution_count": 29,
   "id": "2314cc01-0ba8-45d4-9474-a51a4725f250",
   "metadata": {},
   "outputs": [
    {
     "data": {
      "text/plain": [
       "<AxesSubplot:>"
      ]
     },
     "execution_count": 29,
     "metadata": {},
     "output_type": "execute_result"
    },
    {
     "data": {
      "image/png": "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\n",
      "text/plain": [
       "<Figure size 640x480 with 2 Axes>"
      ]
     },
     "metadata": {},
     "output_type": "display_data"
    }
   ],
   "source": [
    "#Correlation heatmap\n",
    "sns.heatmap(df_train_full[numeric_vars+[\"overall_exp\"]+[\"success\"]].corr(), cmap=\"PuRd\")"
   ]
  },
  {
   "cell_type": "markdown",
   "id": "4ea2428c-0818-41aa-86a3-996c42adbb4f",
   "metadata": {},
   "source": [
    "## Modelling"
   ]
  },
  {
   "cell_type": "code",
   "execution_count": 30,
   "id": "1096852c-7ff6-4c16-be15-148ee7eac50b",
   "metadata": {},
   "outputs": [],
   "source": [
    "#Set dependant variable as category\n",
    "new_exporters[\"success\"] = new_exporters[\"success\"].astype(\"category\")"
   ]
  },
  {
   "cell_type": "code",
   "execution_count": 31,
   "id": "e102cddf-60f8-48b6-a267-64bb60a0798c",
   "metadata": {},
   "outputs": [],
   "source": [
    "#Target vars based on feature analysis\n",
    "target_vars = [\"region\", \"prod_class\", \"exp_region\", \"fta\", \"active_years\", \"pnk\", \"freight\", \"insurance\", \"other_expenses\",\n",
    "               \"product_national\",\"active_markets\", \"active_products\", \"exports_value\", \"overall_exp\", \"year\"]\n",
    "\n",
    "df_train_full = df_train_full[target_vars + [\"success\"]] \n",
    "df_train = df_train[target_vars]\n",
    "df_val = df_val[target_vars] \n",
    "df_test = df_test[target_vars]"
   ]
  },
  {
   "cell_type": "markdown",
   "id": "f44467e5-25f4-40e0-90b8-31a8cd192ec0",
   "metadata": {},
   "source": [
    "### Logistic Regression Model"
   ]
  },
  {
   "cell_type": "markdown",
   "id": "e5fbcc29-4be7-4636-b40a-69babc6d4cdf",
   "metadata": {},
   "source": [
    "#### Variable selection"
   ]
  },
  {
   "cell_type": "code",
   "execution_count": 32,
   "id": "0135d81a-05bf-474c-ab58-98f283edc96f",
   "metadata": {},
   "outputs": [
    {
     "name": "stdout",
     "output_type": "stream",
     "text": [
      "Optimization terminated successfully.\n",
      "         Current function value: 0.628770\n",
      "         Iterations 9\n"
     ]
    },
    {
     "data": {
      "text/html": [
       "<table class=\"simpletable\">\n",
       "<caption>Logit Regression Results</caption>\n",
       "<tr>\n",
       "  <th>Dep. Variable:</th>           <td>y</td>        <th>  No. Observations:  </th>  <td> 70655</td> \n",
       "</tr>\n",
       "<tr>\n",
       "  <th>Model:</th>                 <td>Logit</td>      <th>  Df Residuals:      </th>  <td> 70613</td> \n",
       "</tr>\n",
       "<tr>\n",
       "  <th>Method:</th>                 <td>MLE</td>       <th>  Df Model:          </th>  <td>    41</td> \n",
       "</tr>\n",
       "<tr>\n",
       "  <th>Date:</th>            <td>Sun, 22 Jan 2023</td> <th>  Pseudo R-squ.:     </th>  <td>0.09195</td>\n",
       "</tr>\n",
       "<tr>\n",
       "  <th>Time:</th>                <td>19:31:49</td>     <th>  Log-Likelihood:    </th> <td> -44426.</td>\n",
       "</tr>\n",
       "<tr>\n",
       "  <th>converged:</th>             <td>True</td>       <th>  LL-Null:           </th> <td> -48924.</td>\n",
       "</tr>\n",
       "<tr>\n",
       "  <th>Covariance Type:</th>     <td>nonrobust</td>    <th>  LLR p-value:       </th>  <td> 0.000</td> \n",
       "</tr>\n",
       "</table>\n",
       "<table class=\"simpletable\">\n",
       "<tr>\n",
       "              <td></td>                <th>coef</th>     <th>std err</th>      <th>z</th>      <th>P>|z|</th>  <th>[0.025</th>    <th>0.975]</th>  \n",
       "</tr>\n",
       "<tr>\n",
       "  <th>active_years</th>             <td>    0.0986</td> <td>    0.010</td> <td>    9.758</td> <td> 0.000</td> <td>    0.079</td> <td>    0.118</td>\n",
       "</tr>\n",
       "<tr>\n",
       "  <th>pnk</th>                      <td> 6.828e-09</td> <td> 1.65e-09</td> <td>    4.144</td> <td> 0.000</td> <td>  3.6e-09</td> <td> 1.01e-08</td>\n",
       "</tr>\n",
       "<tr>\n",
       "  <th>freight</th>                  <td> 1.625e-06</td> <td> 1.12e-06</td> <td>    1.446</td> <td> 0.148</td> <td>-5.78e-07</td> <td> 3.83e-06</td>\n",
       "</tr>\n",
       "<tr>\n",
       "  <th>insurance</th>                <td> 2.906e-05</td> <td> 2.02e-05</td> <td>    1.437</td> <td> 0.151</td> <td>-1.06e-05</td> <td> 6.87e-05</td>\n",
       "</tr>\n",
       "<tr>\n",
       "  <th>other_expenses</th>           <td> 2.689e-05</td> <td> 7.75e-06</td> <td>    3.471</td> <td> 0.001</td> <td> 1.17e-05</td> <td> 4.21e-05</td>\n",
       "</tr>\n",
       "<tr>\n",
       "  <th>product_national</th>         <td> 1.024e-06</td> <td> 1.66e-07</td> <td>    6.173</td> <td> 0.000</td> <td> 6.99e-07</td> <td> 1.35e-06</td>\n",
       "</tr>\n",
       "<tr>\n",
       "  <th>active_markets</th>           <td>    0.0461</td> <td>    0.002</td> <td>   28.177</td> <td> 0.000</td> <td>    0.043</td> <td>    0.049</td>\n",
       "</tr>\n",
       "<tr>\n",
       "  <th>active_products</th>          <td>    0.0016</td> <td>    0.000</td> <td>    4.686</td> <td> 0.000</td> <td>    0.001</td> <td>    0.002</td>\n",
       "</tr>\n",
       "<tr>\n",
       "  <th>exports_value</th>            <td> -2.66e-11</td> <td> 7.78e-11</td> <td>   -0.342</td> <td> 0.733</td> <td>-1.79e-10</td> <td> 1.26e-10</td>\n",
       "</tr>\n",
       "<tr>\n",
       "  <th>overall_exp</th>              <td>   -0.0107</td> <td>    0.001</td> <td>  -14.726</td> <td> 0.000</td> <td>   -0.012</td> <td>   -0.009</td>\n",
       "</tr>\n",
       "<tr>\n",
       "  <th>year</th>                     <td>   -0.3756</td> <td>    0.008</td> <td>  -44.335</td> <td> 0.000</td> <td>   -0.392</td> <td>   -0.359</td>\n",
       "</tr>\n",
       "<tr>\n",
       "  <th>region_Americas</th>          <td>    0.5799</td> <td>    0.093</td> <td>    6.215</td> <td> 0.000</td> <td>    0.397</td> <td>    0.763</td>\n",
       "</tr>\n",
       "<tr>\n",
       "  <th>region_Asia</th>              <td>    0.5905</td> <td>    0.095</td> <td>    6.238</td> <td> 0.000</td> <td>    0.405</td> <td>    0.776</td>\n",
       "</tr>\n",
       "<tr>\n",
       "  <th>region_Europe</th>            <td>    0.5182</td> <td>    0.096</td> <td>    5.371</td> <td> 0.000</td> <td>    0.329</td> <td>    0.707</td>\n",
       "</tr>\n",
       "<tr>\n",
       "  <th>region_Oceania</th>           <td>    0.4888</td> <td>    0.132</td> <td>    3.705</td> <td> 0.000</td> <td>    0.230</td> <td>    0.747</td>\n",
       "</tr>\n",
       "<tr>\n",
       "  <th>prod_class_section_iii</th>   <td>    0.0994</td> <td>    0.147</td> <td>    0.678</td> <td> 0.498</td> <td>   -0.188</td> <td>    0.387</td>\n",
       "</tr>\n",
       "<tr>\n",
       "  <th>prod_class_section_iv</th>    <td>    0.0768</td> <td>    0.094</td> <td>    0.813</td> <td> 0.416</td> <td>   -0.108</td> <td>    0.262</td>\n",
       "</tr>\n",
       "<tr>\n",
       "  <th>prod_class_section_ix</th>    <td>   -0.5870</td> <td>    0.118</td> <td>   -4.969</td> <td> 0.000</td> <td>   -0.819</td> <td>   -0.355</td>\n",
       "</tr>\n",
       "<tr>\n",
       "  <th>prod_class_section_v</th>     <td>   -0.4720</td> <td>    0.111</td> <td>   -4.233</td> <td> 0.000</td> <td>   -0.691</td> <td>   -0.253</td>\n",
       "</tr>\n",
       "<tr>\n",
       "  <th>prod_class_section_vi</th>    <td>   -0.1327</td> <td>    0.090</td> <td>   -1.474</td> <td> 0.140</td> <td>   -0.309</td> <td>    0.044</td>\n",
       "</tr>\n",
       "<tr>\n",
       "  <th>prod_class_section_vii</th>   <td>   -0.4224</td> <td>    0.091</td> <td>   -4.616</td> <td> 0.000</td> <td>   -0.602</td> <td>   -0.243</td>\n",
       "</tr>\n",
       "<tr>\n",
       "  <th>prod_class_section_viii</th>  <td>   -0.3113</td> <td>    0.101</td> <td>   -3.084</td> <td> 0.002</td> <td>   -0.509</td> <td>   -0.113</td>\n",
       "</tr>\n",
       "<tr>\n",
       "  <th>prod_class_section_x</th>     <td>   -0.3064</td> <td>    0.097</td> <td>   -3.150</td> <td> 0.002</td> <td>   -0.497</td> <td>   -0.116</td>\n",
       "</tr>\n",
       "<tr>\n",
       "  <th>prod_class_section_xi</th>    <td>   -0.2229</td> <td>    0.088</td> <td>   -2.520</td> <td> 0.012</td> <td>   -0.396</td> <td>   -0.050</td>\n",
       "</tr>\n",
       "<tr>\n",
       "  <th>prod_class_section_xii</th>   <td>   -0.4198</td> <td>    0.103</td> <td>   -4.062</td> <td> 0.000</td> <td>   -0.622</td> <td>   -0.217</td>\n",
       "</tr>\n",
       "<tr>\n",
       "  <th>prod_class_section_xiii</th>  <td>   -0.3392</td> <td>    0.103</td> <td>   -3.290</td> <td> 0.001</td> <td>   -0.541</td> <td>   -0.137</td>\n",
       "</tr>\n",
       "<tr>\n",
       "  <th>prod_class_section_xiv</th>   <td>   -0.0096</td> <td>    0.117</td> <td>   -0.082</td> <td> 0.934</td> <td>   -0.239</td> <td>    0.220</td>\n",
       "</tr>\n",
       "<tr>\n",
       "  <th>prod_class_section_xix</th>   <td>   -2.5429</td> <td>    1.088</td> <td>   -2.338</td> <td> 0.019</td> <td>   -4.675</td> <td>   -0.411</td>\n",
       "</tr>\n",
       "<tr>\n",
       "  <th>prod_class_section_xv</th>    <td>   -0.4813</td> <td>    0.090</td> <td>   -5.346</td> <td> 0.000</td> <td>   -0.658</td> <td>   -0.305</td>\n",
       "</tr>\n",
       "<tr>\n",
       "  <th>prod_class_section_xvi</th>   <td>   -1.0332</td> <td>    0.089</td> <td>  -11.560</td> <td> 0.000</td> <td>   -1.208</td> <td>   -0.858</td>\n",
       "</tr>\n",
       "<tr>\n",
       "  <th>prod_class_section_xvii</th>  <td>   -0.5506</td> <td>    0.105</td> <td>   -5.268</td> <td> 0.000</td> <td>   -0.756</td> <td>   -0.346</td>\n",
       "</tr>\n",
       "<tr>\n",
       "  <th>prod_class_section_xviii</th> <td>   -0.5705</td> <td>    0.095</td> <td>   -6.007</td> <td> 0.000</td> <td>   -0.757</td> <td>   -0.384</td>\n",
       "</tr>\n",
       "<tr>\n",
       "  <th>prod_class_section_xx</th>    <td>   -0.6515</td> <td>    0.096</td> <td>   -6.822</td> <td> 0.000</td> <td>   -0.839</td> <td>   -0.464</td>\n",
       "</tr>\n",
       "<tr>\n",
       "  <th>prod_class_section_xxi</th>   <td>   -1.1204</td> <td>    0.307</td> <td>   -3.652</td> <td> 0.000</td> <td>   -1.722</td> <td>   -0.519</td>\n",
       "</tr>\n",
       "<tr>\n",
       "  <th>prod_class_section_xxii</th>  <td>   -1.7732</td> <td>    0.572</td> <td>   -3.099</td> <td> 0.002</td> <td>   -2.895</td> <td>   -0.652</td>\n",
       "</tr>\n",
       "<tr>\n",
       "  <th>exp_region_cafetera</th>      <td>    0.1281</td> <td>    0.044</td> <td>    2.887</td> <td> 0.004</td> <td>    0.041</td> <td>    0.215</td>\n",
       "</tr>\n",
       "<tr>\n",
       "  <th>exp_region_caribe</th>        <td>   -0.1861</td> <td>    0.047</td> <td>   -3.998</td> <td> 0.000</td> <td>   -0.277</td> <td>   -0.095</td>\n",
       "</tr>\n",
       "<tr>\n",
       "  <th>exp_region_central</th>       <td>   -0.0386</td> <td>    0.019</td> <td>   -2.041</td> <td> 0.041</td> <td>   -0.076</td> <td>   -0.002</td>\n",
       "</tr>\n",
       "<tr>\n",
       "  <th>exp_region_llanos</th>        <td>   -0.0696</td> <td>    0.171</td> <td>   -0.407</td> <td> 0.684</td> <td>   -0.405</td> <td>    0.266</td>\n",
       "</tr>\n",
       "<tr>\n",
       "  <th>exp_region_pacifica</th>      <td>   -0.0399</td> <td>    0.029</td> <td>   -1.386</td> <td> 0.166</td> <td>   -0.096</td> <td>    0.017</td>\n",
       "</tr>\n",
       "<tr>\n",
       "  <th>fta_1</th>                    <td>    0.0901</td> <td>    0.029</td> <td>    3.132</td> <td> 0.002</td> <td>    0.034</td> <td>    0.146</td>\n",
       "</tr>\n",
       "<tr>\n",
       "  <th>intercept</th>                <td>    6.5114</td> <td>    0.200</td> <td>   32.591</td> <td> 0.000</td> <td>    6.120</td> <td>    6.903</td>\n",
       "</tr>\n",
       "</table>"
      ],
      "text/plain": [
       "<class 'statsmodels.iolib.summary.Summary'>\n",
       "\"\"\"\n",
       "                           Logit Regression Results                           \n",
       "==============================================================================\n",
       "Dep. Variable:                      y   No. Observations:                70655\n",
       "Model:                          Logit   Df Residuals:                    70613\n",
       "Method:                           MLE   Df Model:                           41\n",
       "Date:                Sun, 22 Jan 2023   Pseudo R-squ.:                 0.09195\n",
       "Time:                        19:31:49   Log-Likelihood:                -44426.\n",
       "converged:                       True   LL-Null:                       -48924.\n",
       "Covariance Type:            nonrobust   LLR p-value:                     0.000\n",
       "============================================================================================\n",
       "                               coef    std err          z      P>|z|      [0.025      0.975]\n",
       "--------------------------------------------------------------------------------------------\n",
       "active_years                 0.0986      0.010      9.758      0.000       0.079       0.118\n",
       "pnk                       6.828e-09   1.65e-09      4.144      0.000     3.6e-09    1.01e-08\n",
       "freight                   1.625e-06   1.12e-06      1.446      0.148   -5.78e-07    3.83e-06\n",
       "insurance                 2.906e-05   2.02e-05      1.437      0.151   -1.06e-05    6.87e-05\n",
       "other_expenses            2.689e-05   7.75e-06      3.471      0.001    1.17e-05    4.21e-05\n",
       "product_national          1.024e-06   1.66e-07      6.173      0.000    6.99e-07    1.35e-06\n",
       "active_markets               0.0461      0.002     28.177      0.000       0.043       0.049\n",
       "active_products              0.0016      0.000      4.686      0.000       0.001       0.002\n",
       "exports_value             -2.66e-11   7.78e-11     -0.342      0.733   -1.79e-10    1.26e-10\n",
       "overall_exp                 -0.0107      0.001    -14.726      0.000      -0.012      -0.009\n",
       "year                        -0.3756      0.008    -44.335      0.000      -0.392      -0.359\n",
       "region_Americas              0.5799      0.093      6.215      0.000       0.397       0.763\n",
       "region_Asia                  0.5905      0.095      6.238      0.000       0.405       0.776\n",
       "region_Europe                0.5182      0.096      5.371      0.000       0.329       0.707\n",
       "region_Oceania               0.4888      0.132      3.705      0.000       0.230       0.747\n",
       "prod_class_section_iii       0.0994      0.147      0.678      0.498      -0.188       0.387\n",
       "prod_class_section_iv        0.0768      0.094      0.813      0.416      -0.108       0.262\n",
       "prod_class_section_ix       -0.5870      0.118     -4.969      0.000      -0.819      -0.355\n",
       "prod_class_section_v        -0.4720      0.111     -4.233      0.000      -0.691      -0.253\n",
       "prod_class_section_vi       -0.1327      0.090     -1.474      0.140      -0.309       0.044\n",
       "prod_class_section_vii      -0.4224      0.091     -4.616      0.000      -0.602      -0.243\n",
       "prod_class_section_viii     -0.3113      0.101     -3.084      0.002      -0.509      -0.113\n",
       "prod_class_section_x        -0.3064      0.097     -3.150      0.002      -0.497      -0.116\n",
       "prod_class_section_xi       -0.2229      0.088     -2.520      0.012      -0.396      -0.050\n",
       "prod_class_section_xii      -0.4198      0.103     -4.062      0.000      -0.622      -0.217\n",
       "prod_class_section_xiii     -0.3392      0.103     -3.290      0.001      -0.541      -0.137\n",
       "prod_class_section_xiv      -0.0096      0.117     -0.082      0.934      -0.239       0.220\n",
       "prod_class_section_xix      -2.5429      1.088     -2.338      0.019      -4.675      -0.411\n",
       "prod_class_section_xv       -0.4813      0.090     -5.346      0.000      -0.658      -0.305\n",
       "prod_class_section_xvi      -1.0332      0.089    -11.560      0.000      -1.208      -0.858\n",
       "prod_class_section_xvii     -0.5506      0.105     -5.268      0.000      -0.756      -0.346\n",
       "prod_class_section_xviii    -0.5705      0.095     -6.007      0.000      -0.757      -0.384\n",
       "prod_class_section_xx       -0.6515      0.096     -6.822      0.000      -0.839      -0.464\n",
       "prod_class_section_xxi      -1.1204      0.307     -3.652      0.000      -1.722      -0.519\n",
       "prod_class_section_xxii     -1.7732      0.572     -3.099      0.002      -2.895      -0.652\n",
       "exp_region_cafetera          0.1281      0.044      2.887      0.004       0.041       0.215\n",
       "exp_region_caribe           -0.1861      0.047     -3.998      0.000      -0.277      -0.095\n",
       "exp_region_central          -0.0386      0.019     -2.041      0.041      -0.076      -0.002\n",
       "exp_region_llanos           -0.0696      0.171     -0.407      0.684      -0.405       0.266\n",
       "exp_region_pacifica         -0.0399      0.029     -1.386      0.166      -0.096       0.017\n",
       "fta_1                        0.0901      0.029      3.132      0.002       0.034       0.146\n",
       "intercept                    6.5114      0.200     32.591      0.000       6.120       6.903\n",
       "============================================================================================\n",
       "\"\"\""
      ]
     },
     "execution_count": 32,
     "metadata": {},
     "output_type": "execute_result"
    }
   ],
   "source": [
    "#Fit model with all variables using statsmodel module to evaluate significance of variables\n",
    "\n",
    "df_train_sm = df_train.copy()\n",
    "y_train_sm = y_train.copy()\n",
    "\n",
    "#Encoding for categorical variables\n",
    "df_train_sm = pd.get_dummies(df_train_sm, drop_first=True)\n",
    "\n",
    "df_train_sm[\"intercept\"] = 1\n",
    "\n",
    "logit = sm.Logit(y_train_sm, df_train_sm)\n",
    "logit_res = logit.fit()\n",
    "logit_res.summary()"
   ]
  },
  {
   "cell_type": "code",
   "execution_count": 33,
   "id": "c010eb5b-9836-474e-b0ba-8f32a7223720",
   "metadata": {},
   "outputs": [],
   "source": [
    "#Based on feature analysis and previous logistic regression fitting, select target variables for this model\n",
    "target_vars = [\"region\", \"prod_class\", \"exp_region\", \"fta\", \"active_years\", \"pnk\", \"other_expenses\",\n",
    "               \"product_national\",\"active_markets\", \"active_products\", \"overall_exp\", \"year\"]\n",
    "\n",
    "df_train_full = df_train_full[target_vars + [\"success\"]] \n",
    "df_train = df_train[target_vars]\n",
    "df_val = df_val[target_vars] \n",
    "df_test = df_test[target_vars]"
   ]
  },
  {
   "cell_type": "code",
   "execution_count": 34,
   "id": "ff965fa8-b3dc-4389-90ac-c6f61b6022c3",
   "metadata": {},
   "outputs": [
    {
     "name": "stdout",
     "output_type": "stream",
     "text": [
      "Optimization terminated successfully.\n",
      "         Current function value: 0.628840\n",
      "         Iterations 9\n"
     ]
    },
    {
     "data": {
      "text/html": [
       "<table class=\"simpletable\">\n",
       "<caption>Logit Regression Results</caption>\n",
       "<tr>\n",
       "  <th>Dep. Variable:</th>           <td>y</td>        <th>  No. Observations:  </th>  <td> 70655</td> \n",
       "</tr>\n",
       "<tr>\n",
       "  <th>Model:</th>                 <td>Logit</td>      <th>  Df Residuals:      </th>  <td> 70616</td> \n",
       "</tr>\n",
       "<tr>\n",
       "  <th>Method:</th>                 <td>MLE</td>       <th>  Df Model:          </th>  <td>    38</td> \n",
       "</tr>\n",
       "<tr>\n",
       "  <th>Date:</th>            <td>Sun, 22 Jan 2023</td> <th>  Pseudo R-squ.:     </th>  <td>0.09185</td>\n",
       "</tr>\n",
       "<tr>\n",
       "  <th>Time:</th>                <td>19:31:50</td>     <th>  Log-Likelihood:    </th> <td> -44431.</td>\n",
       "</tr>\n",
       "<tr>\n",
       "  <th>converged:</th>             <td>True</td>       <th>  LL-Null:           </th> <td> -48924.</td>\n",
       "</tr>\n",
       "<tr>\n",
       "  <th>Covariance Type:</th>     <td>nonrobust</td>    <th>  LLR p-value:       </th>  <td> 0.000</td> \n",
       "</tr>\n",
       "</table>\n",
       "<table class=\"simpletable\">\n",
       "<tr>\n",
       "              <td></td>                <th>coef</th>     <th>std err</th>      <th>z</th>      <th>P>|z|</th>  <th>[0.025</th>    <th>0.975]</th>  \n",
       "</tr>\n",
       "<tr>\n",
       "  <th>active_years</th>             <td>    0.0987</td> <td>    0.010</td> <td>    9.774</td> <td> 0.000</td> <td>    0.079</td> <td>    0.118</td>\n",
       "</tr>\n",
       "<tr>\n",
       "  <th>pnk</th>                      <td> 6.718e-09</td> <td> 1.59e-09</td> <td>    4.214</td> <td> 0.000</td> <td> 3.59e-09</td> <td> 9.84e-09</td>\n",
       "</tr>\n",
       "<tr>\n",
       "  <th>other_expenses</th>           <td> 2.934e-05</td> <td> 7.77e-06</td> <td>    3.778</td> <td> 0.000</td> <td> 1.41e-05</td> <td> 4.46e-05</td>\n",
       "</tr>\n",
       "<tr>\n",
       "  <th>product_national</th>         <td> 1.074e-06</td> <td> 1.66e-07</td> <td>    6.485</td> <td> 0.000</td> <td> 7.49e-07</td> <td>  1.4e-06</td>\n",
       "</tr>\n",
       "<tr>\n",
       "  <th>active_markets</th>           <td>    0.0460</td> <td>    0.002</td> <td>   28.291</td> <td> 0.000</td> <td>    0.043</td> <td>    0.049</td>\n",
       "</tr>\n",
       "<tr>\n",
       "  <th>active_products</th>          <td>    0.0016</td> <td>    0.000</td> <td>    4.652</td> <td> 0.000</td> <td>    0.001</td> <td>    0.002</td>\n",
       "</tr>\n",
       "<tr>\n",
       "  <th>overall_exp</th>              <td>   -0.0107</td> <td>    0.001</td> <td>  -14.726</td> <td> 0.000</td> <td>   -0.012</td> <td>   -0.009</td>\n",
       "</tr>\n",
       "<tr>\n",
       "  <th>year</th>                     <td>   -0.3757</td> <td>    0.008</td> <td>  -44.364</td> <td> 0.000</td> <td>   -0.392</td> <td>   -0.359</td>\n",
       "</tr>\n",
       "<tr>\n",
       "  <th>region_Americas</th>          <td>    0.5785</td> <td>    0.093</td> <td>    6.200</td> <td> 0.000</td> <td>    0.396</td> <td>    0.761</td>\n",
       "</tr>\n",
       "<tr>\n",
       "  <th>region_Asia</th>              <td>    0.5907</td> <td>    0.095</td> <td>    6.240</td> <td> 0.000</td> <td>    0.405</td> <td>    0.776</td>\n",
       "</tr>\n",
       "<tr>\n",
       "  <th>region_Europe</th>            <td>    0.5185</td> <td>    0.096</td> <td>    5.374</td> <td> 0.000</td> <td>    0.329</td> <td>    0.708</td>\n",
       "</tr>\n",
       "<tr>\n",
       "  <th>region_Oceania</th>           <td>    0.4873</td> <td>    0.132</td> <td>    3.693</td> <td> 0.000</td> <td>    0.229</td> <td>    0.746</td>\n",
       "</tr>\n",
       "<tr>\n",
       "  <th>prod_class_section_iii</th>   <td>    0.1061</td> <td>    0.146</td> <td>    0.724</td> <td> 0.469</td> <td>   -0.181</td> <td>    0.393</td>\n",
       "</tr>\n",
       "<tr>\n",
       "  <th>prod_class_section_iv</th>    <td>    0.0758</td> <td>    0.094</td> <td>    0.803</td> <td> 0.422</td> <td>   -0.109</td> <td>    0.261</td>\n",
       "</tr>\n",
       "<tr>\n",
       "  <th>prod_class_section_ix</th>    <td>   -0.5892</td> <td>    0.118</td> <td>   -4.988</td> <td> 0.000</td> <td>   -0.821</td> <td>   -0.358</td>\n",
       "</tr>\n",
       "<tr>\n",
       "  <th>prod_class_section_v</th>     <td>   -0.4725</td> <td>    0.111</td> <td>   -4.244</td> <td> 0.000</td> <td>   -0.691</td> <td>   -0.254</td>\n",
       "</tr>\n",
       "<tr>\n",
       "  <th>prod_class_section_vi</th>    <td>   -0.1328</td> <td>    0.090</td> <td>   -1.476</td> <td> 0.140</td> <td>   -0.309</td> <td>    0.044</td>\n",
       "</tr>\n",
       "<tr>\n",
       "  <th>prod_class_section_vii</th>   <td>   -0.4237</td> <td>    0.091</td> <td>   -4.632</td> <td> 0.000</td> <td>   -0.603</td> <td>   -0.244</td>\n",
       "</tr>\n",
       "<tr>\n",
       "  <th>prod_class_section_viii</th>  <td>   -0.3129</td> <td>    0.101</td> <td>   -3.101</td> <td> 0.002</td> <td>   -0.511</td> <td>   -0.115</td>\n",
       "</tr>\n",
       "<tr>\n",
       "  <th>prod_class_section_x</th>     <td>   -0.3058</td> <td>    0.097</td> <td>   -3.145</td> <td> 0.002</td> <td>   -0.496</td> <td>   -0.115</td>\n",
       "</tr>\n",
       "<tr>\n",
       "  <th>prod_class_section_xi</th>    <td>   -0.2257</td> <td>    0.088</td> <td>   -2.552</td> <td> 0.011</td> <td>   -0.399</td> <td>   -0.052</td>\n",
       "</tr>\n",
       "<tr>\n",
       "  <th>prod_class_section_xii</th>   <td>   -0.4223</td> <td>    0.103</td> <td>   -4.087</td> <td> 0.000</td> <td>   -0.625</td> <td>   -0.220</td>\n",
       "</tr>\n",
       "<tr>\n",
       "  <th>prod_class_section_xiii</th>  <td>   -0.3404</td> <td>    0.103</td> <td>   -3.303</td> <td> 0.001</td> <td>   -0.542</td> <td>   -0.138</td>\n",
       "</tr>\n",
       "<tr>\n",
       "  <th>prod_class_section_xiv</th>   <td>   -0.0086</td> <td>    0.117</td> <td>   -0.073</td> <td> 0.942</td> <td>   -0.238</td> <td>    0.221</td>\n",
       "</tr>\n",
       "<tr>\n",
       "  <th>prod_class_section_xix</th>   <td>   -2.5458</td> <td>    1.088</td> <td>   -2.341</td> <td> 0.019</td> <td>   -4.678</td> <td>   -0.414</td>\n",
       "</tr>\n",
       "<tr>\n",
       "  <th>prod_class_section_xv</th>    <td>   -0.4804</td> <td>    0.090</td> <td>   -5.338</td> <td> 0.000</td> <td>   -0.657</td> <td>   -0.304</td>\n",
       "</tr>\n",
       "<tr>\n",
       "  <th>prod_class_section_xvi</th>   <td>   -1.0344</td> <td>    0.089</td> <td>  -11.576</td> <td> 0.000</td> <td>   -1.210</td> <td>   -0.859</td>\n",
       "</tr>\n",
       "<tr>\n",
       "  <th>prod_class_section_xvii</th>  <td>   -0.5521</td> <td>    0.105</td> <td>   -5.283</td> <td> 0.000</td> <td>   -0.757</td> <td>   -0.347</td>\n",
       "</tr>\n",
       "<tr>\n",
       "  <th>prod_class_section_xviii</th> <td>   -0.5736</td> <td>    0.095</td> <td>   -6.041</td> <td> 0.000</td> <td>   -0.760</td> <td>   -0.388</td>\n",
       "</tr>\n",
       "<tr>\n",
       "  <th>prod_class_section_xx</th>    <td>   -0.6532</td> <td>    0.095</td> <td>   -6.840</td> <td> 0.000</td> <td>   -0.840</td> <td>   -0.466</td>\n",
       "</tr>\n",
       "<tr>\n",
       "  <th>prod_class_section_xxi</th>   <td>   -1.1232</td> <td>    0.307</td> <td>   -3.661</td> <td> 0.000</td> <td>   -1.725</td> <td>   -0.522</td>\n",
       "</tr>\n",
       "<tr>\n",
       "  <th>prod_class_section_xxii</th>  <td>   -1.7734</td> <td>    0.572</td> <td>   -3.100</td> <td> 0.002</td> <td>   -2.895</td> <td>   -0.652</td>\n",
       "</tr>\n",
       "<tr>\n",
       "  <th>exp_region_cafetera</th>      <td>    0.1299</td> <td>    0.044</td> <td>    2.926</td> <td> 0.003</td> <td>    0.043</td> <td>    0.217</td>\n",
       "</tr>\n",
       "<tr>\n",
       "  <th>exp_region_caribe</th>        <td>   -0.1850</td> <td>    0.047</td> <td>   -3.976</td> <td> 0.000</td> <td>   -0.276</td> <td>   -0.094</td>\n",
       "</tr>\n",
       "<tr>\n",
       "  <th>exp_region_central</th>       <td>   -0.0393</td> <td>    0.019</td> <td>   -2.076</td> <td> 0.038</td> <td>   -0.076</td> <td>   -0.002</td>\n",
       "</tr>\n",
       "<tr>\n",
       "  <th>exp_region_llanos</th>        <td>   -0.0696</td> <td>    0.171</td> <td>   -0.407</td> <td> 0.684</td> <td>   -0.405</td> <td>    0.265</td>\n",
       "</tr>\n",
       "<tr>\n",
       "  <th>exp_region_pacifica</th>      <td>   -0.0397</td> <td>    0.029</td> <td>   -1.381</td> <td> 0.167</td> <td>   -0.096</td> <td>    0.017</td>\n",
       "</tr>\n",
       "<tr>\n",
       "  <th>fta_1</th>                    <td>    0.0906</td> <td>    0.029</td> <td>    3.148</td> <td> 0.002</td> <td>    0.034</td> <td>    0.147</td>\n",
       "</tr>\n",
       "<tr>\n",
       "  <th>intercept</th>                <td>    6.5168</td> <td>    0.200</td> <td>   32.632</td> <td> 0.000</td> <td>    6.125</td> <td>    6.908</td>\n",
       "</tr>\n",
       "</table>"
      ],
      "text/plain": [
       "<class 'statsmodels.iolib.summary.Summary'>\n",
       "\"\"\"\n",
       "                           Logit Regression Results                           \n",
       "==============================================================================\n",
       "Dep. Variable:                      y   No. Observations:                70655\n",
       "Model:                          Logit   Df Residuals:                    70616\n",
       "Method:                           MLE   Df Model:                           38\n",
       "Date:                Sun, 22 Jan 2023   Pseudo R-squ.:                 0.09185\n",
       "Time:                        19:31:50   Log-Likelihood:                -44431.\n",
       "converged:                       True   LL-Null:                       -48924.\n",
       "Covariance Type:            nonrobust   LLR p-value:                     0.000\n",
       "============================================================================================\n",
       "                               coef    std err          z      P>|z|      [0.025      0.975]\n",
       "--------------------------------------------------------------------------------------------\n",
       "active_years                 0.0987      0.010      9.774      0.000       0.079       0.118\n",
       "pnk                       6.718e-09   1.59e-09      4.214      0.000    3.59e-09    9.84e-09\n",
       "other_expenses            2.934e-05   7.77e-06      3.778      0.000    1.41e-05    4.46e-05\n",
       "product_national          1.074e-06   1.66e-07      6.485      0.000    7.49e-07     1.4e-06\n",
       "active_markets               0.0460      0.002     28.291      0.000       0.043       0.049\n",
       "active_products              0.0016      0.000      4.652      0.000       0.001       0.002\n",
       "overall_exp                 -0.0107      0.001    -14.726      0.000      -0.012      -0.009\n",
       "year                        -0.3757      0.008    -44.364      0.000      -0.392      -0.359\n",
       "region_Americas              0.5785      0.093      6.200      0.000       0.396       0.761\n",
       "region_Asia                  0.5907      0.095      6.240      0.000       0.405       0.776\n",
       "region_Europe                0.5185      0.096      5.374      0.000       0.329       0.708\n",
       "region_Oceania               0.4873      0.132      3.693      0.000       0.229       0.746\n",
       "prod_class_section_iii       0.1061      0.146      0.724      0.469      -0.181       0.393\n",
       "prod_class_section_iv        0.0758      0.094      0.803      0.422      -0.109       0.261\n",
       "prod_class_section_ix       -0.5892      0.118     -4.988      0.000      -0.821      -0.358\n",
       "prod_class_section_v        -0.4725      0.111     -4.244      0.000      -0.691      -0.254\n",
       "prod_class_section_vi       -0.1328      0.090     -1.476      0.140      -0.309       0.044\n",
       "prod_class_section_vii      -0.4237      0.091     -4.632      0.000      -0.603      -0.244\n",
       "prod_class_section_viii     -0.3129      0.101     -3.101      0.002      -0.511      -0.115\n",
       "prod_class_section_x        -0.3058      0.097     -3.145      0.002      -0.496      -0.115\n",
       "prod_class_section_xi       -0.2257      0.088     -2.552      0.011      -0.399      -0.052\n",
       "prod_class_section_xii      -0.4223      0.103     -4.087      0.000      -0.625      -0.220\n",
       "prod_class_section_xiii     -0.3404      0.103     -3.303      0.001      -0.542      -0.138\n",
       "prod_class_section_xiv      -0.0086      0.117     -0.073      0.942      -0.238       0.221\n",
       "prod_class_section_xix      -2.5458      1.088     -2.341      0.019      -4.678      -0.414\n",
       "prod_class_section_xv       -0.4804      0.090     -5.338      0.000      -0.657      -0.304\n",
       "prod_class_section_xvi      -1.0344      0.089    -11.576      0.000      -1.210      -0.859\n",
       "prod_class_section_xvii     -0.5521      0.105     -5.283      0.000      -0.757      -0.347\n",
       "prod_class_section_xviii    -0.5736      0.095     -6.041      0.000      -0.760      -0.388\n",
       "prod_class_section_xx       -0.6532      0.095     -6.840      0.000      -0.840      -0.466\n",
       "prod_class_section_xxi      -1.1232      0.307     -3.661      0.000      -1.725      -0.522\n",
       "prod_class_section_xxii     -1.7734      0.572     -3.100      0.002      -2.895      -0.652\n",
       "exp_region_cafetera          0.1299      0.044      2.926      0.003       0.043       0.217\n",
       "exp_region_caribe           -0.1850      0.047     -3.976      0.000      -0.276      -0.094\n",
       "exp_region_central          -0.0393      0.019     -2.076      0.038      -0.076      -0.002\n",
       "exp_region_llanos           -0.0696      0.171     -0.407      0.684      -0.405       0.265\n",
       "exp_region_pacifica         -0.0397      0.029     -1.381      0.167      -0.096       0.017\n",
       "fta_1                        0.0906      0.029      3.148      0.002       0.034       0.147\n",
       "intercept                    6.5168      0.200     32.632      0.000       6.125       6.908\n",
       "============================================================================================\n",
       "\"\"\""
      ]
     },
     "execution_count": 34,
     "metadata": {},
     "output_type": "execute_result"
    }
   ],
   "source": [
    "#Fit model with all variables using statsmodel module to evaluate significance of variables\n",
    "\n",
    "df_train_sm = df_train.copy()\n",
    "y_train_sm = y_train.copy()\n",
    "\n",
    "#Encoding for categorical variables\n",
    "df_train_sm = pd.get_dummies(df_train_sm, drop_first=True)\n",
    "\n",
    "df_train_sm[\"intercept\"] = 1\n",
    "\n",
    "logit = sm.Logit(y_train_sm, df_train_sm)\n",
    "logit_res = logit.fit()\n",
    "logit_res.summary()"
   ]
  },
  {
   "cell_type": "markdown",
   "id": "0271d665-04f9-41bb-99dc-04c458f90dc6",
   "metadata": {},
   "source": [
    "#### Selected model"
   ]
  },
  {
   "cell_type": "code",
   "execution_count": 35,
   "id": "a1a23b4f-5833-4686-8be0-9526ad63179d",
   "metadata": {},
   "outputs": [
    {
     "data": {
      "text/html": [
       "<style>#sk-container-id-1 {color: black;background-color: white;}#sk-container-id-1 pre{padding: 0;}#sk-container-id-1 div.sk-toggleable {background-color: white;}#sk-container-id-1 label.sk-toggleable__label {cursor: pointer;display: block;width: 100%;margin-bottom: 0;padding: 0.3em;box-sizing: border-box;text-align: center;}#sk-container-id-1 label.sk-toggleable__label-arrow:before {content: \"▸\";float: left;margin-right: 0.25em;color: #696969;}#sk-container-id-1 label.sk-toggleable__label-arrow:hover:before {color: black;}#sk-container-id-1 div.sk-estimator:hover label.sk-toggleable__label-arrow:before {color: black;}#sk-container-id-1 div.sk-toggleable__content {max-height: 0;max-width: 0;overflow: hidden;text-align: left;background-color: #f0f8ff;}#sk-container-id-1 div.sk-toggleable__content pre {margin: 0.2em;color: black;border-radius: 0.25em;background-color: #f0f8ff;}#sk-container-id-1 input.sk-toggleable__control:checked~div.sk-toggleable__content {max-height: 200px;max-width: 100%;overflow: auto;}#sk-container-id-1 input.sk-toggleable__control:checked~label.sk-toggleable__label-arrow:before {content: \"▾\";}#sk-container-id-1 div.sk-estimator input.sk-toggleable__control:checked~label.sk-toggleable__label {background-color: #d4ebff;}#sk-container-id-1 div.sk-label input.sk-toggleable__control:checked~label.sk-toggleable__label {background-color: #d4ebff;}#sk-container-id-1 input.sk-hidden--visually {border: 0;clip: rect(1px 1px 1px 1px);clip: rect(1px, 1px, 1px, 1px);height: 1px;margin: -1px;overflow: hidden;padding: 0;position: absolute;width: 1px;}#sk-container-id-1 div.sk-estimator {font-family: monospace;background-color: #f0f8ff;border: 1px dotted black;border-radius: 0.25em;box-sizing: border-box;margin-bottom: 0.5em;}#sk-container-id-1 div.sk-estimator:hover {background-color: #d4ebff;}#sk-container-id-1 div.sk-parallel-item::after {content: \"\";width: 100%;border-bottom: 1px solid gray;flex-grow: 1;}#sk-container-id-1 div.sk-label:hover label.sk-toggleable__label {background-color: #d4ebff;}#sk-container-id-1 div.sk-serial::before {content: \"\";position: absolute;border-left: 1px solid gray;box-sizing: border-box;top: 0;bottom: 0;left: 50%;z-index: 0;}#sk-container-id-1 div.sk-serial {display: flex;flex-direction: column;align-items: center;background-color: white;padding-right: 0.2em;padding-left: 0.2em;position: relative;}#sk-container-id-1 div.sk-item {position: relative;z-index: 1;}#sk-container-id-1 div.sk-parallel {display: flex;align-items: stretch;justify-content: center;background-color: white;position: relative;}#sk-container-id-1 div.sk-item::before, #sk-container-id-1 div.sk-parallel-item::before {content: \"\";position: absolute;border-left: 1px solid gray;box-sizing: border-box;top: 0;bottom: 0;left: 50%;z-index: -1;}#sk-container-id-1 div.sk-parallel-item {display: flex;flex-direction: column;z-index: 1;position: relative;background-color: white;}#sk-container-id-1 div.sk-parallel-item:first-child::after {align-self: flex-end;width: 50%;}#sk-container-id-1 div.sk-parallel-item:last-child::after {align-self: flex-start;width: 50%;}#sk-container-id-1 div.sk-parallel-item:only-child::after {width: 0;}#sk-container-id-1 div.sk-dashed-wrapped {border: 1px dashed gray;margin: 0 0.4em 0.5em 0.4em;box-sizing: border-box;padding-bottom: 0.4em;background-color: white;}#sk-container-id-1 div.sk-label label {font-family: monospace;font-weight: bold;display: inline-block;line-height: 1.2em;}#sk-container-id-1 div.sk-label-container {text-align: center;}#sk-container-id-1 div.sk-container {/* jupyter's `normalize.less` sets `[hidden] { display: none; }` but bootstrap.min.css set `[hidden] { display: none !important; }` so we also need the `!important` here to be able to override the default hidden behavior on the sphinx rendered scikit-learn.org. See: https://github.com/scikit-learn/scikit-learn/issues/21755 */display: inline-block !important;position: relative;}#sk-container-id-1 div.sk-text-repr-fallback {display: none;}</style><div id=\"sk-container-id-1\" class=\"sk-top-container\"><div class=\"sk-text-repr-fallback\"><pre>DictVectorizer(sparse=False)</pre><b>In a Jupyter environment, please rerun this cell to show the HTML representation or trust the notebook. <br />On GitHub, the HTML representation is unable to render, please try loading this page with nbviewer.org.</b></div><div class=\"sk-container\" hidden><div class=\"sk-item\"><div class=\"sk-estimator sk-toggleable\"><input class=\"sk-toggleable__control sk-hidden--visually\" id=\"sk-estimator-id-1\" type=\"checkbox\" checked><label for=\"sk-estimator-id-1\" class=\"sk-toggleable__label sk-toggleable__label-arrow\">DictVectorizer</label><div class=\"sk-toggleable__content\"><pre>DictVectorizer(sparse=False)</pre></div></div></div></div></div>"
      ],
      "text/plain": [
       "DictVectorizer(sparse=False)"
      ]
     },
     "execution_count": 35,
     "metadata": {},
     "output_type": "execute_result"
    }
   ],
   "source": [
    "#Encoding with DictVectorizer\n",
    "train_dict = df_train.to_dict(orient='records')\n",
    "dv = DictVectorizer(sparse=False)\n",
    "dv.fit(train_dict)"
   ]
  },
  {
   "cell_type": "code",
   "execution_count": 36,
   "id": "8e040218-72e4-4ddb-8a9c-486774af512f",
   "metadata": {},
   "outputs": [
    {
     "data": {
      "text/plain": [
       "(70655, 42)"
      ]
     },
     "execution_count": 36,
     "metadata": {},
     "output_type": "execute_result"
    }
   ],
   "source": [
    "#Prepare feature matrix for model training\n",
    "X_train = dv.transform(train_dict)\n",
    "X_train.shape"
   ]
  },
  {
   "cell_type": "code",
   "execution_count": 37,
   "id": "b12eb192-912e-479f-9c65-15ebcfb4a1e6",
   "metadata": {},
   "outputs": [
    {
     "data": {
      "text/html": [
       "<style>#sk-container-id-2 {color: black;background-color: white;}#sk-container-id-2 pre{padding: 0;}#sk-container-id-2 div.sk-toggleable {background-color: white;}#sk-container-id-2 label.sk-toggleable__label {cursor: pointer;display: block;width: 100%;margin-bottom: 0;padding: 0.3em;box-sizing: border-box;text-align: center;}#sk-container-id-2 label.sk-toggleable__label-arrow:before {content: \"▸\";float: left;margin-right: 0.25em;color: #696969;}#sk-container-id-2 label.sk-toggleable__label-arrow:hover:before {color: black;}#sk-container-id-2 div.sk-estimator:hover label.sk-toggleable__label-arrow:before {color: black;}#sk-container-id-2 div.sk-toggleable__content {max-height: 0;max-width: 0;overflow: hidden;text-align: left;background-color: #f0f8ff;}#sk-container-id-2 div.sk-toggleable__content pre {margin: 0.2em;color: black;border-radius: 0.25em;background-color: #f0f8ff;}#sk-container-id-2 input.sk-toggleable__control:checked~div.sk-toggleable__content {max-height: 200px;max-width: 100%;overflow: auto;}#sk-container-id-2 input.sk-toggleable__control:checked~label.sk-toggleable__label-arrow:before {content: \"▾\";}#sk-container-id-2 div.sk-estimator input.sk-toggleable__control:checked~label.sk-toggleable__label {background-color: #d4ebff;}#sk-container-id-2 div.sk-label input.sk-toggleable__control:checked~label.sk-toggleable__label {background-color: #d4ebff;}#sk-container-id-2 input.sk-hidden--visually {border: 0;clip: rect(1px 1px 1px 1px);clip: rect(1px, 1px, 1px, 1px);height: 1px;margin: -1px;overflow: hidden;padding: 0;position: absolute;width: 1px;}#sk-container-id-2 div.sk-estimator {font-family: monospace;background-color: #f0f8ff;border: 1px dotted black;border-radius: 0.25em;box-sizing: border-box;margin-bottom: 0.5em;}#sk-container-id-2 div.sk-estimator:hover {background-color: #d4ebff;}#sk-container-id-2 div.sk-parallel-item::after {content: \"\";width: 100%;border-bottom: 1px solid gray;flex-grow: 1;}#sk-container-id-2 div.sk-label:hover label.sk-toggleable__label {background-color: #d4ebff;}#sk-container-id-2 div.sk-serial::before {content: \"\";position: absolute;border-left: 1px solid gray;box-sizing: border-box;top: 0;bottom: 0;left: 50%;z-index: 0;}#sk-container-id-2 div.sk-serial {display: flex;flex-direction: column;align-items: center;background-color: white;padding-right: 0.2em;padding-left: 0.2em;position: relative;}#sk-container-id-2 div.sk-item {position: relative;z-index: 1;}#sk-container-id-2 div.sk-parallel {display: flex;align-items: stretch;justify-content: center;background-color: white;position: relative;}#sk-container-id-2 div.sk-item::before, #sk-container-id-2 div.sk-parallel-item::before {content: \"\";position: absolute;border-left: 1px solid gray;box-sizing: border-box;top: 0;bottom: 0;left: 50%;z-index: -1;}#sk-container-id-2 div.sk-parallel-item {display: flex;flex-direction: column;z-index: 1;position: relative;background-color: white;}#sk-container-id-2 div.sk-parallel-item:first-child::after {align-self: flex-end;width: 50%;}#sk-container-id-2 div.sk-parallel-item:last-child::after {align-self: flex-start;width: 50%;}#sk-container-id-2 div.sk-parallel-item:only-child::after {width: 0;}#sk-container-id-2 div.sk-dashed-wrapped {border: 1px dashed gray;margin: 0 0.4em 0.5em 0.4em;box-sizing: border-box;padding-bottom: 0.4em;background-color: white;}#sk-container-id-2 div.sk-label label {font-family: monospace;font-weight: bold;display: inline-block;line-height: 1.2em;}#sk-container-id-2 div.sk-label-container {text-align: center;}#sk-container-id-2 div.sk-container {/* jupyter's `normalize.less` sets `[hidden] { display: none; }` but bootstrap.min.css set `[hidden] { display: none !important; }` so we also need the `!important` here to be able to override the default hidden behavior on the sphinx rendered scikit-learn.org. See: https://github.com/scikit-learn/scikit-learn/issues/21755 */display: inline-block !important;position: relative;}#sk-container-id-2 div.sk-text-repr-fallback {display: none;}</style><div id=\"sk-container-id-2\" class=\"sk-top-container\"><div class=\"sk-text-repr-fallback\"><pre>LogisticRegression(random_state=1, solver=&#x27;liblinear&#x27;)</pre><b>In a Jupyter environment, please rerun this cell to show the HTML representation or trust the notebook. <br />On GitHub, the HTML representation is unable to render, please try loading this page with nbviewer.org.</b></div><div class=\"sk-container\" hidden><div class=\"sk-item\"><div class=\"sk-estimator sk-toggleable\"><input class=\"sk-toggleable__control sk-hidden--visually\" id=\"sk-estimator-id-2\" type=\"checkbox\" checked><label for=\"sk-estimator-id-2\" class=\"sk-toggleable__label sk-toggleable__label-arrow\">LogisticRegression</label><div class=\"sk-toggleable__content\"><pre>LogisticRegression(random_state=1, solver=&#x27;liblinear&#x27;)</pre></div></div></div></div></div>"
      ],
      "text/plain": [
       "LogisticRegression(random_state=1, solver='liblinear')"
      ]
     },
     "execution_count": 37,
     "metadata": {},
     "output_type": "execute_result"
    }
   ],
   "source": [
    "#Train the model\n",
    "model = LogisticRegression(solver='liblinear', random_state=1)\n",
    "model.fit(X_train, y_train)"
   ]
  },
  {
   "cell_type": "code",
   "execution_count": 38,
   "id": "facdda80-4315-4fe7-95ac-9b80c5723148",
   "metadata": {},
   "outputs": [],
   "source": [
    "#Model validation\n",
    "val_dict = df_val.to_dict(orient='records')\n",
    "X_val = dv.transform(val_dict)\n",
    "\n",
    "y_pred = model.predict_proba(X_val)[:, 1]"
   ]
  },
  {
   "cell_type": "code",
   "execution_count": 39,
   "id": "0c734793-5e8b-4c8d-b722-e82e7a9d91ef",
   "metadata": {},
   "outputs": [
    {
     "name": "stdout",
     "output_type": "stream",
     "text": [
      "Accuracy: 0.5190655440935605\n",
      "Precision: 0.5189454921803128\n",
      "Recall: 0.9997784547216837\n",
      "AUC score: 0.6224651704687129\n",
      "Average Precision Score: 0.6331040148975615\n"
     ]
    }
   ],
   "source": [
    "#Model evaluation: Accuracy, Precision, Recall, AUC and average precision score\n",
    "print(\"Accuracy:\", accuracy_score(y_val, y_pred>0.5))\n",
    "print(\"Precision:\", precision_score(y_val, y_pred>0.5))\n",
    "print(\"Recall:\", recall_score(y_val, y_pred>0.5))\n",
    "print(\"AUC score:\", roc_auc_score(y_val, y_pred))\n",
    "print(\"Average Precision Score:\", average_precision_score(y_val, y_pred))"
   ]
  },
  {
   "cell_type": "code",
   "execution_count": 40,
   "id": "4277d1e0-ece1-49e7-bb1c-895ed1bf07ef",
   "metadata": {},
   "outputs": [
    {
     "data": {
      "text/plain": [
       "<matplotlib.legend.Legend at 0x7f218469b9a0>"
      ]
     },
     "execution_count": 40,
     "metadata": {},
     "output_type": "execute_result"
    },
    {
     "data": {
      "image/png": "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\n",
      "text/plain": [
       "<Figure size 700x500 with 1 Axes>"
      ]
     },
     "metadata": {},
     "output_type": "display_data"
    }
   ],
   "source": [
    "#ROC curve\n",
    "fpr, tpr, thresholds = roc_curve(y_val, y_pred)\n",
    "\n",
    "plt.figure(figsize=(7, 5))\n",
    "\n",
    "plt.plot(fpr, tpr, label='Logistic Regression Model')\n",
    "plt.plot([0, 1], [0, 1], label='Random', linestyle='--')\n",
    "\n",
    "plt.xlabel('FPR')\n",
    "plt.ylabel('TPR')\n",
    "\n",
    "plt.legend()"
   ]
  },
  {
   "cell_type": "markdown",
   "id": "2c205f3d-a398-485c-bdb4-126caed8b472",
   "metadata": {},
   "source": [
    "#### Cross-validation"
   ]
  },
  {
   "cell_type": "code",
   "execution_count": 41,
   "id": "2c62801c-45b0-4560-bab6-a213800d2079",
   "metadata": {},
   "outputs": [],
   "source": [
    "def train(df_train, y_train, C):\n",
    "    dicts = df_train.to_dict(orient='records')\n",
    "\n",
    "    dv = DictVectorizer(sparse=False)\n",
    "    X_train = dv.fit_transform(dicts)\n",
    "\n",
    "    model = LogisticRegression(solver='liblinear', random_state=1, C=C)\n",
    "    model.fit(X_train, y_train)\n",
    "    \n",
    "    return dv, model"
   ]
  },
  {
   "cell_type": "code",
   "execution_count": 42,
   "id": "55e4829b-550e-4368-9af7-37992722e740",
   "metadata": {},
   "outputs": [],
   "source": [
    "def predict(df, dv, model):\n",
    "    dicts = df.to_dict(orient='records')\n",
    "\n",
    "    X = dv.transform(dicts)\n",
    "    y_pred = model.predict_proba(X)[:, 1]\n",
    "\n",
    "    return y_pred"
   ]
  },
  {
   "cell_type": "code",
   "execution_count": 43,
   "id": "9dc1b050-0665-4c1b-a1bf-eda3a39792f4",
   "metadata": {},
   "outputs": [
    {
     "data": {
      "application/vnd.jupyter.widget-view+json": {
       "model_id": "0dfc6df316964097b65de1c57748a839",
       "version_major": 2,
       "version_minor": 0
      },
      "text/plain": [
       "  0%|          | 0/7 [00:00<?, ?it/s]"
      ]
     },
     "metadata": {},
     "output_type": "display_data"
    },
    {
     "name": "stdout",
     "output_type": "stream",
     "text": [
      "C=0.001, Mean ROC AUC: 0.619 +- 0.001'\n",
      "C=0.001, Mean Average Precision Score: 0.634 +- 0.004\n",
      "C=0.01, Mean ROC AUC: 0.619 +- 0.001'\n",
      "C=0.01, Mean Average Precision Score: 0.634 +- 0.004\n",
      "C=0.1, Mean ROC AUC: 0.619 +- 0.001'\n",
      "C=0.1, Mean Average Precision Score: 0.634 +- 0.004\n",
      "C=0.5, Mean ROC AUC: 0.619 +- 0.001'\n",
      "C=0.5, Mean Average Precision Score: 0.634 +- 0.004\n",
      "C=1, Mean ROC AUC: 0.619 +- 0.001'\n",
      "C=1, Mean Average Precision Score: 0.634 +- 0.004\n",
      "C=5, Mean ROC AUC: 0.619 +- 0.001'\n",
      "C=5, Mean Average Precision Score: 0.634 +- 0.004\n",
      "C=10, Mean ROC AUC: 0.619 +- 0.001'\n",
      "C=10, Mean Average Precision Score: 0.634 +- 0.004\n"
     ]
    }
   ],
   "source": [
    "#Cross-Validation with KFold\n",
    "n_splits = 5\n",
    "\n",
    "df_train_full_cv = df_train_full[target_vars]\n",
    "y_train_full_cv = df_train_full[\"success\"].values\n",
    "\n",
    "for C in tqdm([0.001, 0.01, 0.1, 0.5, 1, 5, 10]):\n",
    "    \n",
    "    scores1 = []\n",
    "    scores2 = []\n",
    "    kfold = KFold(n_splits=n_splits, shuffle=True, random_state=1)\n",
    "    \n",
    "    for train_idx, val_idx in kfold.split(df_train_full_cv, y_train_full_cv):\n",
    "        df_train_cv = df_train_full_cv.iloc[train_idx]\n",
    "        df_val_cv = df_train_full_cv.iloc[val_idx]\n",
    "\n",
    "        y_train_cv = y_train_full_cv[train_idx]\n",
    "        y_val_cv = y_train_full_cv[val_idx]\n",
    "\n",
    "        dv_cv, model_cv = train(df_train_cv, y_train_cv, C)\n",
    "        y_pred_cv = predict(df_val_cv, dv_cv, model_cv)\n",
    "\n",
    "        auc_roc = roc_auc_score(y_val_cv, y_pred_cv)\n",
    "        aps = average_precision_score(y_val_cv, y_pred_cv)\n",
    "        scores1.append(auc_roc)\n",
    "        scores2.append(aps)\n",
    "\n",
    "    print(\"C=%s, Mean ROC AUC: %.3f +- %.3f'\" % (C, np.mean(scores1), np.std(scores1)))\n",
    "    print(\"C=%s, Mean Average Precision Score: %.3f +- %.3f\" % (C, np.mean(scores2), np.std(scores2)))"
   ]
  },
  {
   "cell_type": "markdown",
   "id": "d3e192eb-6858-4e08-b01b-0c8c94687002",
   "metadata": {},
   "source": [
    "### Random Forest Model"
   ]
  },
  {
   "cell_type": "markdown",
   "id": "c15f174e-3d6c-436a-878a-761fb71a8d3b",
   "metadata": {},
   "source": [
    "#### Parameter tuning"
   ]
  },
  {
   "cell_type": "code",
   "execution_count": 44,
   "id": "45922de0-2aca-413c-a3ac-216d71ea4576",
   "metadata": {},
   "outputs": [],
   "source": [
    "#Random Forest Parameter Tuning: max depth\n",
    "scores = []\n",
    "\n",
    "for d in [1, 5, 10, 15, 20]:\n",
    "    for n in range(10, 101, 10):\n",
    "        rf = RandomForestClassifier(n_estimators=n,\n",
    "                                    max_depth=d,\n",
    "                                    random_state=1)\n",
    "        rf.fit(X_train, y_train)\n",
    "\n",
    "        y_pred_rf = rf.predict_proba(X_val)[:, 1]\n",
    "        auc = roc_auc_score(y_val, y_pred_rf)\n",
    "\n",
    "        scores.append((d, n, auc))\n",
    "\n",
    "columns = ['max_depth', 'n_estimators', 'auc']\n",
    "df_scores = pd.DataFrame(scores, columns=columns)"
   ]
  },
  {
   "cell_type": "code",
   "execution_count": 45,
   "id": "759c8556-6090-4d69-9aa3-2e05c80ddf86",
   "metadata": {},
   "outputs": [
    {
     "data": {
      "text/plain": [
       "<matplotlib.legend.Legend at 0x7f21849d15d0>"
      ]
     },
     "execution_count": 45,
     "metadata": {},
     "output_type": "execute_result"
    },
    {
     "data": {
      "image/png": "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\n",
      "text/plain": [
       "<Figure size 640x480 with 1 Axes>"
      ]
     },
     "metadata": {},
     "output_type": "display_data"
    }
   ],
   "source": [
    "for d in [1, 5, 10, 15, 20]:\n",
    "    df_subset = df_scores[df_scores.max_depth == d]\n",
    "    \n",
    "    plt.plot(df_subset.n_estimators, df_subset.auc,\n",
    "             label='max_depth=%d' % d)\n",
    "\n",
    "plt.legend()"
   ]
  },
  {
   "cell_type": "code",
   "execution_count": 46,
   "id": "a97ee51b-911c-4169-a147-24a90e18f594",
   "metadata": {},
   "outputs": [],
   "source": [
    "#Select max depth based of previous tuning\n",
    "max_depth_target = 15"
   ]
  },
  {
   "cell_type": "code",
   "execution_count": 47,
   "id": "0b223f8f-7df4-475d-ac64-948ea520cd82",
   "metadata": {},
   "outputs": [],
   "source": [
    "#Random Forest Parameter Tuning: min samples leaf\n",
    "scores = []\n",
    "\n",
    "for s in [1, 3, 5, 10, 50]:\n",
    "    for n in range(10, 101, 10):\n",
    "        rf = RandomForestClassifier(n_estimators=n,\n",
    "                                    max_depth=max_depth_target,\n",
    "                                    min_samples_leaf=s,\n",
    "                                    random_state=1)\n",
    "        \n",
    "        rf.fit(X_train, y_train)\n",
    "\n",
    "        y_pred_rf = rf.predict_proba(X_val)[:, 1]\n",
    "        auc = roc_auc_score(y_val, y_pred_rf)\n",
    "\n",
    "        scores.append((s, n, auc))\n",
    "\n",
    "columns = ['min_samples_leaf', 'n_estimators', 'auc']\n",
    "df_scores = pd.DataFrame(scores, columns=columns)"
   ]
  },
  {
   "cell_type": "code",
   "execution_count": 48,
   "id": "3ef4b180-9bf4-4f01-902d-6cb460a6ec5a",
   "metadata": {},
   "outputs": [
    {
     "data": {
      "text/plain": [
       "<matplotlib.legend.Legend at 0x7f2184985c30>"
      ]
     },
     "execution_count": 48,
     "metadata": {},
     "output_type": "execute_result"
    },
    {
     "data": {
      "image/png": "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\n",
      "text/plain": [
       "<Figure size 640x480 with 1 Axes>"
      ]
     },
     "metadata": {},
     "output_type": "display_data"
    }
   ],
   "source": [
    "for s in [1, 3, 5, 10, 50]:\n",
    "    df_subset = df_scores[df_scores.min_samples_leaf == s]\n",
    "    \n",
    "    plt.plot(df_subset.n_estimators, df_subset.auc,\n",
    "             label='min_samples_leaf=%d' % s)\n",
    "\n",
    "plt.legend()"
   ]
  },
  {
   "cell_type": "code",
   "execution_count": 49,
   "id": "2f4f716a-3766-4629-affc-adf78725eeec",
   "metadata": {},
   "outputs": [],
   "source": [
    "#Select remaining parameters based on previous tuning\n",
    "n_estimators_target = 20\n",
    "min_samples_leaf_target = 1"
   ]
  },
  {
   "cell_type": "markdown",
   "id": "6e57fceb-a10b-4ff3-912a-7908f8cf3605",
   "metadata": {},
   "source": [
    "#### Selected model"
   ]
  },
  {
   "cell_type": "code",
   "execution_count": 50,
   "id": "d2aed792-7a83-470d-a9a9-6d71812b256c",
   "metadata": {},
   "outputs": [],
   "source": [
    "#Model with specified parameters \n",
    "rf = RandomForestClassifier(n_estimators=n_estimators_target , max_depth=max_depth_target, \n",
    "                            min_samples_leaf=min_samples_leaf_target, random_state=1)\n",
    "\n",
    "rf.fit(X_train, y_train)\n",
    "\n",
    "y_pred_rf = rf.predict_proba(X_val)[:, 1]"
   ]
  },
  {
   "cell_type": "code",
   "execution_count": 51,
   "id": "0bd3b2a8",
   "metadata": {},
   "outputs": [
    {
     "name": "stdout",
     "output_type": "stream",
     "text": [
      "Accuracy: 0.6880262061435016\n",
      "Precision: 0.7099766627771296\n",
      "Recall: 0.6739961229576295\n",
      "AUC Score: 0.7566454173840081\n",
      "Average Precision Score: 0.7703396489933094\n"
     ]
    }
   ],
   "source": [
    "#Model Evaluation: Accuracy, Precision, Recall, AUC and Average Precision\n",
    "print(\"Accuracy:\", accuracy_score(y_val, y_pred_rf > 0.5))\n",
    "print(\"Precision:\", precision_score(y_val, y_pred_rf > 0.5))\n",
    "print(\"Recall:\", recall_score(y_val, y_pred_rf > 0.5))\n",
    "print(\"AUC Score:\", roc_auc_score(y_val, y_pred_rf))\n",
    "print(\"Average Precision Score:\", average_precision_score(y_val, y_pred_rf))"
   ]
  },
  {
   "cell_type": "code",
   "execution_count": 52,
   "id": "5bf4f4b4-3e53-4174-8ac0-8e3b0b379362",
   "metadata": {},
   "outputs": [
    {
     "data": {
      "text/plain": [
       "<matplotlib.legend.Legend at 0x7f2184859ba0>"
      ]
     },
     "execution_count": 52,
     "metadata": {},
     "output_type": "execute_result"
    },
    {
     "data": {
      "image/png": "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\n",
      "text/plain": [
       "<Figure size 700x500 with 1 Axes>"
      ]
     },
     "metadata": {},
     "output_type": "display_data"
    }
   ],
   "source": [
    "#ROC curve\n",
    "fpr, tpr, thresholds = roc_curve(y_val, y_pred_rf)\n",
    "\n",
    "plt.figure(figsize=(7, 5))\n",
    "\n",
    "plt.plot(fpr, tpr, label='Random Forest Model')\n",
    "plt.plot([0, 1], [0, 1], label='Random', linestyle='--')\n",
    "\n",
    "plt.xlabel('FPR')\n",
    "plt.ylabel('TPR')\n",
    "\n",
    "plt.legend()"
   ]
  },
  {
   "cell_type": "markdown",
   "id": "dcca353c-e9ac-47e9-99bf-cf646099b447",
   "metadata": {},
   "source": [
    "#### Cross-validation"
   ]
  },
  {
   "cell_type": "code",
   "execution_count": 53,
   "id": "045aecbb-42a0-4433-8f50-1a3594fdbf45",
   "metadata": {},
   "outputs": [],
   "source": [
    "def train_rf(df_train, y_train):\n",
    "    dicts = df_train.to_dict(orient='records')\n",
    "\n",
    "    dv = DictVectorizer(sparse=False)\n",
    "    X_train = dv.fit_transform(dicts)\n",
    "    \n",
    "    rf = RandomForestClassifier(n_estimators=n_estimators_target, max_depth=max_depth_target, \n",
    "                                min_samples_leaf=min_samples_leaf_target, random_state=1)\n",
    "    rf.fit(X_train, y_train)\n",
    "\n",
    "    return dv, rf"
   ]
  },
  {
   "cell_type": "code",
   "execution_count": 54,
   "id": "7132062d-8c47-4ccd-8944-2d2ac2c6e0cb",
   "metadata": {},
   "outputs": [],
   "source": [
    "def predict_rf(df, dv, rf):\n",
    "    dicts = df.to_dict(orient='records')\n",
    "\n",
    "    X = dv.transform(dicts)\n",
    "    y_pred = rf.predict_proba(X)[:, 1]\n",
    "\n",
    "    return y_pred"
   ]
  },
  {
   "cell_type": "code",
   "execution_count": 55,
   "id": "5df4e9ac-8f2a-4969-ab4d-f8f6fbee5542",
   "metadata": {},
   "outputs": [
    {
     "name": "stdout",
     "output_type": "stream",
     "text": [
      "Mean ROC AUC: 0.755 +- 0.003\n",
      "Mean Average Precision Score: 0.769 +- 0.005\n"
     ]
    }
   ],
   "source": [
    "#Cross validation with KFold\n",
    "\n",
    "df_train_full_cv = df_train_full[target_vars]\n",
    "y_train_full_cv = df_train_full[\"success\"].values\n",
    "\n",
    "scores1 = []\n",
    "scores2 = []\n",
    "n_splits = 5\n",
    "kfold = KFold(n_splits=n_splits, shuffle=True, random_state=1)\n",
    "\n",
    "for train_idx, val_idx in kfold.split(df_train_full_cv, y_train_full_cv):\n",
    "    df_train_cv = df_train_full_cv.iloc[train_idx]\n",
    "    df_val_cv = df_train_full_cv.iloc[val_idx]\n",
    "\n",
    "    df_train_cv_rf = pd.get_dummies(df_train_cv)\n",
    "    df_val_cv_rf = pd.get_dummies(df_val_cv)        \n",
    "              \n",
    "    y_train_cv_rf = y_train_full_cv[train_idx]\n",
    "    y_val_cv_rf = y_train_full_cv[val_idx]        \n",
    "    \n",
    "    dv_cv_rf, model_cv_rf = train_rf(df_train_cv_rf, y_train_cv_rf)\n",
    "    y_pred_cv_rf = predict_rf(df_val_cv_rf, dv_cv_rf, model_cv_rf)\n",
    "\n",
    "    auc_roc = roc_auc_score(y_val_cv_rf, y_pred_cv_rf)\n",
    "    aps = average_precision_score(y_val_cv_rf, y_pred_cv_rf)\n",
    "    scores1.append(auc_roc)\n",
    "    scores2.append(aps)\n",
    "\n",
    "print('Mean ROC AUC: %.3f +- %.3f' % (np.mean(scores1), np.std(scores1)))\n",
    "print('Mean Average Precision Score: %.3f +- %.3f' % (np.mean(scores2),np.std(scores2)))"
   ]
  },
  {
   "cell_type": "markdown",
   "id": "7894883d-cb1d-4b2c-8e1f-b1a93222300f",
   "metadata": {},
   "source": [
    "### XGBoost"
   ]
  },
  {
   "cell_type": "markdown",
   "id": "aec4aaf2-3a21-49ef-b7e9-a62369330ce2",
   "metadata": {},
   "source": [
    "#### Prepare data"
   ]
  },
  {
   "cell_type": "code",
   "execution_count": 56,
   "id": "f2f6e200-8e3f-4dfb-ab85-fbf486bfecc7",
   "metadata": {},
   "outputs": [],
   "source": [
    "#Divide in train, validation and test sets\n",
    "#Stratified sampling will be using to account for imbalanced nature of the data\n",
    "df_train_full, df_test = train_test_split(new_exporters, test_size=0.2, random_state=1, \n",
    "                                          stratify=new_exporters.success)\n",
    "df_train, df_val = train_test_split(df_train_full, test_size=0.33, random_state=1, \n",
    "                                    stratify=df_train_full.success)\n",
    "\n",
    "#Reset index\n",
    "df_train.reset_index(drop=True, inplace=True) \n",
    "df_val.reset_index(drop=True, inplace=True) \n",
    "df_test.reset_index(drop=True, inplace=True)\n",
    "\n",
    "#Calculate y_train, y_val and y_test variable for all sets\n",
    "y_train = df_train.success.values\n",
    "y_val = df_val.success.values\n",
    "y_test = df_test.success.values\n",
    "\n",
    "#Drop y variable\n",
    "df_train.drop(\"success\", axis=1, inplace=True)\n",
    "df_val.drop(\"success\", axis=1, inplace=True)\n",
    "df_test.drop(\"success\", axis=1, inplace=True)\n",
    "\n",
    "#Target vars\n",
    "df_train = df_train[target_vars]\n",
    "df_val = df_val[target_vars]\n",
    "df_test = df_test[target_vars]"
   ]
  },
  {
   "cell_type": "code",
   "execution_count": 57,
   "id": "aa946684-8ba4-4c4b-9719-1b2bb3f300cd",
   "metadata": {},
   "outputs": [],
   "source": [
    "#Based on feature analysis and previous logistic regression fitting, select target variables for this model\n",
    "target_vars = [\"region\", \"prod_class\", \"exp_region\", \"fta\", \"active_years\", \"pnk\", \"other_expenses\",\n",
    "               \"product_national\",\"active_markets\", \"active_products\", \"overall_exp\", \"year\"]\n",
    "\n",
    "df_train_full = df_train_full[target_vars + [\"success\"]] \n",
    "df_train = df_train[target_vars]\n",
    "df_val = df_val[target_vars] \n",
    "df_test = df_test[target_vars]"
   ]
  },
  {
   "cell_type": "code",
   "execution_count": 58,
   "id": "ee78e99b-42a1-4ef1-8962-165da601ba4e",
   "metadata": {},
   "outputs": [],
   "source": [
    "#Prepare data for XGBoost model training\n",
    "train_dict = df_train.to_dict(orient='records')\n",
    "\n",
    "dv = DictVectorizer(sparse=False)\n",
    "dv.fit(train_dict)\n",
    "\n",
    "X_train = dv.transform(train_dict)\n",
    "\n",
    "val_dict = df_val.to_dict(orient=\"records\")\n",
    "X_val = dv.transform(val_dict)\n",
    "\n",
    "features = dv.get_feature_names_out()\n",
    "\n",
    "dtrain_xgb = xgb.DMatrix(X_train, label=y_train, feature_names=features)\n",
    "dval_xgb = xgb.DMatrix(X_val, label=y_val, feature_names=features)"
   ]
  },
  {
   "cell_type": "markdown",
   "id": "b6857543-afba-4efe-9d6d-73005ab7ee61",
   "metadata": {},
   "source": [
    "#### Parameter tuning"
   ]
  },
  {
   "cell_type": "code",
   "execution_count": 59,
   "id": "7c76ca4b-1e17-479d-a65c-6b94b459423f",
   "metadata": {},
   "outputs": [],
   "source": [
    "watchlist = [(dtrain_xgb, 'train'), (dval_xgb, 'val')]"
   ]
  },
  {
   "cell_type": "code",
   "execution_count": 60,
   "id": "1d02efb8-b69e-4612-a44e-68d4c18635c4",
   "metadata": {},
   "outputs": [],
   "source": [
    "def parse_xgb_output(output):\n",
    "    results = []\n",
    "\n",
    "    for line in output.stdout.strip().split('\\n'):\n",
    "        it_line, train_line, val_line = line.split('\\t')\n",
    "\n",
    "        it = int(it_line.strip('[]'))\n",
    "        train = float(train_line.split(':')[1])\n",
    "        val = float(val_line.split(':')[1])\n",
    "\n",
    "        results.append((it, train, val))\n",
    "    \n",
    "    columns = ['num_iter', 'train_auc', 'val_auc']\n",
    "    df_results = pd.DataFrame(results, columns=columns)\n",
    "    return df_results"
   ]
  },
  {
   "cell_type": "code",
   "execution_count": 61,
   "id": "48bb81b2-18eb-4b42-9f59-7a3646495871",
   "metadata": {},
   "outputs": [],
   "source": [
    "#Parameter tuning: eta\n",
    "scores = {}"
   ]
  },
  {
   "cell_type": "code",
   "execution_count": 68,
   "id": "b98d4afa-6084-41cb-a9f3-1b5a917aefa7",
   "metadata": {},
   "outputs": [],
   "source": [
    "%%capture output\n",
    "\n",
    "#Run this block and the following with different eta values (0.01, 0.1, 0.3, 1)\n",
    "xgb_params = {\"eta\":1,\"max_depth\":6,\"min_child_weight\":1, \"objective\":\"binary:logistic\",\n",
    "    \"eval_metric\":\"auc\", \"nthread\":8, \"seed\": 1, \"verbosity\": 1}\n",
    "\n",
    "model_xgb= xgb.train(xgb_params, dtrain_xgb, num_boost_round=200, verbose_eval=5, evals=watchlist)"
   ]
  },
  {
   "cell_type": "code",
   "execution_count": 69,
   "id": "4272efe4-e5e8-444b-b948-475089414f25",
   "metadata": {},
   "outputs": [
    {
     "data": {
      "text/plain": [
       "'eta=1'"
      ]
     },
     "execution_count": 69,
     "metadata": {},
     "output_type": "execute_result"
    }
   ],
   "source": [
    "key = \"eta=%s\" % (xgb_params[\"eta\"])\n",
    "scores[key] = parse_xgb_output(output)\n",
    "key"
   ]
  },
  {
   "cell_type": "code",
   "execution_count": 70,
   "id": "3d74a1af-fa67-4872-a09b-d0da350c4fad",
   "metadata": {},
   "outputs": [
    {
     "data": {
      "text/plain": [
       "<matplotlib.legend.Legend at 0x7f218ca9ee90>"
      ]
     },
     "execution_count": 70,
     "metadata": {},
     "output_type": "execute_result"
    },
    {
     "data": {
      "image/png": "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\n",
      "text/plain": [
       "<Figure size 640x480 with 1 Axes>"
      ]
     },
     "metadata": {},
     "output_type": "display_data"
    }
   ],
   "source": [
    "for eta, df_score in scores.items():\n",
    "    plt.plot(df_score.num_iter, df_score.val_auc, label=eta)\n",
    "\n",
    "plt.ylim(0.7, 0.8)\n",
    "plt.legend()"
   ]
  },
  {
   "cell_type": "code",
   "execution_count": 71,
   "id": "ca776166-a31c-4428-a988-38f016913d89",
   "metadata": {},
   "outputs": [],
   "source": [
    "#Select target eta based on previous tuning\n",
    "eta_target = 0.3"
   ]
  },
  {
   "cell_type": "code",
   "execution_count": 72,
   "id": "9509a16d-d05a-4471-93d5-e050bb0d8a7d",
   "metadata": {},
   "outputs": [],
   "source": [
    "#Parameter tuning: max_depth\n",
    "scores = {}"
   ]
  },
  {
   "cell_type": "code",
   "execution_count": 79,
   "id": "1c141a51-2237-4137-a01b-14af28982616",
   "metadata": {},
   "outputs": [],
   "source": [
    "%%capture output\n",
    "\n",
    "#Run this block and the following with different max_depth values (3, 5, 10, 15)\n",
    "xgb_params = {\"eta\":eta_target,\"max_depth\":15,\"min_child_weight\":1, \"objective\":\"binary:logistic\",\n",
    "                  \"eval_metric\":\"auc\", \"nthread\":8, \"seed\": 1, \"verbosity\": 1}\n",
    "\n",
    "model_xgb= xgb.train(xgb_params, dtrain_xgb, num_boost_round=200, verbose_eval=5, evals=watchlist)"
   ]
  },
  {
   "cell_type": "code",
   "execution_count": 80,
   "id": "845cab9c-d166-4c91-a66f-6cc05607cd4d",
   "metadata": {},
   "outputs": [
    {
     "data": {
      "text/plain": [
       "'max_depth=15'"
      ]
     },
     "execution_count": 80,
     "metadata": {},
     "output_type": "execute_result"
    }
   ],
   "source": [
    "key = \"max_depth=%s\" % (xgb_params[\"max_depth\"])\n",
    "scores[key] = parse_xgb_output(output)\n",
    "key"
   ]
  },
  {
   "cell_type": "code",
   "execution_count": 81,
   "id": "1be85c8a-beef-4562-8d5a-98e4877f75ae",
   "metadata": {},
   "outputs": [
    {
     "data": {
      "text/plain": [
       "<matplotlib.legend.Legend at 0x7f21829e7fd0>"
      ]
     },
     "execution_count": 81,
     "metadata": {},
     "output_type": "execute_result"
    },
    {
     "data": {
      "image/png": "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\n",
      "text/plain": [
       "<Figure size 640x480 with 1 Axes>"
      ]
     },
     "metadata": {},
     "output_type": "display_data"
    }
   ],
   "source": [
    "for max_depth, df_score in scores.items():\n",
    "    plt.plot(df_score.num_iter, df_score.val_auc, label=max_depth)\n",
    "\n",
    "plt.ylim(0.7, 0.8)\n",
    "plt.legend()"
   ]
  },
  {
   "cell_type": "code",
   "execution_count": 82,
   "id": "f2b84d98-2c78-4821-8fc1-699d86a3c991",
   "metadata": {},
   "outputs": [],
   "source": [
    "#Select max_depth target based on previous tuning\n",
    "max_depth_target = 5"
   ]
  },
  {
   "cell_type": "code",
   "execution_count": 83,
   "id": "150ee1c5-da48-4992-9f0c-9788192527fa",
   "metadata": {},
   "outputs": [],
   "source": [
    "#Parameter tuning: min_child_weight\n",
    "scores = {}"
   ]
  },
  {
   "cell_type": "code",
   "execution_count": 90,
   "id": "68506573-f09b-4724-9af4-961317706fce",
   "metadata": {},
   "outputs": [],
   "source": [
    "%%capture output\n",
    "\n",
    "#Run this block and the following with different min_child_weight values (1, 5, 10, 15)\n",
    "xgb_params = {\"eta\":eta_target,\"max_depth\":max_depth_target,\"min_child_weight\":15, \"objective\":\"binary:logistic\",\n",
    "    \"eval_metric\":\"auc\", \"nthread\":8, \"seed\": 1, \"verbosity\": 1}\n",
    "\n",
    "model_xgb= xgb.train(xgb_params, dtrain_xgb, num_boost_round=200, verbose_eval=5, evals=watchlist)"
   ]
  },
  {
   "cell_type": "code",
   "execution_count": 91,
   "id": "7717420b-5a3e-410b-807b-29eb417d7d78",
   "metadata": {},
   "outputs": [
    {
     "data": {
      "text/plain": [
       "'min_child_weight=15'"
      ]
     },
     "execution_count": 91,
     "metadata": {},
     "output_type": "execute_result"
    }
   ],
   "source": [
    "key = 'min_child_weight=%s' % (xgb_params[\"min_child_weight\"])\n",
    "scores[key] = parse_xgb_output(output)\n",
    "key"
   ]
  },
  {
   "cell_type": "code",
   "execution_count": 92,
   "id": "0ec504b7-593f-487d-b3ac-22ca7aa64997",
   "metadata": {},
   "outputs": [
    {
     "data": {
      "text/plain": [
       "<matplotlib.legend.Legend at 0x7f21829e7d00>"
      ]
     },
     "execution_count": 92,
     "metadata": {},
     "output_type": "execute_result"
    },
    {
     "data": {
      "image/png": "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\n",
      "text/plain": [
       "<Figure size 640x480 with 1 Axes>"
      ]
     },
     "metadata": {},
     "output_type": "display_data"
    }
   ],
   "source": [
    "for min_child_weight, df_score in scores.items():\n",
    "    plt.plot(df_score.num_iter, df_score.val_auc, label=min_child_weight)\n",
    "\n",
    "plt.ylim(0.7, 0.8)\n",
    "plt.legend()"
   ]
  },
  {
   "cell_type": "code",
   "execution_count": 93,
   "id": "b4343177-e345-4374-b08a-2e741fb9401b",
   "metadata": {},
   "outputs": [],
   "source": [
    "#Select min_child_weight target based on previous tuning\n",
    "min_child_target = 5"
   ]
  },
  {
   "cell_type": "markdown",
   "id": "e6f05ed5-0642-4f63-ba3c-c5359a8f995e",
   "metadata": {},
   "source": [
    "#### Selected model"
   ]
  },
  {
   "cell_type": "code",
   "execution_count": 94,
   "id": "28942492-6488-4e7f-b69c-316944888e54",
   "metadata": {},
   "outputs": [],
   "source": [
    "xgb_params = {\"eta\":eta_target,\"max_depth\":max_depth_target,\"min_child_weight\":min_child_target, \n",
    "              \"objective\":\"binary:logistic\", \"eval_metric\":\"auc\", \"nthread\":8, \"seed\": 1, \"verbosity\": 1}\n",
    "\n",
    "model_xgb= xgb.train(xgb_params, dtrain_xgb, num_boost_round=200)"
   ]
  },
  {
   "cell_type": "code",
   "execution_count": 95,
   "id": "101cd0fe-3521-42a5-92fd-e3147903fa55",
   "metadata": {},
   "outputs": [],
   "source": [
    "y_pred_xgb = model_xgb.predict(dval_xgb)"
   ]
  },
  {
   "cell_type": "code",
   "execution_count": 96,
   "id": "efb8f9d9-5bb9-4009-b893-091de20464ce",
   "metadata": {},
   "outputs": [
    {
     "name": "stdout",
     "output_type": "stream",
     "text": [
      "Accuracy: 0.6878250624982041\n",
      "Precision: 0.7009220452640402\n",
      "Recall: 0.6947106064801994\n",
      "AUC Score: 0.7533463957202046\n",
      "Average Precision Score: 0.7678954678627904\n"
     ]
    }
   ],
   "source": [
    "#Model evaluation: accuracy, precision, recall, auc and average precision\n",
    "print(\"Accuracy:\", accuracy_score(y_val, y_pred_xgb>0.5))\n",
    "print(\"Precision:\", precision_score(y_val, y_pred_xgb>0.5))\n",
    "print(\"Recall:\", recall_score(y_val, y_pred_xgb>0.5))\n",
    "print(\"AUC Score:\", roc_auc_score(y_val, y_pred_xgb))\n",
    "print(\"Average Precision Score:\", average_precision_score(y_val, y_pred_xgb))"
   ]
  },
  {
   "cell_type": "code",
   "execution_count": 97,
   "id": "36a2f8e5-7b14-4899-9147-cc78d24a4a06",
   "metadata": {},
   "outputs": [
    {
     "data": {
      "text/plain": [
       "<matplotlib.legend.Legend at 0x7f21828edf30>"
      ]
     },
     "execution_count": 97,
     "metadata": {},
     "output_type": "execute_result"
    },
    {
     "data": {
      "image/png": "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\n",
      "text/plain": [
       "<Figure size 700x500 with 1 Axes>"
      ]
     },
     "metadata": {},
     "output_type": "display_data"
    }
   ],
   "source": [
    "#ROC curve\n",
    "fpr, tpr, thresholds = roc_curve(y_val, y_pred_xgb)\n",
    "\n",
    "plt.figure(figsize=(7, 5))\n",
    "\n",
    "plt.plot(fpr, tpr, label='XGBoost Model')\n",
    "plt.plot([0, 1], [0, 1], label='Random', linestyle='--')\n",
    "\n",
    "plt.xlabel('FPR')\n",
    "plt.ylabel('TPR')\n",
    "\n",
    "plt.legend()"
   ]
  },
  {
   "cell_type": "markdown",
   "id": "a7411bdd-5c40-470b-b21a-6e8fdee7633e",
   "metadata": {},
   "source": [
    "#### Cross-validation"
   ]
  },
  {
   "cell_type": "code",
   "execution_count": 98,
   "id": "7bb281f1-b885-41a2-b8e5-e88f43698d1c",
   "metadata": {},
   "outputs": [],
   "source": [
    "def train_xgb(df_train, y_train):\n",
    "    \n",
    "    train_dict = df_train.to_dict(orient='records')\n",
    "    dv = DictVectorizer(sparse=False)\n",
    "    dv.fit(train_dict)\n",
    "    X_train = dv.transform(train_dict)\n",
    "\n",
    "    features = dv.get_feature_names_out()\n",
    "\n",
    "    dtrain_xgb = xgb.DMatrix(X_train, label=y_train, feature_names=features)\n",
    "    \n",
    "    xgb_params = {\"eta\":eta_target,\"max_depth\":max_depth_target,\"min_child_weight\":min_child_target, \n",
    "              \"objective\":\"binary:logistic\", \"eval_metric\":\"auc\", \"nthread\":8, \"seed\": 1, \"verbosity\": 1}\n",
    "\n",
    "    model_xgb = xgb.train(xgb_params, dtrain_xgb, num_boost_round=200)\n",
    "    \n",
    "    return dv, model_xgb"
   ]
  },
  {
   "cell_type": "code",
   "execution_count": 99,
   "id": "68790673-738f-42bb-8e9b-cb2e34fb0f0d",
   "metadata": {},
   "outputs": [],
   "source": [
    "def predict_xgb(df_val, dv, model_xgb, y_val):\n",
    "    \n",
    "    val_dict = df_val.to_dict(orient=\"records\")\n",
    "    X_val = dv.transform(val_dict)\n",
    "\n",
    "    features = dv.get_feature_names_out()\n",
    "    \n",
    "    dval_xgb = xgb.DMatrix(X_val, label=y_val, feature_names=features)\n",
    "    \n",
    "    y_pred_xgb = model_xgb.predict(dval_xgb)\n",
    "\n",
    "    return y_pred_xgb"
   ]
  },
  {
   "cell_type": "code",
   "execution_count": 100,
   "id": "7cf07439-6795-43bb-bfa2-f496e92ee6d4",
   "metadata": {},
   "outputs": [
    {
     "name": "stdout",
     "output_type": "stream",
     "text": [
      "Mean ROC AUC: 0.754 +- 0.004\n",
      "Mean Average Precision Score: 0.769 +- 0.005\n"
     ]
    }
   ],
   "source": [
    "#Cross validation with KFold\n",
    "\n",
    "df_train_full_cv = df_train_full[target_vars]\n",
    "y_train_full_cv = df_train_full[\"success\"].values\n",
    "\n",
    "scores1 = []\n",
    "scores2 = []\n",
    "n_splits = 5\n",
    "kfold = KFold(n_splits=n_splits, shuffle=True, random_state=1)\n",
    "\n",
    "for train_idx, val_idx in kfold.split(df_train_full_cv, y_train_full_cv):\n",
    "    df_train_cv = df_train_full_cv.iloc[train_idx]\n",
    "    df_val_cv = df_train_full_cv.iloc[val_idx]      \n",
    "              \n",
    "    y_train_cv = y_train_full_cv[train_idx]\n",
    "    y_val_cv = y_train_full_cv[val_idx]        \n",
    "    \n",
    "    dv_cv, model_cv = train_xgb(df_train_cv, y_train_cv)\n",
    "    y_pred_cv = predict_xgb(df_val_cv, dv_cv, model_cv, y_val_cv)\n",
    "\n",
    "    auc_roc = roc_auc_score(y_val_cv, y_pred_cv)\n",
    "    aps = average_precision_score(y_val_cv, y_pred_cv)\n",
    "    scores1.append(auc_roc)\n",
    "    scores2.append(aps)\n",
    "\n",
    "print('Mean ROC AUC: %.3f +- %.3f' % (np.mean(scores1), np.std(scores1)))\n",
    "print('Mean Average Precision Score: %.3f +- %.3f' % (np.mean(scores2),np.std(scores2)))"
   ]
  },
  {
   "cell_type": "markdown",
   "id": "7e9bd79c-3646-4119-9aea-dad661325cb7",
   "metadata": {},
   "source": [
    "## The Best Model"
   ]
  },
  {
   "cell_type": "markdown",
   "id": "fb31d049-791a-425c-a9eb-4963afc4ce8b",
   "metadata": {},
   "source": [
    "Based on the modelling in the previous section, the best performing model is a Random Forest with specified target variables and the following parameters:\n",
    "* max_depth_target = 15\n",
    "* n_estimators_target = 20\n",
    "* min_samples_leaf_target = 1"
   ]
  },
  {
   "cell_type": "code",
   "execution_count": 101,
   "id": "ae8fd61f-26f3-4662-a420-8e5631efd2ab",
   "metadata": {},
   "outputs": [],
   "source": [
    "#Divide in train, validation and test sets\n",
    "#Stratified sampling will be using to account for imbalanced nature of the data\n",
    "df_train_full, df_test = train_test_split(new_exporters, test_size=0.2, random_state=1, \n",
    "                                          stratify=new_exporters.success)\n",
    "\n",
    "#Reset index\n",
    "df_train_full.reset_index(drop=True, inplace=True) \n",
    "df_test.reset_index(drop=True, inplace=True)\n",
    "\n",
    "#Calculate y_train, y_val and y_test variable for all sets\n",
    "y_train = df_train_full.success.values\n",
    "y_test = df_test.success.values\n",
    "\n",
    "df_train_full.drop(\"success\", axis=1, inplace=True)\n",
    "df_test.drop(\"success\", axis=1, inplace=True)"
   ]
  },
  {
   "cell_type": "code",
   "execution_count": 103,
   "id": "6aefee7e-d8cc-48ec-ac8c-3d8e69380250",
   "metadata": {},
   "outputs": [],
   "source": [
    "#Target variables for this model based on feature analysis and logistic regression fittin\n",
    "target_vars = [\"region\", \"prod_class\", \"exp_region\", \"fta\", \"active_years\", \"pnk\", \"other_expenses\",\n",
    "               \"product_national\",\"active_markets\", \"active_products\", \"overall_exp\", \"year\"]\n",
    "\n",
    "df_train_full = df_train_full[target_vars] \n",
    "df_test = df_test[target_vars]"
   ]
  },
  {
   "cell_type": "code",
   "execution_count": 104,
   "id": "c3988822-435b-487c-a04e-a957cfda915a",
   "metadata": {},
   "outputs": [
    {
     "data": {
      "text/html": [
       "<style>#sk-container-id-3 {color: black;background-color: white;}#sk-container-id-3 pre{padding: 0;}#sk-container-id-3 div.sk-toggleable {background-color: white;}#sk-container-id-3 label.sk-toggleable__label {cursor: pointer;display: block;width: 100%;margin-bottom: 0;padding: 0.3em;box-sizing: border-box;text-align: center;}#sk-container-id-3 label.sk-toggleable__label-arrow:before {content: \"▸\";float: left;margin-right: 0.25em;color: #696969;}#sk-container-id-3 label.sk-toggleable__label-arrow:hover:before {color: black;}#sk-container-id-3 div.sk-estimator:hover label.sk-toggleable__label-arrow:before {color: black;}#sk-container-id-3 div.sk-toggleable__content {max-height: 0;max-width: 0;overflow: hidden;text-align: left;background-color: #f0f8ff;}#sk-container-id-3 div.sk-toggleable__content pre {margin: 0.2em;color: black;border-radius: 0.25em;background-color: #f0f8ff;}#sk-container-id-3 input.sk-toggleable__control:checked~div.sk-toggleable__content {max-height: 200px;max-width: 100%;overflow: auto;}#sk-container-id-3 input.sk-toggleable__control:checked~label.sk-toggleable__label-arrow:before {content: \"▾\";}#sk-container-id-3 div.sk-estimator input.sk-toggleable__control:checked~label.sk-toggleable__label {background-color: #d4ebff;}#sk-container-id-3 div.sk-label input.sk-toggleable__control:checked~label.sk-toggleable__label {background-color: #d4ebff;}#sk-container-id-3 input.sk-hidden--visually {border: 0;clip: rect(1px 1px 1px 1px);clip: rect(1px, 1px, 1px, 1px);height: 1px;margin: -1px;overflow: hidden;padding: 0;position: absolute;width: 1px;}#sk-container-id-3 div.sk-estimator {font-family: monospace;background-color: #f0f8ff;border: 1px dotted black;border-radius: 0.25em;box-sizing: border-box;margin-bottom: 0.5em;}#sk-container-id-3 div.sk-estimator:hover {background-color: #d4ebff;}#sk-container-id-3 div.sk-parallel-item::after {content: \"\";width: 100%;border-bottom: 1px solid gray;flex-grow: 1;}#sk-container-id-3 div.sk-label:hover label.sk-toggleable__label {background-color: #d4ebff;}#sk-container-id-3 div.sk-serial::before {content: \"\";position: absolute;border-left: 1px solid gray;box-sizing: border-box;top: 0;bottom: 0;left: 50%;z-index: 0;}#sk-container-id-3 div.sk-serial {display: flex;flex-direction: column;align-items: center;background-color: white;padding-right: 0.2em;padding-left: 0.2em;position: relative;}#sk-container-id-3 div.sk-item {position: relative;z-index: 1;}#sk-container-id-3 div.sk-parallel {display: flex;align-items: stretch;justify-content: center;background-color: white;position: relative;}#sk-container-id-3 div.sk-item::before, #sk-container-id-3 div.sk-parallel-item::before {content: \"\";position: absolute;border-left: 1px solid gray;box-sizing: border-box;top: 0;bottom: 0;left: 50%;z-index: -1;}#sk-container-id-3 div.sk-parallel-item {display: flex;flex-direction: column;z-index: 1;position: relative;background-color: white;}#sk-container-id-3 div.sk-parallel-item:first-child::after {align-self: flex-end;width: 50%;}#sk-container-id-3 div.sk-parallel-item:last-child::after {align-self: flex-start;width: 50%;}#sk-container-id-3 div.sk-parallel-item:only-child::after {width: 0;}#sk-container-id-3 div.sk-dashed-wrapped {border: 1px dashed gray;margin: 0 0.4em 0.5em 0.4em;box-sizing: border-box;padding-bottom: 0.4em;background-color: white;}#sk-container-id-3 div.sk-label label {font-family: monospace;font-weight: bold;display: inline-block;line-height: 1.2em;}#sk-container-id-3 div.sk-label-container {text-align: center;}#sk-container-id-3 div.sk-container {/* jupyter's `normalize.less` sets `[hidden] { display: none; }` but bootstrap.min.css set `[hidden] { display: none !important; }` so we also need the `!important` here to be able to override the default hidden behavior on the sphinx rendered scikit-learn.org. See: https://github.com/scikit-learn/scikit-learn/issues/21755 */display: inline-block !important;position: relative;}#sk-container-id-3 div.sk-text-repr-fallback {display: none;}</style><div id=\"sk-container-id-3\" class=\"sk-top-container\"><div class=\"sk-text-repr-fallback\"><pre>RandomForestClassifier(max_depth=15, n_estimators=20, random_state=1)</pre><b>In a Jupyter environment, please rerun this cell to show the HTML representation or trust the notebook. <br />On GitHub, the HTML representation is unable to render, please try loading this page with nbviewer.org.</b></div><div class=\"sk-container\" hidden><div class=\"sk-item\"><div class=\"sk-estimator sk-toggleable\"><input class=\"sk-toggleable__control sk-hidden--visually\" id=\"sk-estimator-id-3\" type=\"checkbox\" checked><label for=\"sk-estimator-id-3\" class=\"sk-toggleable__label sk-toggleable__label-arrow\">RandomForestClassifier</label><div class=\"sk-toggleable__content\"><pre>RandomForestClassifier(max_depth=15, n_estimators=20, random_state=1)</pre></div></div></div></div></div>"
      ],
      "text/plain": [
       "RandomForestClassifier(max_depth=15, n_estimators=20, random_state=1)"
      ]
     },
     "execution_count": 104,
     "metadata": {},
     "output_type": "execute_result"
    }
   ],
   "source": [
    "#Encoding with DictVectorizer\n",
    "train_dict = df_train_full.to_dict(orient='records')\n",
    "dv = DictVectorizer(sparse=False)\n",
    "dv.fit(train_dict)\n",
    "\n",
    "#Prepare feature matrix for model training\n",
    "X_train = dv.transform(train_dict)\n",
    "\n",
    "#Random Forest with parameters identified in jupyter notebook \n",
    "max_depth_target = 15\n",
    "n_estimators_target = 20\n",
    "min_samples_leaf_target = 1\n",
    "\n",
    "model = RandomForestClassifier(n_estimators=n_estimators_target, max_depth=max_depth_target, \n",
    "                                min_samples_leaf=min_samples_leaf_target, random_state=1)\n",
    "model.fit(X_train, y_train)"
   ]
  },
  {
   "cell_type": "code",
   "execution_count": 105,
   "id": "c7f7ac88-48c1-42b2-b10b-9ee15b723f0d",
   "metadata": {},
   "outputs": [
    {
     "name": "stdout",
     "output_type": "stream",
     "text": [
      "AUC Score: 0.7558284420202559\n",
      "Average Precision Score: 0.7712407529048262\n"
     ]
    }
   ],
   "source": [
    "#Model validation\n",
    "test_dict = df_test.to_dict(orient='records')\n",
    "X_test = dv.transform(test_dict)\n",
    "y_pred = model.predict_proba(X_test)[:, 1]\n",
    "\n",
    "#AUC Score\n",
    "print(\"AUC Score:\", roc_auc_score(y_test, y_pred))\n",
    "\n",
    "#Average Precision Score\n",
    "print(\"Average Precision Score:\", average_precision_score(y_test, y_pred))"
   ]
  },
  {
   "cell_type": "code",
   "execution_count": 107,
   "id": "36a2f762-03f7-4dc3-a046-5ed75e089784",
   "metadata": {},
   "outputs": [
    {
     "data": {
      "text/plain": [
       "<matplotlib.legend.Legend at 0x7f2157f1dcf0>"
      ]
     },
     "execution_count": 107,
     "metadata": {},
     "output_type": "execute_result"
    },
    {
     "data": {
      "image/png": "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\n",
      "text/plain": [
       "<Figure size 700x500 with 1 Axes>"
      ]
     },
     "metadata": {},
     "output_type": "display_data"
    }
   ],
   "source": [
    "#ROC curve\n",
    "fpr, tpr, thresholds = roc_curve(y_test, y_pred)\n",
    "\n",
    "plt.figure(figsize=(7, 5))\n",
    "\n",
    "plt.plot(fpr, tpr, label='Random Forest Model')\n",
    "plt.plot([0, 1], [0, 1], label='Random', linestyle='--')\n",
    "\n",
    "plt.xlabel('FPR')\n",
    "plt.ylabel('TPR')\n",
    "\n",
    "plt.legend()"
   ]
  }
 ],
 "metadata": {
  "kernelspec": {
   "display_name": "Python 3 (ipykernel)",
   "language": "python",
   "name": "python3"
  },
  "language_info": {
   "codemirror_mode": {
    "name": "ipython",
    "version": 3
   },
   "file_extension": ".py",
   "mimetype": "text/x-python",
   "name": "python",
   "nbconvert_exporter": "python",
   "pygments_lexer": "ipython3",
   "version": "3.10.6"
  }
 },
 "nbformat": 4,
 "nbformat_minor": 5
}
