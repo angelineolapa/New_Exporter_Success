{
 "cells": [
  {
   "cell_type": "markdown",
   "id": "67142c7a-83b3-43f6-85e6-b7f3a3577b4f",
   "metadata": {},
   "source": [
    "# ML Zoomcamp Capstone Project II - New Exporter Success "
   ]
  },
  {
   "cell_type": "markdown",
   "id": "9fb3bbc3-7e82-48ec-abc2-7293e5781449",
   "metadata": {},
   "source": [
    "## Data Preparation"
   ]
  },
  {
   "cell_type": "markdown",
   "id": "79aadd9b-3b73-4855-891a-79a828a63eae",
   "metadata": {},
   "source": [
    "### Export Records Cleanup"
   ]
  },
  {
   "cell_type": "code",
   "execution_count": 1,
   "id": "e882f1c5-d142-4861-93ae-7c546e7672cf",
   "metadata": {},
   "outputs": [],
   "source": [
    "#Libraries\n",
    "import numpy as np\n",
    "import pandas as pd"
   ]
  },
  {
   "cell_type": "code",
   "execution_count": 2,
   "id": "30b726e2-e9f6-41fd-8476-094b3f1339ab",
   "metadata": {},
   "outputs": [],
   "source": [
    "#Define data types:\n",
    "data_types = {\"nit\":str, \"raz_sial\":str, \"dpto1\":str, \"posar\":str, \"cod_pai4\":str, \"fech\":str, \"modad\":str, \n",
    "              \"pbk\":float, \"pnk\":float, \"fobdol\":float, \"fobpes\":float, \"agrena\":float, \"fletes\":float, \n",
    "              \"seguro\":float, \"otrosg\":float}"
   ]
  },
  {
   "cell_type": "code",
   "execution_count": 3,
   "id": "5977aa66-e516-4a31-917d-242c2f51989a",
   "metadata": {},
   "outputs": [],
   "source": [
    "#Read database\n",
    "exports = pd.read_csv(\"./ExportRecords.csv\", usecols=list(data_types.keys()), dtype=data_types)"
   ]
  },
  {
   "cell_type": "code",
   "execution_count": 4,
   "id": "ddd0a364-f24d-46a3-ab53-285e9f0d6cb1",
   "metadata": {},
   "outputs": [
    {
     "name": "stdout",
     "output_type": "stream",
     "text": [
      "<class 'pandas.core.frame.DataFrame'>\n",
      "RangeIndex: 3228341 entries, 0 to 3228340\n",
      "Data columns (total 15 columns):\n",
      " #   Column    Dtype  \n",
      "---  ------    -----  \n",
      " 0   nit       object \n",
      " 1   raz_sial  object \n",
      " 2   dpto1     object \n",
      " 3   posar     object \n",
      " 4   cod_pai4  object \n",
      " 5   fech      object \n",
      " 6   modad     object \n",
      " 7   pbk       float64\n",
      " 8   pnk       float64\n",
      " 9   fobdol    float64\n",
      " 10  fobpes    float64\n",
      " 11  agrena    float64\n",
      " 12  fletes    float64\n",
      " 13  seguro    float64\n",
      " 14  otrosg    float64\n",
      "dtypes: float64(8), object(7)\n",
      "memory usage: 369.5+ MB\n"
     ]
    }
   ],
   "source": [
    "#Explore variables\n",
    "exports.info()"
   ]
  },
  {
   "cell_type": "code",
   "execution_count": 5,
   "id": "c007e127-80ec-451c-a086-26be16ef0513",
   "metadata": {},
   "outputs": [],
   "source": [
    "#Create date variables\n",
    "exports[\"year\"] = exports[\"fech\"].str[0:2]\n",
    "exports[\"month\"] = exports[\"fech\"].str[2:4]"
   ]
  },
  {
   "cell_type": "code",
   "execution_count": 6,
   "id": "793b5462-1daa-4855-96e1-9582d1af9f81",
   "metadata": {},
   "outputs": [
    {
     "data": {
      "text/plain": [
       "198    2716670\n",
       "199     317560\n",
       "104      78696\n",
       "2        75016\n",
       "107      15202\n",
       "4        10371\n",
       "401       5140\n",
       "201       5038\n",
       "402       3056\n",
       "310       1465\n",
       "403        125\n",
       "600          2\n",
       "Name: modad, dtype: int64"
      ]
     },
     "execution_count": 6,
     "metadata": {},
     "output_type": "execute_result"
    }
   ],
   "source": [
    "#Export types\n",
    "exports[\"modad\"].value_counts()"
   ]
  },
  {
   "cell_type": "code",
   "execution_count": 7,
   "id": "5321b885-63e2-4c5a-b78c-3fed38bcebc1",
   "metadata": {},
   "outputs": [],
   "source": [
    "#Exclude all records of non-commercial exports\n",
    "commercial_exports = [\"198\"]\n",
    "exports = exports[exports[\"modad\"].isin(commercial_exports)]"
   ]
  },
  {
   "cell_type": "code",
   "execution_count": 8,
   "id": "d36c2e50-1873-4cdb-9f10-60a324e34d18",
   "metadata": {},
   "outputs": [],
   "source": [
    "#Exclude exports destined to local free trade zones\n",
    "exports = exports[exports[\"cod_pai4\"]!=\"XCF\"]"
   ]
  },
  {
   "cell_type": "code",
   "execution_count": 9,
   "id": "d00bbaee-3c3e-478e-9d99-51689d5633cc",
   "metadata": {},
   "outputs": [],
   "source": [
    "#Exclude export records where country of destination is not specified\n",
    "exports = exports[exports[\"cod_pai4\"]!=\"ZZZ\"]"
   ]
  },
  {
   "cell_type": "code",
   "execution_count": 10,
   "id": "3d020c30-51ea-4354-919d-6f559a1068af",
   "metadata": {},
   "outputs": [],
   "source": [
    "#Exclude one time exporters\n",
    "one_timers = (exports[\"nit\"].value_counts()==1)*1\n",
    "one_timers = list(one_timers[one_timers==1].index)\n",
    "\n",
    "def tag_one_timers(nit):\n",
    "    if nit in one_timers:\n",
    "        return 1\n",
    "    else:\n",
    "        return 0\n",
    "    \n",
    "exports[\"one_timers\"] = exports[\"nit\"].apply(tag_one_timers)\n",
    "exports = exports[exports[\"one_timers\"]==0]"
   ]
  },
  {
   "cell_type": "code",
   "execution_count": 11,
   "id": "b2a0506e-efc0-441e-a80a-18a203d1f7e0",
   "metadata": {},
   "outputs": [
    {
     "name": "stdout",
     "output_type": "stream",
     "text": [
      "Total export records after filtering data: (2704478, 18)\n"
     ]
    }
   ],
   "source": [
    "#Total export records after filtering data\n",
    "print(f\"Total export records after filtering data: {exports.shape}\")"
   ]
  },
  {
   "cell_type": "markdown",
   "id": "d9fb5b36-ec3f-4bd6-80c8-d3eb56c3b727",
   "metadata": {},
   "source": [
    "### Exporter location"
   ]
  },
  {
   "cell_type": "code",
   "execution_count": 12,
   "id": "9b5d6b03-7dd2-40d6-8fda-6eedb28f0344",
   "metadata": {},
   "outputs": [
    {
     "data": {
      "text/html": [
       "<div>\n",
       "<style scoped>\n",
       "    .dataframe tbody tr th:only-of-type {\n",
       "        vertical-align: middle;\n",
       "    }\n",
       "\n",
       "    .dataframe tbody tr th {\n",
       "        vertical-align: top;\n",
       "    }\n",
       "\n",
       "    .dataframe thead th {\n",
       "        text-align: right;\n",
       "    }\n",
       "</style>\n",
       "<table border=\"1\" class=\"dataframe\">\n",
       "  <thead>\n",
       "    <tr style=\"text-align: right;\">\n",
       "      <th></th>\n",
       "      <th>nit</th>\n",
       "      <th>dpto1</th>\n",
       "      <th>quantity</th>\n",
       "    </tr>\n",
       "  </thead>\n",
       "  <tbody>\n",
       "    <tr>\n",
       "      <th>0</th>\n",
       "      <td>000002988341</td>\n",
       "      <td>11</td>\n",
       "      <td>2</td>\n",
       "    </tr>\n",
       "    <tr>\n",
       "      <th>1</th>\n",
       "      <td>000006716172</td>\n",
       "      <td>11</td>\n",
       "      <td>5</td>\n",
       "    </tr>\n",
       "  </tbody>\n",
       "</table>\n",
       "</div>"
      ],
      "text/plain": [
       "            nit dpto1  quantity\n",
       "0  000002988341    11         2\n",
       "1  000006716172    11         5"
      ]
     },
     "execution_count": 12,
     "metadata": {},
     "output_type": "execute_result"
    }
   ],
   "source": [
    "#Determine exporter headquarters\n",
    "exporter_location = exports[[\"nit\", \"dpto1\"]].value_counts()\n",
    "exporter_location = exporter_location.reset_index()\n",
    "exporter_location.rename({0:\"quantity\"}, axis=1, inplace=True)\n",
    "exporter_location.sort_values(by=[\"nit\", \"quantity\"], ascending=[True, False], inplace=True)\n",
    "exporter_location.drop_duplicates(subset=[\"nit\"], keep=\"first\", inplace=True, ignore_index=True)\n",
    "exporter_location.head(2)"
   ]
  },
  {
   "cell_type": "markdown",
   "id": "708f5c2c-0d1e-4228-8d95-f210e43da68e",
   "metadata": {},
   "source": [
    "### Aggregate Exports"
   ]
  },
  {
   "cell_type": "code",
   "execution_count": 13,
   "id": "c67a62f1-0db7-4f07-bee6-4e153f1378aa",
   "metadata": {},
   "outputs": [],
   "source": [
    "#Aggregate by year, export, product and country of destination\n",
    "exports_agg = exports.groupby(by=[\"nit\", \"posar\", \"cod_pai4\", \"year\"]).sum()\n",
    "exports_agg = exports_agg[[\"pbk\", \"pnk\", \"fobdol\", \"fobpes\", \"agrena\", \"fletes\", \"seguro\", \"otrosg\"]]\n",
    "exports_agg.reset_index(inplace=True)"
   ]
  },
  {
   "cell_type": "code",
   "execution_count": 14,
   "id": "d3e30e26-546b-4f60-ae1a-e38aa7df2bde",
   "metadata": {},
   "outputs": [],
   "source": [
    "#Change type of year variable\n",
    "exports_agg[\"year\"] = exports_agg[\"year\"].apply(int)"
   ]
  },
  {
   "cell_type": "code",
   "execution_count": 15,
   "id": "d191ed8f-7195-4d27-8107-4336cb38699c",
   "metadata": {},
   "outputs": [],
   "source": [
    "#Eliminate exports valued in less than USD 1000 during the year\n",
    "exports_agg = exports_agg[exports_agg[\"fobdol\"]>1000]\n",
    "exports_agg.reset_index(inplace=True, drop=True)"
   ]
  },
  {
   "cell_type": "code",
   "execution_count": 16,
   "id": "b8be8186-aa3c-45ba-933b-08c8642b4561",
   "metadata": {},
   "outputs": [],
   "source": [
    "#Sort values and reset index\n",
    "exports_agg.reset_index(inplace=True, drop=True)\n",
    "exports_agg.sort_values(by=[\"nit\",\"cod_pai4\", \"posar\", \"year\"], inplace=True)"
   ]
  },
  {
   "cell_type": "code",
   "execution_count": 17,
   "id": "5a89b01e-22fe-4d07-a2fe-be2fa7b7efab",
   "metadata": {},
   "outputs": [
    {
     "name": "stdout",
     "output_type": "stream",
     "text": [
      "Total aggregate export records after filtering data: (419718, 12)\n"
     ]
    }
   ],
   "source": [
    "#Total aggregate export records after filtering the data\n",
    "print(f\"Total aggregate export records after filtering data: {exports_agg.shape}\")"
   ]
  },
  {
   "cell_type": "markdown",
   "id": "a53abfe5-c89d-4871-bd97-d8b86db4d9cb",
   "metadata": {},
   "source": [
    "### Export experience"
   ]
  },
  {
   "cell_type": "code",
   "execution_count": 18,
   "id": "4761b8af-ca89-42a2-897e-c2295595366a",
   "metadata": {},
   "outputs": [
    {
     "data": {
      "text/html": [
       "<div>\n",
       "<style scoped>\n",
       "    .dataframe tbody tr th:only-of-type {\n",
       "        vertical-align: middle;\n",
       "    }\n",
       "\n",
       "    .dataframe tbody tr th {\n",
       "        vertical-align: top;\n",
       "    }\n",
       "\n",
       "    .dataframe thead th {\n",
       "        text-align: right;\n",
       "    }\n",
       "</style>\n",
       "<table border=\"1\" class=\"dataframe\">\n",
       "  <thead>\n",
       "    <tr style=\"text-align: right;\">\n",
       "      <th></th>\n",
       "      <th>nit</th>\n",
       "      <th>year</th>\n",
       "      <th>active_markets</th>\n",
       "    </tr>\n",
       "  </thead>\n",
       "  <tbody>\n",
       "    <tr>\n",
       "      <th>0</th>\n",
       "      <td>000002988341</td>\n",
       "      <td>19</td>\n",
       "      <td>2</td>\n",
       "    </tr>\n",
       "    <tr>\n",
       "      <th>1</th>\n",
       "      <td>000006716172</td>\n",
       "      <td>19</td>\n",
       "      <td>2</td>\n",
       "    </tr>\n",
       "  </tbody>\n",
       "</table>\n",
       "</div>"
      ],
      "text/plain": [
       "            nit  year  active_markets\n",
       "0  000002988341    19               2\n",
       "1  000006716172    19               2"
      ]
     },
     "execution_count": 18,
     "metadata": {},
     "output_type": "execute_result"
    }
   ],
   "source": [
    "#Number of markets in which the exporter actively trades \n",
    "active_markets = exports_agg.groupby(by=[\"nit\", \"year\"])[[\"cod_pai4\"]].nunique()\n",
    "active_markets = active_markets.reset_index()\n",
    "active_markets.rename({\"cod_pai4\":\"active_markets\"}, axis=1, inplace=True)\n",
    "active_markets.head(2)"
   ]
  },
  {
   "cell_type": "code",
   "execution_count": 19,
   "id": "3fa74461-3c85-4ea9-90f8-68bc30a3c705",
   "metadata": {},
   "outputs": [
    {
     "data": {
      "text/html": [
       "<div>\n",
       "<style scoped>\n",
       "    .dataframe tbody tr th:only-of-type {\n",
       "        vertical-align: middle;\n",
       "    }\n",
       "\n",
       "    .dataframe tbody tr th {\n",
       "        vertical-align: top;\n",
       "    }\n",
       "\n",
       "    .dataframe thead th {\n",
       "        text-align: right;\n",
       "    }\n",
       "</style>\n",
       "<table border=\"1\" class=\"dataframe\">\n",
       "  <thead>\n",
       "    <tr style=\"text-align: right;\">\n",
       "      <th></th>\n",
       "      <th>nit</th>\n",
       "      <th>year</th>\n",
       "      <th>active_products</th>\n",
       "    </tr>\n",
       "  </thead>\n",
       "  <tbody>\n",
       "    <tr>\n",
       "      <th>0</th>\n",
       "      <td>000002988341</td>\n",
       "      <td>19</td>\n",
       "      <td>1</td>\n",
       "    </tr>\n",
       "    <tr>\n",
       "      <th>1</th>\n",
       "      <td>000006716172</td>\n",
       "      <td>19</td>\n",
       "      <td>1</td>\n",
       "    </tr>\n",
       "  </tbody>\n",
       "</table>\n",
       "</div>"
      ],
      "text/plain": [
       "            nit  year  active_products\n",
       "0  000002988341    19                1\n",
       "1  000006716172    19                1"
      ]
     },
     "execution_count": 19,
     "metadata": {},
     "output_type": "execute_result"
    }
   ],
   "source": [
    "#Number of products in that the exporter already trades \n",
    "active_products = exports_agg.groupby(by=[\"nit\", \"year\"])[\"posar\"].nunique()\n",
    "active_products = active_products.reset_index()\n",
    "active_products.rename({\"posar\":\"active_products\"}, axis=1, inplace=True)\n",
    "active_products.head(2)"
   ]
  },
  {
   "cell_type": "code",
   "execution_count": 20,
   "id": "d3a9d5fd-e2f1-4cd1-989f-42c073458202",
   "metadata": {},
   "outputs": [
    {
     "data": {
      "text/html": [
       "<div>\n",
       "<style scoped>\n",
       "    .dataframe tbody tr th:only-of-type {\n",
       "        vertical-align: middle;\n",
       "    }\n",
       "\n",
       "    .dataframe tbody tr th {\n",
       "        vertical-align: top;\n",
       "    }\n",
       "\n",
       "    .dataframe thead th {\n",
       "        text-align: right;\n",
       "    }\n",
       "</style>\n",
       "<table border=\"1\" class=\"dataframe\">\n",
       "  <thead>\n",
       "    <tr style=\"text-align: right;\">\n",
       "      <th></th>\n",
       "      <th>nit</th>\n",
       "      <th>year</th>\n",
       "      <th>exports_value</th>\n",
       "    </tr>\n",
       "  </thead>\n",
       "  <tbody>\n",
       "    <tr>\n",
       "      <th>0</th>\n",
       "      <td>000002988341</td>\n",
       "      <td>19</td>\n",
       "      <td>6591.90</td>\n",
       "    </tr>\n",
       "    <tr>\n",
       "      <th>1</th>\n",
       "      <td>000006716172</td>\n",
       "      <td>19</td>\n",
       "      <td>6311.93</td>\n",
       "    </tr>\n",
       "  </tbody>\n",
       "</table>\n",
       "</div>"
      ],
      "text/plain": [
       "            nit  year  exports_value\n",
       "0  000002988341    19        6591.90\n",
       "1  000006716172    19        6311.93"
      ]
     },
     "execution_count": 20,
     "metadata": {},
     "output_type": "execute_result"
    }
   ],
   "source": [
    "#Value of annual exports\n",
    "exports_value = exports_agg.groupby(by=[\"nit\", \"year\"])[\"fobdol\"].sum()\n",
    "exports_value = exports_value.reset_index()\n",
    "exports_value.rename({\"fobdol\":\"exports_value\"}, axis=1, inplace=True)\n",
    "exports_value.head(2)"
   ]
  },
  {
   "cell_type": "code",
   "execution_count": 21,
   "id": "46ba8d77-8f0c-49fd-b70a-f7f142f0399d",
   "metadata": {},
   "outputs": [
    {
     "data": {
      "text/html": [
       "<div>\n",
       "<style scoped>\n",
       "    .dataframe tbody tr th:only-of-type {\n",
       "        vertical-align: middle;\n",
       "    }\n",
       "\n",
       "    .dataframe tbody tr th {\n",
       "        vertical-align: top;\n",
       "    }\n",
       "\n",
       "    .dataframe thead th {\n",
       "        text-align: right;\n",
       "    }\n",
       "</style>\n",
       "<table border=\"1\" class=\"dataframe\">\n",
       "  <thead>\n",
       "    <tr style=\"text-align: right;\">\n",
       "      <th></th>\n",
       "      <th>nit</th>\n",
       "      <th>year</th>\n",
       "      <th>active_years</th>\n",
       "    </tr>\n",
       "  </thead>\n",
       "  <tbody>\n",
       "    <tr>\n",
       "      <th>0</th>\n",
       "      <td>000002988341</td>\n",
       "      <td>19</td>\n",
       "      <td>0</td>\n",
       "    </tr>\n",
       "    <tr>\n",
       "      <th>1</th>\n",
       "      <td>000006716172</td>\n",
       "      <td>19</td>\n",
       "      <td>0</td>\n",
       "    </tr>\n",
       "    <tr>\n",
       "      <th>2</th>\n",
       "      <td>000010943378</td>\n",
       "      <td>19</td>\n",
       "      <td>0</td>\n",
       "    </tr>\n",
       "    <tr>\n",
       "      <th>3</th>\n",
       "      <td>000019473179</td>\n",
       "      <td>19</td>\n",
       "      <td>0</td>\n",
       "    </tr>\n",
       "    <tr>\n",
       "      <th>4</th>\n",
       "      <td>000037838591</td>\n",
       "      <td>21</td>\n",
       "      <td>0</td>\n",
       "    </tr>\n",
       "  </tbody>\n",
       "</table>\n",
       "</div>"
      ],
      "text/plain": [
       "            nit year active_years\n",
       "0  000002988341   19            0\n",
       "1  000006716172   19            0\n",
       "2  000010943378   19            0\n",
       "3  000019473179   19            0\n",
       "4  000037838591   21            0"
      ]
     },
     "execution_count": 21,
     "metadata": {},
     "output_type": "execute_result"
    }
   ],
   "source": [
    "#Exporting experience in years\n",
    "exporter_years = exports_agg.groupby(by=[\"nit\", \"year\"]).count()\n",
    "exporter_years = exporter_years.reset_index()\n",
    "\n",
    "#DF to capture years \n",
    "active_years = pd.DataFrame(columns=[\"nit\", \"year\", \"active_years\"])\n",
    "\n",
    "#Obtain exporter aggregate data\n",
    "for exporter in exporter_years[\"nit\"].unique():\n",
    "    records = exporter_years[exporter_years[\"nit\"]==exporter][\"year\"]\n",
    "    for year in records.unique():        \n",
    "        exporter_row = pd.DataFrame(data=[[exporter, year, sum(records.values<year)]],\n",
    "                                    columns=[\"nit\", \"year\", \"active_years\"])\n",
    "        active_years = pd.concat([active_years, exporter_row], ignore_index=True)\n",
    "\n",
    "active_years.head()"
   ]
  },
  {
   "cell_type": "code",
   "execution_count": 22,
   "id": "8ef6d6fa-d74a-4929-b307-cbe1b1deec06",
   "metadata": {},
   "outputs": [
    {
     "data": {
      "text/html": [
       "<div>\n",
       "<style scoped>\n",
       "    .dataframe tbody tr th:only-of-type {\n",
       "        vertical-align: middle;\n",
       "    }\n",
       "\n",
       "    .dataframe tbody tr th {\n",
       "        vertical-align: top;\n",
       "    }\n",
       "\n",
       "    .dataframe thead th {\n",
       "        text-align: right;\n",
       "    }\n",
       "</style>\n",
       "<table border=\"1\" class=\"dataframe\">\n",
       "  <thead>\n",
       "    <tr style=\"text-align: right;\">\n",
       "      <th></th>\n",
       "      <th>nit</th>\n",
       "      <th>year</th>\n",
       "      <th>active_markets</th>\n",
       "      <th>active_products</th>\n",
       "      <th>exports_value</th>\n",
       "      <th>active_years</th>\n",
       "    </tr>\n",
       "  </thead>\n",
       "  <tbody>\n",
       "    <tr>\n",
       "      <th>0</th>\n",
       "      <td>000002988341</td>\n",
       "      <td>19</td>\n",
       "      <td>2</td>\n",
       "      <td>1</td>\n",
       "      <td>6591.90</td>\n",
       "      <td>0</td>\n",
       "    </tr>\n",
       "    <tr>\n",
       "      <th>1</th>\n",
       "      <td>000006716172</td>\n",
       "      <td>19</td>\n",
       "      <td>2</td>\n",
       "      <td>1</td>\n",
       "      <td>6311.93</td>\n",
       "      <td>0</td>\n",
       "    </tr>\n",
       "    <tr>\n",
       "      <th>2</th>\n",
       "      <td>000010943378</td>\n",
       "      <td>19</td>\n",
       "      <td>2</td>\n",
       "      <td>1</td>\n",
       "      <td>7510.03</td>\n",
       "      <td>0</td>\n",
       "    </tr>\n",
       "    <tr>\n",
       "      <th>3</th>\n",
       "      <td>000019473179</td>\n",
       "      <td>19</td>\n",
       "      <td>7</td>\n",
       "      <td>1</td>\n",
       "      <td>49384.81</td>\n",
       "      <td>0</td>\n",
       "    </tr>\n",
       "    <tr>\n",
       "      <th>4</th>\n",
       "      <td>000037838591</td>\n",
       "      <td>21</td>\n",
       "      <td>1</td>\n",
       "      <td>6</td>\n",
       "      <td>14347.90</td>\n",
       "      <td>0</td>\n",
       "    </tr>\n",
       "  </tbody>\n",
       "</table>\n",
       "</div>"
      ],
      "text/plain": [
       "            nit year  active_markets  active_products  exports_value  \\\n",
       "0  000002988341   19               2                1        6591.90   \n",
       "1  000006716172   19               2                1        6311.93   \n",
       "2  000010943378   19               2                1        7510.03   \n",
       "3  000019473179   19               7                1       49384.81   \n",
       "4  000037838591   21               1                6       14347.90   \n",
       "\n",
       "  active_years  \n",
       "0            0  \n",
       "1            0  \n",
       "2            0  \n",
       "3            0  \n",
       "4            0  "
      ]
     },
     "execution_count": 22,
     "metadata": {},
     "output_type": "execute_result"
    }
   ],
   "source": [
    "#Merge DFs to obtain dataframe of exporter experience\n",
    "exporter_agg = active_markets.merge(active_products, on=[\"nit\", \"year\"], how=\"outer\")\n",
    "exporter_agg.reset_index(drop=True, inplace=True)\n",
    "exporter_agg = exporter_agg.merge(exports_value, on=[\"nit\", \"year\"], how=\"outer\")\n",
    "exporter_agg.reset_index(drop=True, inplace=True)\n",
    "exporter_agg = exporter_agg.merge(active_years, on=[\"nit\", \"year\"], how=\"outer\")\n",
    "exporter_agg.reset_index(drop=True, inplace=True)\n",
    "exporter_agg.head()"
   ]
  },
  {
   "cell_type": "markdown",
   "id": "56931df6-0097-47ea-98a2-37756e9b96ef",
   "metadata": {},
   "source": [
    "### New Exporters"
   ]
  },
  {
   "cell_type": "code",
   "execution_count": 23,
   "id": "af937610-d4ae-4340-a000-c3101f2dcc7e",
   "metadata": {},
   "outputs": [
    {
     "data": {
      "text/html": [
       "<div>\n",
       "<style scoped>\n",
       "    .dataframe tbody tr th:only-of-type {\n",
       "        vertical-align: middle;\n",
       "    }\n",
       "\n",
       "    .dataframe tbody tr th {\n",
       "        vertical-align: top;\n",
       "    }\n",
       "\n",
       "    .dataframe thead th {\n",
       "        text-align: right;\n",
       "    }\n",
       "</style>\n",
       "<table border=\"1\" class=\"dataframe\">\n",
       "  <thead>\n",
       "    <tr style=\"text-align: right;\">\n",
       "      <th></th>\n",
       "      <th>nit</th>\n",
       "      <th>cod_pai4</th>\n",
       "      <th>posar</th>\n",
       "      <th>duration</th>\n",
       "    </tr>\n",
       "  </thead>\n",
       "  <tbody>\n",
       "    <tr>\n",
       "      <th>0</th>\n",
       "      <td>000002988341</td>\n",
       "      <td>DEU</td>\n",
       "      <td>301110090</td>\n",
       "      <td>1</td>\n",
       "    </tr>\n",
       "    <tr>\n",
       "      <th>1</th>\n",
       "      <td>000002988341</td>\n",
       "      <td>NOR</td>\n",
       "      <td>301110090</td>\n",
       "      <td>1</td>\n",
       "    </tr>\n",
       "  </tbody>\n",
       "</table>\n",
       "</div>"
      ],
      "text/plain": [
       "            nit cod_pai4      posar  duration\n",
       "0  000002988341      DEU  301110090         1\n",
       "1  000002988341      NOR  301110090         1"
      ]
     },
     "execution_count": 23,
     "metadata": {},
     "output_type": "execute_result"
    }
   ],
   "source": [
    "#Times exporter has traded specific product to particular market\n",
    "export_combination = exports_agg.groupby(by=[\"nit\", \"cod_pai4\", \"posar\"])[\"year\"].count()\n",
    "export_combination = export_combination.reset_index()\n",
    "export_combination.rename({\"year\":\"duration\"}, axis=1, inplace=True)\n",
    "export_combination.head(2)"
   ]
  },
  {
   "cell_type": "code",
   "execution_count": 24,
   "id": "73193a9d-6ae6-4f88-be9c-0c0e2bb487f7",
   "metadata": {},
   "outputs": [
    {
     "data": {
      "text/html": [
       "<div>\n",
       "<style scoped>\n",
       "    .dataframe tbody tr th:only-of-type {\n",
       "        vertical-align: middle;\n",
       "    }\n",
       "\n",
       "    .dataframe tbody tr th {\n",
       "        vertical-align: top;\n",
       "    }\n",
       "\n",
       "    .dataframe thead th {\n",
       "        text-align: right;\n",
       "    }\n",
       "</style>\n",
       "<table border=\"1\" class=\"dataframe\">\n",
       "  <thead>\n",
       "    <tr style=\"text-align: right;\">\n",
       "      <th></th>\n",
       "      <th>nit</th>\n",
       "      <th>posar</th>\n",
       "      <th>cod_pai4</th>\n",
       "      <th>year</th>\n",
       "      <th>duration</th>\n",
       "    </tr>\n",
       "  </thead>\n",
       "  <tbody>\n",
       "    <tr>\n",
       "      <th>0</th>\n",
       "      <td>000002988341</td>\n",
       "      <td>301110090</td>\n",
       "      <td>DEU</td>\n",
       "      <td>19</td>\n",
       "      <td>1</td>\n",
       "    </tr>\n",
       "    <tr>\n",
       "      <th>1</th>\n",
       "      <td>000002988341</td>\n",
       "      <td>301110090</td>\n",
       "      <td>NOR</td>\n",
       "      <td>19</td>\n",
       "      <td>1</td>\n",
       "    </tr>\n",
       "  </tbody>\n",
       "</table>\n",
       "</div>"
      ],
      "text/plain": [
       "            nit      posar cod_pai4  year  duration\n",
       "0  000002988341  301110090      DEU    19         1\n",
       "1  000002988341  301110090      NOR    19         1"
      ]
     },
     "execution_count": 24,
     "metadata": {},
     "output_type": "execute_result"
    }
   ],
   "source": [
    "#Merge with aggregate exporter data_base and tag new exporters in years of entering new market with new products\n",
    "new_exporters = exports_agg[[\"nit\", \"posar\", \"cod_pai4\", \"year\"]].merge(export_combination, \n",
    "                                                                        on=[\"nit\", \"cod_pai4\", \"posar\"], how=\"left\")\n",
    "new_exporters.head(2)"
   ]
  },
  {
   "cell_type": "code",
   "execution_count": 25,
   "id": "9dee7854-4aef-4cd4-a02a-52e265362eb5",
   "metadata": {},
   "outputs": [],
   "source": [
    "#Drop records from 2016 as it is now possible to determine new exporters this year without data from 2015\n",
    "new_exporters = new_exporters[new_exporters[\"year\"]!=16]\n",
    "new_exporters.reset_index(drop=True, inplace=True)"
   ]
  },
  {
   "cell_type": "code",
   "execution_count": 26,
   "id": "8a92e8c4-d6c3-4c3d-b1af-61b1b6d4652e",
   "metadata": {},
   "outputs": [],
   "source": [
    "#Drop records from 2022 as it is now possible to determine success of new exporters this year without data from 2023\n",
    "new_exporters = new_exporters[new_exporters[\"year\"]!=22]\n",
    "new_exporters.reset_index(drop=True, inplace=True)"
   ]
  },
  {
   "cell_type": "code",
   "execution_count": 27,
   "id": "9d747895-7a41-4518-b5a0-b9b12d0a8023",
   "metadata": {},
   "outputs": [],
   "source": [
    "#Drop records were duration is more than 7 years as these can't be new product-market combinations for an exporter\n",
    "new_exporters = new_exporters[new_exporters[\"duration\"]<7]\n",
    "new_exporters.reset_index(drop=True, inplace=True)"
   ]
  },
  {
   "cell_type": "code",
   "execution_count": 28,
   "id": "37dada5d-3dbe-4fde-adec-48b7159cb713",
   "metadata": {},
   "outputs": [],
   "source": [
    "#Sort new_exporters by exporter, product, market combination and year\n",
    "new_exporters.sort_values(by=[\"nit\", \"posar\", \"cod_pai4\", \"year\"], inplace=True)"
   ]
  },
  {
   "cell_type": "code",
   "execution_count": 29,
   "id": "33e30ae3-d6d6-4841-b52a-c3faaf22be4f",
   "metadata": {},
   "outputs": [],
   "source": [
    "#Leave only first appearance of the exporter, product, market combination\n",
    "new_exporters.drop_duplicates(subset=[\"nit\", \"posar\", \"cod_pai4\"], keep=\"first\", inplace=True, ignore_index=True)"
   ]
  },
  {
   "cell_type": "code",
   "execution_count": 30,
   "id": "78e6fccb-7426-4654-b7f3-7c303d1aeae3",
   "metadata": {},
   "outputs": [
    {
     "name": "stdout",
     "output_type": "stream",
     "text": [
      "Number of new exporters: (135639, 5)\n"
     ]
    }
   ],
   "source": [
    "#Number of new exporters\n",
    "print(f\"Number of new exporters:\", new_exporters.shape)"
   ]
  },
  {
   "cell_type": "code",
   "execution_count": 31,
   "id": "91148c41-42ce-4af7-8559-2eac27a58642",
   "metadata": {},
   "outputs": [],
   "source": [
    "#Determine successful new exporters\n",
    "def tag_success(duration):\n",
    "    if duration>1:\n",
    "        return 1\n",
    "    else: \n",
    "        return 0\n",
    "    \n",
    "\n",
    "new_exporters[\"success\"] = new_exporters[\"duration\"].apply(tag_success)"
   ]
  },
  {
   "cell_type": "code",
   "execution_count": 32,
   "id": "b558a578-f271-4912-9ae3-424cc1434e60",
   "metadata": {},
   "outputs": [
    {
     "name": "stdout",
     "output_type": "stream",
     "text": [
      "<class 'pandas.core.frame.DataFrame'>\n",
      "RangeIndex: 135639 entries, 0 to 135638\n",
      "Data columns (total 6 columns):\n",
      " #   Column    Non-Null Count   Dtype \n",
      "---  ------    --------------   ----- \n",
      " 0   nit       135639 non-null  object\n",
      " 1   posar     135639 non-null  object\n",
      " 2   cod_pai4  135639 non-null  object\n",
      " 3   year      135639 non-null  int64 \n",
      " 4   duration  135639 non-null  int64 \n",
      " 5   success   135639 non-null  int64 \n",
      "dtypes: int64(3), object(3)\n",
      "memory usage: 6.2+ MB\n"
     ]
    }
   ],
   "source": [
    "#Explore database with data for new exporters\n",
    "new_exporters.info()"
   ]
  },
  {
   "cell_type": "markdown",
   "id": "4aaabe5f-cef6-4bc6-80f4-74fcfd02e3d1",
   "metadata": {},
   "source": [
    "### Merge Dataframes"
   ]
  },
  {
   "cell_type": "code",
   "execution_count": 33,
   "id": "93ade2f5-d4b2-4a16-9b73-27fba2bc6189",
   "metadata": {},
   "outputs": [],
   "source": [
    "#Translate key column names for merge\n",
    "new_exporters.rename({\"cod_pai4\":\"market\", \"posar\":\"product\"}, axis=1, inplace=True)\n",
    "exports_agg.rename({\"cod_pai4\":\"market\", \"posar\":\"product\"}, axis=1, inplace=True)"
   ]
  },
  {
   "cell_type": "code",
   "execution_count": 34,
   "id": "18ee5fd0-dec6-4457-bbe9-35f090e54f6c",
   "metadata": {},
   "outputs": [],
   "source": [
    "#Add info on new exporters to aggregate exports\n",
    "exports_new = new_exporters.merge(exports_agg, how=\"left\", on=[\"nit\", \"year\", \"product\", \"market\"])\n",
    "exports_new.reset_index(inplace=True, drop=True)"
   ]
  },
  {
   "cell_type": "code",
   "execution_count": 35,
   "id": "be57e0be-f981-4035-b3e0-8fe73a489de0",
   "metadata": {},
   "outputs": [],
   "source": [
    "#Append aggregate information on export volumes, product and market portfolio\n",
    "exports_new = exports_new.assign(pre_year=exports_new[\"year\"]-1)\n",
    "exports_new = exports_new.merge(exporter_agg, how=\"left\", left_on=[\"nit\", \"pre_year\"], \n",
    "                                          right_on=[\"nit\", \"year\"])\n",
    "exports_new.reset_index(inplace=True, drop=True)"
   ]
  },
  {
   "cell_type": "code",
   "execution_count": 36,
   "id": "ca898722-8578-4fac-a5cc-9b1083074c81",
   "metadata": {},
   "outputs": [],
   "source": [
    "#Append export location \n",
    "exports_new = exports_new.merge(exporter_location, how=\"left\", on=[\"nit\"])\n",
    "exports_new.reset_index(inplace=True, drop=True)"
   ]
  },
  {
   "cell_type": "code",
   "execution_count": 37,
   "id": "910a7010-bcb5-461c-928d-af01fa714b62",
   "metadata": {},
   "outputs": [
    {
     "name": "stdout",
     "output_type": "stream",
     "text": [
      "<class 'pandas.core.frame.DataFrame'>\n",
      "RangeIndex: 135639 entries, 0 to 135638\n",
      "Data columns (total 22 columns):\n",
      " #   Column           Non-Null Count   Dtype  \n",
      "---  ------           --------------   -----  \n",
      " 0   nit              135639 non-null  object \n",
      " 1   product          135639 non-null  object \n",
      " 2   market           135639 non-null  object \n",
      " 3   year_x           135639 non-null  int64  \n",
      " 4   duration         135639 non-null  int64  \n",
      " 5   success          135639 non-null  int64  \n",
      " 6   pbk              135639 non-null  float64\n",
      " 7   pnk              135639 non-null  float64\n",
      " 8   fobdol           135639 non-null  float64\n",
      " 9   fobpes           135639 non-null  float64\n",
      " 10  agrena           135639 non-null  float64\n",
      " 11  fletes           135639 non-null  float64\n",
      " 12  seguro           135639 non-null  float64\n",
      " 13  otrosg           135639 non-null  float64\n",
      " 14  pre_year         135639 non-null  object \n",
      " 15  year_y           111479 non-null  object \n",
      " 16  active_markets   111479 non-null  float64\n",
      " 17  active_products  111479 non-null  float64\n",
      " 18  exports_value    111479 non-null  float64\n",
      " 19  active_years     111479 non-null  object \n",
      " 20  dpto1            135639 non-null  object \n",
      " 21  quantity         135639 non-null  int64  \n",
      "dtypes: float64(11), int64(4), object(7)\n",
      "memory usage: 22.8+ MB\n"
     ]
    }
   ],
   "source": [
    "#Explore resulting database\n",
    "exports_new.info()"
   ]
  },
  {
   "cell_type": "code",
   "execution_count": 38,
   "id": "0a13124a-7a9e-4d68-8109-e0b08b82aa61",
   "metadata": {},
   "outputs": [],
   "source": [
    "#Fill in na active_markets, active_products, exports_value and active_years\n",
    "exports_new_final = exports_new.fillna(value=0)"
   ]
  },
  {
   "cell_type": "code",
   "execution_count": 39,
   "id": "d373e973-d5cf-44f2-b3bf-43577bc42da8",
   "metadata": {},
   "outputs": [],
   "source": [
    "#Rename and drop year variables\n",
    "exports_new_final.rename({\"year_x\":\"year\"}, axis=1, inplace=True)\n",
    "exports_new_final.drop(labels=[\"year_y\", \"pre_year\"], axis=1, inplace=True)"
   ]
  },
  {
   "cell_type": "code",
   "execution_count": 40,
   "id": "b3bcd977-2956-4f09-a5d2-01b892d52a55",
   "metadata": {},
   "outputs": [
    {
     "name": "stdout",
     "output_type": "stream",
     "text": [
      "<class 'pandas.core.frame.DataFrame'>\n",
      "RangeIndex: 135639 entries, 0 to 135638\n",
      "Data columns (total 20 columns):\n",
      " #   Column           Non-Null Count   Dtype  \n",
      "---  ------           --------------   -----  \n",
      " 0   nit              135639 non-null  object \n",
      " 1   product          135639 non-null  object \n",
      " 2   market           135639 non-null  object \n",
      " 3   year             135639 non-null  int64  \n",
      " 4   duration         135639 non-null  int64  \n",
      " 5   success          135639 non-null  int64  \n",
      " 6   pbk              135639 non-null  float64\n",
      " 7   pnk              135639 non-null  float64\n",
      " 8   fobdol           135639 non-null  float64\n",
      " 9   fobpes           135639 non-null  float64\n",
      " 10  agrena           135639 non-null  float64\n",
      " 11  fletes           135639 non-null  float64\n",
      " 12  seguro           135639 non-null  float64\n",
      " 13  otrosg           135639 non-null  float64\n",
      " 14  active_markets   135639 non-null  float64\n",
      " 15  active_products  135639 non-null  float64\n",
      " 16  exports_value    135639 non-null  float64\n",
      " 17  active_years     135639 non-null  int64  \n",
      " 18  dpto1            135639 non-null  object \n",
      " 19  quantity         135639 non-null  int64  \n",
      "dtypes: float64(11), int64(5), object(4)\n",
      "memory usage: 20.7+ MB\n"
     ]
    }
   ],
   "source": [
    "exports_new_final.info()"
   ]
  },
  {
   "cell_type": "markdown",
   "id": "053dae1f-566a-401a-8f3b-d9810c031cf2",
   "metadata": {},
   "source": [
    "## Additional Features"
   ]
  },
  {
   "cell_type": "markdown",
   "id": "0fba60f8-06ba-4195-921f-2971bf8765a9",
   "metadata": {},
   "source": [
    "### Append additional information to create extra features"
   ]
  },
  {
   "cell_type": "code",
   "execution_count": 41,
   "id": "4fa9e335-673a-40c8-a671-0ef6aa67530f",
   "metadata": {},
   "outputs": [
    {
     "data": {
      "text/html": [
       "<div>\n",
       "<style scoped>\n",
       "    .dataframe tbody tr th:only-of-type {\n",
       "        vertical-align: middle;\n",
       "    }\n",
       "\n",
       "    .dataframe tbody tr th {\n",
       "        vertical-align: top;\n",
       "    }\n",
       "\n",
       "    .dataframe thead th {\n",
       "        text-align: right;\n",
       "    }\n",
       "</style>\n",
       "<table border=\"1\" class=\"dataframe\">\n",
       "  <thead>\n",
       "    <tr style=\"text-align: right;\">\n",
       "      <th></th>\n",
       "      <th>market</th>\n",
       "      <th>country</th>\n",
       "      <th>year_num</th>\n",
       "      <th>gdp_pc</th>\n",
       "      <th>year</th>\n",
       "    </tr>\n",
       "  </thead>\n",
       "  <tbody>\n",
       "    <tr>\n",
       "      <th>0</th>\n",
       "      <td>AFG</td>\n",
       "      <td>Afghanistan</td>\n",
       "      <td>2016</td>\n",
       "      <td>2492.65</td>\n",
       "      <td>16</td>\n",
       "    </tr>\n",
       "    <tr>\n",
       "      <th>1</th>\n",
       "      <td>ALB</td>\n",
       "      <td>Albania</td>\n",
       "      <td>2016</td>\n",
       "      <td>12597.30</td>\n",
       "      <td>16</td>\n",
       "    </tr>\n",
       "  </tbody>\n",
       "</table>\n",
       "</div>"
      ],
      "text/plain": [
       "  market      country year_num    gdp_pc year\n",
       "0    AFG  Afghanistan     2016   2492.65   16\n",
       "1    ALB      Albania     2016  12597.30   16"
      ]
     },
     "execution_count": 41,
     "metadata": {},
     "output_type": "execute_result"
    }
   ],
   "source": [
    "#Size of new market\n",
    "gdp_pc = pd.read_excel(\"./weo_gdp.xlsx\", sheet_name=\"Data\")\n",
    "gdp_pc.rename({\"Market\":\"market\", \"Country\":\"country\"}, axis=1, inplace=True)\n",
    "\n",
    "gdp_pc = gdp_pc.melt(id_vars=[\"market\", \"country\"], var_name=\"year_num\", value_name=\"gdp_pc\")\n",
    "\n",
    "gdp_pc[\"year\"] = gdp_pc[\"year_num\"]-2000\n",
    "\n",
    "gdp_pc.head(2)"
   ]
  },
  {
   "cell_type": "code",
   "execution_count": 42,
   "id": "39b2e6bd-505e-4312-8195-81e198c20ad9",
   "metadata": {},
   "outputs": [],
   "source": [
    "#Identify new markets where FTA is available\n",
    "\n",
    "#Multilateral FTA\n",
    "can = [\"BOL\", \"ECU\", \"PER\"]\n",
    "caricom = [\"ATG\", \"BHS\", \"BRB\", \"BLZ\", \"DMA\", \"GRD\", \"GUY\", \"HTI\", \"JAM\", \"MSR\", \"KNA\", \"LCA\", \"VCT\", \"SUR\", \"TTO\"]\n",
    "efta = [\"ISL\", \"LIE\", \"NOR\", \"CHE\"]\n",
    "eu = [\"AUT\", \"BEL\", \"BGR\", \"HRV\", \"CYP\", \"CZE\", \"DNK\", \"EST\", \"FIN\", \"FRA\", \"DEU\", \"GRC\", \"HUN\", \"IRL\", \"ITA\", \"LVA\", \"LTU\", \"LUX\", \"MLT\", \"NLD\", \"POL\", \n",
    "      \"PRT\", \"ROU\", \"SVK\", \"SVN\", \"ESP\", \"SWE\"]\n",
    "mercosur = [\"ARG\", \"BRA\", \"PRY\", \"URY\"]\n",
    "pa = [\"CHL\", \"MEX\", \"PER\"]\n",
    "tri_cent_america = [\"GTM\", \"HND\", \"SLV\"]\n",
    "\n",
    "#Bilateral fta\n",
    "bilateral = [\"CAN\", \"CHL\",\"CRI\", \"CUB\", \"GBR\", \"TSR\", \"KOR\", \"MEX\", \"PAN\", \"USA\", \"VEN\"]\n",
    "\n",
    "#All FTAs\n",
    "fta_all = can + caricom + efta + mercosur + eu + pa + tri_cent_america + bilateral\n",
    "\n",
    "def fta_identifier(market):\n",
    "    if market in fta_all:\n",
    "        return 1\n",
    "    else:\n",
    "        return 0\n",
    "\n",
    "exports_new_final[\"fta\"] = exports_new_final[\"market\"].apply(fta_identifier)"
   ]
  },
  {
   "cell_type": "code",
   "execution_count": 43,
   "id": "3e6897ce-e6bb-465e-8d5d-21a97732372d",
   "metadata": {},
   "outputs": [
    {
     "data": {
      "text/html": [
       "<div>\n",
       "<style scoped>\n",
       "    .dataframe tbody tr th:only-of-type {\n",
       "        vertical-align: middle;\n",
       "    }\n",
       "\n",
       "    .dataframe tbody tr th {\n",
       "        vertical-align: top;\n",
       "    }\n",
       "\n",
       "    .dataframe thead th {\n",
       "        text-align: right;\n",
       "    }\n",
       "</style>\n",
       "<table border=\"1\" class=\"dataframe\">\n",
       "  <thead>\n",
       "    <tr style=\"text-align: right;\">\n",
       "      <th></th>\n",
       "      <th>market</th>\n",
       "      <th>region</th>\n",
       "      <th>subregion</th>\n",
       "      <th>languages_dict</th>\n",
       "      <th>languages</th>\n",
       "    </tr>\n",
       "  </thead>\n",
       "  <tbody>\n",
       "    <tr>\n",
       "      <th>0</th>\n",
       "      <td>AFG</td>\n",
       "      <td>Asia</td>\n",
       "      <td>Southern Asia</td>\n",
       "      <td>[{'iso639_1': 'ps', 'iso639_2': 'pus', 'name':...</td>\n",
       "      <td>Pashto;Uzbek;Turkmen</td>\n",
       "    </tr>\n",
       "    <tr>\n",
       "      <th>1</th>\n",
       "      <td>ALA</td>\n",
       "      <td>Europe</td>\n",
       "      <td>Northern Europe</td>\n",
       "      <td>[{'iso639_1': 'sv', 'iso639_2': 'swe', 'name':...</td>\n",
       "      <td>Swedish</td>\n",
       "    </tr>\n",
       "  </tbody>\n",
       "</table>\n",
       "</div>"
      ],
      "text/plain": [
       "  market  region        subregion  \\\n",
       "0    AFG    Asia    Southern Asia   \n",
       "1    ALA  Europe  Northern Europe   \n",
       "\n",
       "                                      languages_dict             languages  \n",
       "0  [{'iso639_1': 'ps', 'iso639_2': 'pus', 'name':...  Pashto;Uzbek;Turkmen  \n",
       "1  [{'iso639_1': 'sv', 'iso639_2': 'swe', 'name':...               Swedish  "
      ]
     },
     "execution_count": 43,
     "metadata": {},
     "output_type": "execute_result"
    }
   ],
   "source": [
    "#Continent and languages of new markets\n",
    "country_data = pd.read_csv(\"./CountryData.csv\")\n",
    "country_data.drop([\"name\", \"Unnamed: 0\"], axis=1, inplace=True)\n",
    "country_data.head(2)"
   ]
  },
  {
   "cell_type": "code",
   "execution_count": 44,
   "id": "40a30d29-0f91-4dde-b3da-efef3936d98e",
   "metadata": {},
   "outputs": [],
   "source": [
    "#Merge datasets\n",
    "exports_new_final = exports_new_final.merge(gdp_pc[[\"market\", \"year\", \"gdp_pc\"]], how=\"left\", on=[\"market\", \"year\"])\n",
    "exports_new_final.reset_index(inplace=True, drop=True)\n",
    "exports_new_final = exports_new_final.merge(country_data, how=\"left\", on=\"market\")\n",
    "exports_new_final.reset_index(inplace=True, drop=True)"
   ]
  },
  {
   "cell_type": "code",
   "execution_count": 45,
   "id": "a15d387f-dff5-4346-9043-6f37698eab6f",
   "metadata": {},
   "outputs": [],
   "source": [
    "#Identify markets where Spanish is an official languae\n",
    "def tag_spanish(languages):\n",
    "    languages_list = languages.split(\";\")\n",
    "    if \"Spanish\" in languages_list:\n",
    "        return 1\n",
    "    else:\n",
    "        return 0\n",
    "    \n",
    "exports_new_final[\"spanish\"] = exports_new_final[\"languages\"].apply(tag_spanish) "
   ]
  },
  {
   "cell_type": "code",
   "execution_count": 46,
   "id": "150047e9-1960-4647-ba74-d65f821faf86",
   "metadata": {},
   "outputs": [],
   "source": [
    "#Identify markets where English is an official languae\n",
    "def tag_english(languages):\n",
    "    languages_list = languages.split(\";\")\n",
    "    if \"English\" in languages_list:\n",
    "        return 1\n",
    "    else:\n",
    "        return 0\n",
    "    \n",
    "exports_new_final[\"english\"] = exports_new_final[\"languages\"].apply(tag_english) "
   ]
  },
  {
   "cell_type": "code",
   "execution_count": 47,
   "id": "9e5efbd8-87c9-4c4e-a369-33f9c1f59c02",
   "metadata": {},
   "outputs": [
    {
     "data": {
      "text/html": [
       "<div>\n",
       "<style scoped>\n",
       "    .dataframe tbody tr th:only-of-type {\n",
       "        vertical-align: middle;\n",
       "    }\n",
       "\n",
       "    .dataframe tbody tr th {\n",
       "        vertical-align: top;\n",
       "    }\n",
       "\n",
       "    .dataframe thead th {\n",
       "        text-align: right;\n",
       "    }\n",
       "</style>\n",
       "<table border=\"1\" class=\"dataframe\">\n",
       "  <thead>\n",
       "    <tr style=\"text-align: right;\">\n",
       "      <th></th>\n",
       "      <th>nit</th>\n",
       "      <th>product</th>\n",
       "      <th>market</th>\n",
       "      <th>year</th>\n",
       "      <th>duration</th>\n",
       "      <th>success</th>\n",
       "      <th>pbk</th>\n",
       "      <th>pnk</th>\n",
       "      <th>fobdol</th>\n",
       "      <th>fobpes</th>\n",
       "      <th>...</th>\n",
       "      <th>dpto1</th>\n",
       "      <th>quantity</th>\n",
       "      <th>fta</th>\n",
       "      <th>gdp_pc</th>\n",
       "      <th>region</th>\n",
       "      <th>subregion</th>\n",
       "      <th>languages_dict</th>\n",
       "      <th>languages</th>\n",
       "      <th>spanish</th>\n",
       "      <th>english</th>\n",
       "    </tr>\n",
       "  </thead>\n",
       "  <tbody>\n",
       "    <tr>\n",
       "      <th>0</th>\n",
       "      <td>000002988341</td>\n",
       "      <td>301110090</td>\n",
       "      <td>DEU</td>\n",
       "      <td>19</td>\n",
       "      <td>1</td>\n",
       "      <td>0</td>\n",
       "      <td>403.00</td>\n",
       "      <td>322.40</td>\n",
       "      <td>4495.40</td>\n",
       "      <td>15413063.30</td>\n",
       "      <td>...</td>\n",
       "      <td>11</td>\n",
       "      <td>2</td>\n",
       "      <td>1</td>\n",
       "      <td>54181.28</td>\n",
       "      <td>Europe</td>\n",
       "      <td>Central Europe</td>\n",
       "      <td>[{'iso639_1': 'de', 'iso639_2': 'deu', 'name':...</td>\n",
       "      <td>German</td>\n",
       "      <td>0</td>\n",
       "      <td>0</td>\n",
       "    </tr>\n",
       "    <tr>\n",
       "      <th>1</th>\n",
       "      <td>000002988341</td>\n",
       "      <td>301110090</td>\n",
       "      <td>NOR</td>\n",
       "      <td>19</td>\n",
       "      <td>1</td>\n",
       "      <td>0</td>\n",
       "      <td>174.00</td>\n",
       "      <td>139.20</td>\n",
       "      <td>2096.50</td>\n",
       "      <td>7188122.80</td>\n",
       "      <td>...</td>\n",
       "      <td>11</td>\n",
       "      <td>2</td>\n",
       "      <td>1</td>\n",
       "      <td>63164.04</td>\n",
       "      <td>Europe</td>\n",
       "      <td>Northern Europe</td>\n",
       "      <td>[{'iso639_1': 'no', 'iso639_2': 'nor', 'name':...</td>\n",
       "      <td>Norwegian;Norwegian Bokmål;Norwegian Nynorsk</td>\n",
       "      <td>0</td>\n",
       "      <td>0</td>\n",
       "    </tr>\n",
       "    <tr>\n",
       "      <th>2</th>\n",
       "      <td>000006716172</td>\n",
       "      <td>301110090</td>\n",
       "      <td>CAN</td>\n",
       "      <td>19</td>\n",
       "      <td>1</td>\n",
       "      <td>0</td>\n",
       "      <td>98.11</td>\n",
       "      <td>78.49</td>\n",
       "      <td>1716.93</td>\n",
       "      <td>5889550.64</td>\n",
       "      <td>...</td>\n",
       "      <td>11</td>\n",
       "      <td>5</td>\n",
       "      <td>1</td>\n",
       "      <td>49560.84</td>\n",
       "      <td>Americas</td>\n",
       "      <td>Northern America</td>\n",
       "      <td>[{'iso639_1': 'en', 'iso639_2': 'eng', 'name':...</td>\n",
       "      <td>English;French</td>\n",
       "      <td>0</td>\n",
       "      <td>1</td>\n",
       "    </tr>\n",
       "    <tr>\n",
       "      <th>3</th>\n",
       "      <td>000006716172</td>\n",
       "      <td>301110090</td>\n",
       "      <td>JPN</td>\n",
       "      <td>19</td>\n",
       "      <td>1</td>\n",
       "      <td>0</td>\n",
       "      <td>322.00</td>\n",
       "      <td>257.60</td>\n",
       "      <td>4595.00</td>\n",
       "      <td>15736064.80</td>\n",
       "      <td>...</td>\n",
       "      <td>11</td>\n",
       "      <td>5</td>\n",
       "      <td>0</td>\n",
       "      <td>41699.18</td>\n",
       "      <td>Asia</td>\n",
       "      <td>Eastern Asia</td>\n",
       "      <td>[{'iso639_1': 'ja', 'iso639_2': 'jpn', 'name':...</td>\n",
       "      <td>Japanese</td>\n",
       "      <td>0</td>\n",
       "      <td>0</td>\n",
       "    </tr>\n",
       "    <tr>\n",
       "      <th>4</th>\n",
       "      <td>000010943378</td>\n",
       "      <td>301110090</td>\n",
       "      <td>GBR</td>\n",
       "      <td>19</td>\n",
       "      <td>1</td>\n",
       "      <td>0</td>\n",
       "      <td>186.00</td>\n",
       "      <td>148.80</td>\n",
       "      <td>4126.00</td>\n",
       "      <td>14037972.32</td>\n",
       "      <td>...</td>\n",
       "      <td>11</td>\n",
       "      <td>5</td>\n",
       "      <td>1</td>\n",
       "      <td>47567.99</td>\n",
       "      <td>Europe</td>\n",
       "      <td>Northern Europe</td>\n",
       "      <td>[{'iso639_1': 'en', 'iso639_2': 'eng', 'name':...</td>\n",
       "      <td>English</td>\n",
       "      <td>0</td>\n",
       "      <td>1</td>\n",
       "    </tr>\n",
       "  </tbody>\n",
       "</table>\n",
       "<p>5 rows × 28 columns</p>\n",
       "</div>"
      ],
      "text/plain": [
       "            nit    product market year  duration  success     pbk     pnk  \\\n",
       "0  000002988341  301110090    DEU   19         1        0  403.00  322.40   \n",
       "1  000002988341  301110090    NOR   19         1        0  174.00  139.20   \n",
       "2  000006716172  301110090    CAN   19         1        0   98.11   78.49   \n",
       "3  000006716172  301110090    JPN   19         1        0  322.00  257.60   \n",
       "4  000010943378  301110090    GBR   19         1        0  186.00  148.80   \n",
       "\n",
       "    fobdol       fobpes  ...  dpto1  quantity  fta    gdp_pc    region  \\\n",
       "0  4495.40  15413063.30  ...     11         2    1  54181.28    Europe   \n",
       "1  2096.50   7188122.80  ...     11         2    1  63164.04    Europe   \n",
       "2  1716.93   5889550.64  ...     11         5    1  49560.84  Americas   \n",
       "3  4595.00  15736064.80  ...     11         5    0  41699.18      Asia   \n",
       "4  4126.00  14037972.32  ...     11         5    1  47567.99    Europe   \n",
       "\n",
       "          subregion                                     languages_dict  \\\n",
       "0    Central Europe  [{'iso639_1': 'de', 'iso639_2': 'deu', 'name':...   \n",
       "1   Northern Europe  [{'iso639_1': 'no', 'iso639_2': 'nor', 'name':...   \n",
       "2  Northern America  [{'iso639_1': 'en', 'iso639_2': 'eng', 'name':...   \n",
       "3      Eastern Asia  [{'iso639_1': 'ja', 'iso639_2': 'jpn', 'name':...   \n",
       "4   Northern Europe  [{'iso639_1': 'en', 'iso639_2': 'eng', 'name':...   \n",
       "\n",
       "                                      languages spanish  english  \n",
       "0                                        German       0        0  \n",
       "1  Norwegian;Norwegian Bokmål;Norwegian Nynorsk       0        0  \n",
       "2                                English;French       0        1  \n",
       "3                                      Japanese       0        0  \n",
       "4                                       English       0        1  \n",
       "\n",
       "[5 rows x 28 columns]"
      ]
     },
     "execution_count": 47,
     "metadata": {},
     "output_type": "execute_result"
    }
   ],
   "source": [
    "exports_new_final.head()"
   ]
  },
  {
   "cell_type": "markdown",
   "id": "eb4d9b24-c00f-485e-acc1-121c3cb1df89",
   "metadata": {},
   "source": [
    "## Final Dataset"
   ]
  },
  {
   "cell_type": "code",
   "execution_count": 48,
   "id": "16c37ec8-586b-4f32-835b-15a78b5736ad",
   "metadata": {},
   "outputs": [
    {
     "data": {
      "text/plain": [
       "Index(['nit', 'product', 'market', 'year', 'duration', 'success', 'pbk', 'pnk',\n",
       "       'fobdol', 'fobpes', 'agrena', 'fletes', 'seguro', 'otrosg',\n",
       "       'active_markets', 'active_products', 'exports_value', 'active_years',\n",
       "       'dpto1', 'quantity', 'fta', 'gdp_pc', 'region', 'subregion',\n",
       "       'languages_dict', 'languages', 'spanish', 'english'],\n",
       "      dtype='object')"
      ]
     },
     "execution_count": 48,
     "metadata": {},
     "output_type": "execute_result"
    }
   ],
   "source": [
    "exports_new_final.columns"
   ]
  },
  {
   "cell_type": "code",
   "execution_count": 49,
   "id": "ac4f59f1-43c8-40bf-a071-53ff7a5d1a26",
   "metadata": {},
   "outputs": [
    {
     "data": {
      "text/html": [
       "<div>\n",
       "<style scoped>\n",
       "    .dataframe tbody tr th:only-of-type {\n",
       "        vertical-align: middle;\n",
       "    }\n",
       "\n",
       "    .dataframe tbody tr th {\n",
       "        vertical-align: top;\n",
       "    }\n",
       "\n",
       "    .dataframe thead th {\n",
       "        text-align: right;\n",
       "    }\n",
       "</style>\n",
       "<table border=\"1\" class=\"dataframe\">\n",
       "  <thead>\n",
       "    <tr style=\"text-align: right;\">\n",
       "      <th></th>\n",
       "      <th>nit</th>\n",
       "      <th>product</th>\n",
       "      <th>market</th>\n",
       "      <th>year</th>\n",
       "      <th>duration</th>\n",
       "      <th>success</th>\n",
       "      <th>pbk</th>\n",
       "      <th>pnk</th>\n",
       "      <th>fobdol</th>\n",
       "      <th>fobpes</th>\n",
       "      <th>...</th>\n",
       "      <th>dpto1</th>\n",
       "      <th>quantity</th>\n",
       "      <th>fta</th>\n",
       "      <th>gdp_pc</th>\n",
       "      <th>region</th>\n",
       "      <th>subregion</th>\n",
       "      <th>languages_dict</th>\n",
       "      <th>languages</th>\n",
       "      <th>spanish</th>\n",
       "      <th>english</th>\n",
       "    </tr>\n",
       "  </thead>\n",
       "  <tbody>\n",
       "    <tr>\n",
       "      <th>0</th>\n",
       "      <td>000002988341</td>\n",
       "      <td>301110090</td>\n",
       "      <td>DEU</td>\n",
       "      <td>19</td>\n",
       "      <td>1</td>\n",
       "      <td>0</td>\n",
       "      <td>403.0</td>\n",
       "      <td>322.4</td>\n",
       "      <td>4495.4</td>\n",
       "      <td>15413063.3</td>\n",
       "      <td>...</td>\n",
       "      <td>11</td>\n",
       "      <td>2</td>\n",
       "      <td>1</td>\n",
       "      <td>54181.28</td>\n",
       "      <td>Europe</td>\n",
       "      <td>Central Europe</td>\n",
       "      <td>[{'iso639_1': 'de', 'iso639_2': 'deu', 'name':...</td>\n",
       "      <td>German</td>\n",
       "      <td>0</td>\n",
       "      <td>0</td>\n",
       "    </tr>\n",
       "    <tr>\n",
       "      <th>1</th>\n",
       "      <td>000002988341</td>\n",
       "      <td>301110090</td>\n",
       "      <td>NOR</td>\n",
       "      <td>19</td>\n",
       "      <td>1</td>\n",
       "      <td>0</td>\n",
       "      <td>174.0</td>\n",
       "      <td>139.2</td>\n",
       "      <td>2096.5</td>\n",
       "      <td>7188122.8</td>\n",
       "      <td>...</td>\n",
       "      <td>11</td>\n",
       "      <td>2</td>\n",
       "      <td>1</td>\n",
       "      <td>63164.04</td>\n",
       "      <td>Europe</td>\n",
       "      <td>Northern Europe</td>\n",
       "      <td>[{'iso639_1': 'no', 'iso639_2': 'nor', 'name':...</td>\n",
       "      <td>Norwegian;Norwegian Bokmål;Norwegian Nynorsk</td>\n",
       "      <td>0</td>\n",
       "      <td>0</td>\n",
       "    </tr>\n",
       "  </tbody>\n",
       "</table>\n",
       "<p>2 rows × 28 columns</p>\n",
       "</div>"
      ],
      "text/plain": [
       "            nit    product market year  duration  success    pbk    pnk  \\\n",
       "0  000002988341  301110090    DEU   19         1        0  403.0  322.4   \n",
       "1  000002988341  301110090    NOR   19         1        0  174.0  139.2   \n",
       "\n",
       "   fobdol      fobpes  ...  dpto1  quantity  fta    gdp_pc  region  \\\n",
       "0  4495.4  15413063.3  ...     11         2    1  54181.28  Europe   \n",
       "1  2096.5   7188122.8  ...     11         2    1  63164.04  Europe   \n",
       "\n",
       "         subregion                                     languages_dict  \\\n",
       "0   Central Europe  [{'iso639_1': 'de', 'iso639_2': 'deu', 'name':...   \n",
       "1  Northern Europe  [{'iso639_1': 'no', 'iso639_2': 'nor', 'name':...   \n",
       "\n",
       "                                      languages spanish  english  \n",
       "0                                        German       0        0  \n",
       "1  Norwegian;Norwegian Bokmål;Norwegian Nynorsk       0        0  \n",
       "\n",
       "[2 rows x 28 columns]"
      ]
     },
     "execution_count": 49,
     "metadata": {},
     "output_type": "execute_result"
    }
   ],
   "source": [
    "exports_new_final.head(2)"
   ]
  },
  {
   "cell_type": "code",
   "execution_count": 50,
   "id": "c4f54d52-8ae5-4577-8bff-ccdf0175e28d",
   "metadata": {},
   "outputs": [],
   "source": [
    "#Translate var names\n",
    "exports_new_final.rename({\"nit\":\"exporter\", \"fletes\":\"freight\", \"seguro\":\"insurance\", \"otrosg\":\"other_expenses\",\n",
    "                         \"agrena\":\"product_national\"}, axis=1, inplace=True) "
   ]
  },
  {
   "cell_type": "code",
   "execution_count": 51,
   "id": "461b4a43-2d46-45c3-ab59-41c3f53310a4",
   "metadata": {},
   "outputs": [],
   "source": [
    "#Export final database\n",
    "exports_new_final.to_csv(\"./NewExportersExtended.csv\", sep=\";\", index=False)"
   ]
  }
 ],
 "metadata": {
  "kernelspec": {
   "display_name": "Python 3 (ipykernel)",
   "language": "python",
   "name": "python3"
  },
  "language_info": {
   "codemirror_mode": {
    "name": "ipython",
    "version": 3
   },
   "file_extension": ".py",
   "mimetype": "text/x-python",
   "name": "python",
   "nbconvert_exporter": "python",
   "pygments_lexer": "ipython3",
   "version": "3.10.6"
  }
 },
 "nbformat": 4,
 "nbformat_minor": 5
}
