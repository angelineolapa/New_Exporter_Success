{
 "cells": [
  {
   "cell_type": "markdown",
   "id": "79aadd9b-3b73-4855-891a-79a828a63eae",
   "metadata": {},
   "source": [
    "# Original Export Records 2016 - 2022 (Oct)"
   ]
  },
  {
   "cell_type": "code",
   "execution_count": 1,
   "id": "f498139b-cc69-4cac-9826-7491e2914c7f",
   "metadata": {},
   "outputs": [],
   "source": [
    "## Read and merge csv files with monthly export records"
   ]
  },
  {
   "cell_type": "code",
   "execution_count": 2,
   "id": "e882f1c5-d142-4861-93ae-7c546e7672cf",
   "metadata": {},
   "outputs": [],
   "source": [
    "import numpy as np\n",
    "import pandas as pd\n",
    "from zipfile import ZipFile"
   ]
  },
  {
   "cell_type": "code",
   "execution_count": 3,
   "id": "5977aa66-e516-4a31-917d-242c2f51989a",
   "metadata": {},
   "outputs": [],
   "source": [
    "#Create vectors with year and month info\n",
    "years = list(range(2016,2023))\n",
    "months = [\"Enero\", \"Febrero\", \"Marzo\", \"Abril\", \"Mayo\", \"Junio\", \"Julio\", \"Agosto\", \"Septiembre\", \"Octubre\",\n",
    "         \"Noviembre\", \"Diciembre\"]"
   ]
  },
  {
   "cell_type": "code",
   "execution_count": 4,
   "id": "b32e76d8-2086-43d8-a91f-391a07a063e3",
   "metadata": {},
   "outputs": [
    {
     "data": {
      "text/plain": [
       "'#Loading the temp.zip and creating a zip object\\n    for year in years:\\n    for month in months:        \\n        with ZipFile(\"./Expo_{}/{}.zip\".format(year,month), \\'r\\') as zObject:\\n            # Extracting all the members of the zip into a specific location.\\n            zObject.extractall(path=\"./Expo_{}/{}\".format(year,month))'"
      ]
     },
     "execution_count": 4,
     "metadata": {},
     "output_type": "execute_result"
    }
   ],
   "source": [
    "#Loading the temp.zip and creating a zip object\n",
    "    for year in years:\n",
    "    for month in months:        \n",
    "        with ZipFile(\"./Expo_{}/{}.zip\".format(year,month), 'r') as zObject:\n",
    "            # Extracting all the files of the zip into a specific location.\n",
    "            zObject.extractall(path=\"./Expo_{}/{}\".format(year,month))"
   ]
  },
  {
   "cell_type": "code",
   "execution_count": 5,
   "id": "7fbf44f4-702f-4df6-ae3e-65523b14ced3",
   "metadata": {},
   "outputs": [],
   "source": [
    "exports = pd.DataFrame()"
   ]
  },
  {
   "cell_type": "code",
   "execution_count": 6,
   "id": "f12d0373-689c-4744-bb9e-846e02198a48",
   "metadata": {},
   "outputs": [],
   "source": [
    "numeric = [\"PBK\", \"PNK\", \"FOBDOL\", \"FOBPES\", \"AGRENA\", \"FLETES\", \"SEGURO\", \"OTROSG\"]"
   ]
  },
  {
   "cell_type": "code",
   "execution_count": 7,
   "id": "7ad3d7ed-286b-408c-99f3-6ce8062562c5",
   "metadata": {},
   "outputs": [],
   "source": [
    "#Append export data to empty dataframe\n",
    "\n",
    "for year in years:\n",
    "    for month in months:\n",
    "        if year == 2016 and month!=\"Septiembre\": \n",
    "            separator = \";\"\n",
    "        elif year == 2017 and month!=\"Enero\":\n",
    "            separator = \";\"\n",
    "        elif year == 2018:\n",
    "            separator = \";\"\n",
    "        elif year == 2019 and month == \"Enero\":\n",
    "            separator = \";\"\n",
    "        else:\n",
    "            separator= \",\"\n",
    "        if year==2022 and month==\"Noviembre\":\n",
    "            break\n",
    "        monthly_exports = pd.read_csv(\"./Expo_{}/{}/{}.csv\".format(year,month,month), encoding='latin-1',\n",
    "                                      sep=separator, on_bad_lines=\"skip\", dtype=\"str\")\n",
    "        exports = pd.concat([exports, monthly_exports], ignore_index=True)"
   ]
  },
  {
   "cell_type": "code",
   "execution_count": 8,
   "id": "03c4bc02-0a59-40fc-8ca6-9e5d0df967db",
   "metadata": {},
   "outputs": [],
   "source": [
    "exports[\"FECH\"].fillna(exports[\"ï»¿FECH\"], inplace=True)\n",
    "exports.drop(labels=\"ï»¿FECH\", axis=1, inplace=True)"
   ]
  },
  {
   "cell_type": "code",
   "execution_count": 9,
   "id": "548ab73f-cfd7-423a-919b-ac082db6e541",
   "metadata": {},
   "outputs": [],
   "source": [
    "for var in numeric:\n",
    "    exports[var] = exports[var].str.replace(\",\", \".\")\n",
    "\n",
    "exports[numeric] = exports[numeric].apply(pd.to_numeric)"
   ]
  },
  {
   "cell_type": "code",
   "execution_count": 10,
   "id": "d8254af2-7ee1-4c74-b4e5-b45e28d88be3",
   "metadata": {},
   "outputs": [],
   "source": [
    "#Adjust variable names\n",
    "exports.columns = exports.columns.str.lower()"
   ]
  },
  {
   "cell_type": "markdown",
   "id": "47f4b5e1-0bc6-45e6-82db-6bd7bce6d747",
   "metadata": {
    "tags": []
   },
   "source": [
    "## Database"
   ]
  },
  {
   "cell_type": "code",
   "execution_count": 11,
   "id": "a42ef2b4-df26-4676-954d-4f402a25511e",
   "metadata": {},
   "outputs": [],
   "source": [
    "#Select variables of interest\n",
    "exports = exports[[\"nit\", \"raz_sial\", \"dpto1\", \"posar\", \"cod_pai4\", \"fech\", \"modad\", \"pbk\", \"pnk\", \n",
    "                 \"fobdol\", \"fobpes\", \"agrena\", \"fletes\", \"seguro\", \"otrosg\"]]"
   ]
  },
  {
   "cell_type": "code",
   "execution_count": 12,
   "id": "887b6b49-9482-481e-bab7-4aaf1e9fefe3",
   "metadata": {},
   "outputs": [],
   "source": [
    "#Export resulting dataframe\n",
    "exports.to_csv(\"./ExportRecords.csv\")"
   ]
  }
 ],
 "metadata": {
  "kernelspec": {
   "display_name": "Python 3 (ipykernel)",
   "language": "python",
   "name": "python3"
  },
  "language_info": {
   "codemirror_mode": {
    "name": "ipython",
    "version": 3
   },
   "file_extension": ".py",
   "mimetype": "text/x-python",
   "name": "python",
   "nbconvert_exporter": "python",
   "pygments_lexer": "ipython3",
   "version": "3.10.6"
  }
 },
 "nbformat": 4,
 "nbformat_minor": 5
}
